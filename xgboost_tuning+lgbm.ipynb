{
  "nbformat": 4,
  "nbformat_minor": 0,
  "metadata": {
    "colab": {
      "name": "2xgboost.ipynb",
      "provenance": [],
      "collapsed_sections": [],
      "toc_visible": true,
      "machine_shape": "hm",
      "include_colab_link": true
    },
    "kernelspec": {
      "name": "python3",
      "display_name": "Python 3"
    },
    "accelerator": "TPU"
  },
  "cells": [
    {
      "cell_type": "markdown",
      "metadata": {
        "id": "view-in-github",
        "colab_type": "text"
      },
      "source": [
        "<a href=\"https://colab.research.google.com/github/salminadia/Python-Machine-Learning/blob/master/xgboost_tuning%2Blgbm.ipynb\" target=\"_parent\"><img src=\"https://colab.research.google.com/assets/colab-badge.svg\" alt=\"Open In Colab\"/></a>"
      ]
    },
    {
      "cell_type": "markdown",
      "metadata": {
        "id": "kOvmMfP-WQ0t",
        "colab_type": "text"
      },
      "source": [
        "# **# Loaded data from kaggle API**\n",
        "\n"
      ]
    },
    {
      "cell_type": "code",
      "metadata": {
        "id": "tTOnPnDOp_i0",
        "colab_type": "code",
        "colab": {}
      },
      "source": [
        "\n",
        "# Colab library to upload files to notebook\n",
        "from google.colab import files\n",
        "#Install Kaggle library\n",
        "!pip install -q kaggle"
      ],
      "execution_count": null,
      "outputs": []
    },
    {
      "cell_type": "code",
      "metadata": {
        "id": "G5CpNV_gqqSQ",
        "colab_type": "code",
        "colab": {
          "resources": {
            "http://localhost:8080/nbextensions/google.colab/files.js": {
              "data": "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",
              "ok": true,
              "headers": [
                [
                  "content-type",
                  "application/javascript"
                ]
              ],
              "status": 200,
              "status_text": ""
            }
          },
          "base_uri": "https://localhost:8080/",
          "height": 74
        },
        "outputId": "20976d8e-2f48-4ed2-c44f-c1d90c393094"
      },
      "source": [
        "#Upload kaggle API key file\n",
        "uploaded = files.upload()"
      ],
      "execution_count": null,
      "outputs": [
        {
          "output_type": "display_data",
          "data": {
            "text/html": [
              "\n",
              "     <input type=\"file\" id=\"files-38e025dc-2f99-4fee-96c0-0a820d4cb090\" name=\"files[]\" multiple disabled />\n",
              "     <output id=\"result-38e025dc-2f99-4fee-96c0-0a820d4cb090\">\n",
              "      Upload widget is only available when the cell has been executed in the\n",
              "      current browser session. Please rerun this cell to enable.\n",
              "      </output>\n",
              "      <script src=\"/nbextensions/google.colab/files.js\"></script> "
            ],
            "text/plain": [
              "<IPython.core.display.HTML object>"
            ]
          },
          "metadata": {
            "tags": []
          }
        },
        {
          "output_type": "stream",
          "text": [
            "Saving kaggle.json to kaggle.json\n"
          ],
          "name": "stdout"
        }
      ]
    },
    {
      "cell_type": "code",
      "metadata": {
        "id": "YFRVp_trqv2B",
        "colab_type": "code",
        "colab": {
          "base_uri": "https://localhost:8080/",
          "height": 187
        },
        "outputId": "2b4f4d0c-289d-4018-9767-4f781a1574c5"
      },
      "source": [
        "import os\n",
        "os.environ['KAGGLE_USERNAME'] = \"nadiasalmi\" # username from the json file\n",
        "os.environ['KAGGLE_KEY'] = \"111559c83d6fb4454e6c3764f5976b64\" # key from the json file\n",
        "!kaggle competitions download -c microsoft-malware-prediction # api copied from kaggle"
      ],
      "execution_count": 1,
      "outputs": [
        {
          "output_type": "stream",
          "text": [
            "Warning: Looks like you're using an outdated API Version, please consider updating (server 1.5.6 / client 1.5.4)\n",
            "Downloading test.csv.zip to /content\n",
            " 97% 649M/672M [00:07<00:00, 87.4MB/s]\n",
            "100% 672M/672M [00:07<00:00, 95.4MB/s]\n",
            "Downloading sample_submission.csv.zip to /content\n",
            " 84% 113M/134M [00:01<00:00, 67.4MB/s] \n",
            "100% 134M/134M [00:01<00:00, 77.4MB/s]\n",
            "Downloading train.csv.zip to /content\n",
            " 97% 745M/768M [00:10<00:00, 41.1MB/s]\n",
            "100% 768M/768M [00:10<00:00, 74.5MB/s]\n"
          ],
          "name": "stdout"
        }
      ]
    },
    {
      "cell_type": "code",
      "metadata": {
        "id": "n4cj2OyYq2q4",
        "colab_type": "code",
        "colab": {
          "base_uri": "https://localhost:8080/",
          "height": 119
        },
        "outputId": "5b33da43-285a-4833-bc28-c5d1a9d137fe"
      },
      "source": [
        "!unzip sample_submission.csv.zip\n",
        "!unzip test.csv.zip\n",
        "!unzip train.csv.zip"
      ],
      "execution_count": 2,
      "outputs": [
        {
          "output_type": "stream",
          "text": [
            "Archive:  sample_submission.csv.zip\n",
            "  inflating: sample_submission.csv   \n",
            "Archive:  test.csv.zip\n",
            "  inflating: test.csv                \n",
            "Archive:  train.csv.zip\n",
            "  inflating: train.csv               \n"
          ],
          "name": "stdout"
        }
      ]
    },
    {
      "cell_type": "markdown",
      "metadata": {
        "id": "5h70MytFXQkE",
        "colab_type": "text"
      },
      "source": [
        "# Feature engineering "
      ]
    },
    {
      "cell_type": "code",
      "metadata": {
        "id": "uCuRo38OBXsN",
        "colab_type": "code",
        "colab": {
          "base_uri": "https://localhost:8080/",
          "height": 71
        },
        "outputId": "ec03c878-04b5-4da7-d4bf-6266a3a1d2cd"
      },
      "source": [
        "import numpy as np # linear algebra\n",
        "import pandas as pd # data processing, CSV file I/O (e.g. pd.read_csv)\n",
        "import os\n",
        "import matplotlib\n",
        "import matplotlib.pyplot as plt\n",
        "import seaborn as sns\n",
        "%matplotlib inline\n",
        "import time\n",
        "# en raison des limitations de la mémoire de  et de l'énorme taille du jeu de données, un échantillon de l'ensemble\n",
        "train_sample_fraction = 0.2\n",
        "\n",
        "# Valeurs NA qui dépassent ce taux\n",
        "na_rate_threshold = 0.9\n",
        "\n",
        "#seuil pour supprimer les colonnes avec des caractéristiques déséquilibrées à leurs valeurs \n",
        "unbalanced_feature_rate_threshold = 0.9\n"
      ],
      "execution_count": 3,
      "outputs": [
        {
          "output_type": "stream",
          "text": [
            "/usr/local/lib/python3.6/dist-packages/statsmodels/tools/_testing.py:19: FutureWarning: pandas.util.testing is deprecated. Use the functions in the public API at pandas.testing instead.\n",
            "  import pandas.util.testing as tm\n"
          ],
          "name": "stderr"
        }
      ]
    },
    {
      "cell_type": "code",
      "metadata": {
        "id": "g_mnAifYIRRA",
        "colab_type": "code",
        "colab": {}
      },
      "source": [
        "#l'idée principale de charger le jeu de données et d'économiser de l'espace mémoire !!\n",
        "dtypes = {\n",
        "        'MachineIdentifier':                                    'category',\n",
        "        'ProductName':                                          'category',\n",
        "        'EngineVersion':                                        'category',\n",
        "        'AppVersion':                                           'category',\n",
        "        'AvSigVersion':                                         'category',\n",
        "        'IsBeta':                                               'int8',\n",
        "        'RtpStateBitfield':                                     'float16',\n",
        "        'IsSxsPassiveMode':                                     'int8',\n",
        "        'DefaultBrowsersIdentifier':                            'float16',\n",
        "        'AVProductStatesIdentifier':                            'float32',\n",
        "        'AVProductsInstalled':                                  'float16',\n",
        "        'AVProductsEnabled':                                    'float16',\n",
        "        'HasTpm':                                               'int8',\n",
        "        'CountryIdentifier':                                    'int16',\n",
        "        'CityIdentifier':                                       'float32',\n",
        "        'OrganizationIdentifier':                               'float16',\n",
        "        'GeoNameIdentifier':                                    'float16',\n",
        "        'LocaleEnglishNameIdentifier':                          'int8',\n",
        "        'Platform':                                             'category',\n",
        "        'Processor':                                            'category',\n",
        "        'OsVer':                                                'category',\n",
        "        'OsBuild':                                              'int16',\n",
        "        'OsSuite':                                              'int16',\n",
        "        'OsPlatformSubRelease':                                 'category',\n",
        "        'OsBuildLab':                                           'category',\n",
        "        'SkuEdition':                                           'category',\n",
        "        'IsProtected':                                          'float16',\n",
        "        'AutoSampleOptIn':                                      'int8',\n",
        "        'PuaMode':                                              'category',\n",
        "        'SMode':                                                'float16',\n",
        "        'IeVerIdentifier':                                      'float16',\n",
        "        'SmartScreen':                                          'category',\n",
        "        'Firewall':                                             'float16',\n",
        "        'UacLuaenable':                                         'float32',\n",
        "        'Census_MDC2FormFactor':                                'category',\n",
        "        'Census_DeviceFamily':                                  'category',\n",
        "        'Census_OEMNameIdentifier':                             'float16',\n",
        "        'Census_OEMModelIdentifier':                            'float32',\n",
        "        'Census_ProcessorCoreCount':                            'float16',\n",
        "        'Census_ProcessorManufacturerIdentifier':               'float16',\n",
        "        'Census_ProcessorModelIdentifier':                      'float16',\n",
        "        'Census_ProcessorClass':                                'category',\n",
        "        'Census_PrimaryDiskTotalCapacity':                      'float32',\n",
        "        'Census_PrimaryDiskTypeName':                           'category',\n",
        "        'Census_SystemVolumeTotalCapacity':                     'float32',\n",
        "        'Census_HasOpticalDiskDrive':                           'int8',\n",
        "        'Census_TotalPhysicalRAM':                              'float32',\n",
        "        'Census_ChassisTypeName':                               'category',\n",
        "        'Census_InternalPrimaryDiagonalDisplaySizeInInches':    'float16',\n",
        "        'Census_InternalPrimaryDisplayResolutionHorizontal':    'float16',\n",
        "        'Census_InternalPrimaryDisplayResolutionVertical':      'float16',\n",
        "        'Census_PowerPlatformRoleName':                         'category',\n",
        "        'Census_InternalBatteryType':                           'category',\n",
        "        'Census_InternalBatteryNumberOfCharges':                'float32',\n",
        "        'Census_OSVersion':                                     'category',\n",
        "        'Census_OSArchitecture':                                'category',\n",
        "        'Census_OSBranch':                                      'category',\n",
        "        'Census_OSBuildNumber':                                 'int16',\n",
        "        'Census_OSBuildRevision':                               'int32',\n",
        "        'Census_OSEdition':                                     'category',\n",
        "        'Census_OSSkuName':                                     'category',\n",
        "        'Census_OSInstallTypeName':                             'category',\n",
        "        'Census_OSInstallLanguageIdentifier':                   'float16',\n",
        "        'Census_OSUILocaleIdentifier':                          'int16',\n",
        "        'Census_OSWUAutoUpdateOptionsName':                     'category',\n",
        "        'Census_IsPortableOperatingSystem':                     'int8',\n",
        "        'Census_GenuineStateName':                              'category',\n",
        "        'Census_ActivationChannel':                             'category',\n",
        "        'Census_IsFlightingInternal':                           'float16',\n",
        "        'Census_IsFlightsDisabled':                             'float16',\n",
        "        'Census_FlightRing':                                    'category',\n",
        "        'Census_ThresholdOptIn':                                'float16',\n",
        "        'Census_FirmwareManufacturerIdentifier':                'float16',\n",
        "        'Census_FirmwareVersionIdentifier':                     'float32',\n",
        "        'Census_IsSecureBootEnabled':                           'int8',\n",
        "        'Census_IsWIMBootEnabled':                              'float16',\n",
        "        'Census_IsVirtualDevice':                               'float16',\n",
        "        'Census_IsTouchEnabled':                                'int8',\n",
        "        'Census_IsPenCapable':                                  'int8',\n",
        "        'Census_IsAlwaysOnAlwaysConnectedCapable':              'float16',\n",
        "        'Wdft_IsGamer':                                         'float16',\n",
        "        'Wdft_RegionIdentifier':                                'float16',\n",
        "        'HasDetections':                                        'int8'\n",
        "        }\n",
        "\n",
        "def reduce_mem_usage(df, verbose=True):\n",
        "    numerics = ['int16', 'int32', 'int64', 'float16', 'float32', 'float64']\n",
        "    start_mem = df.memory_usage(deep=True).sum() / 1024**2    \n",
        "    for col in df.columns:\n",
        "        col_type = df[col].dtypes\n",
        "        if col_type in numerics:\n",
        "            c_min = df[col].min()\n",
        "            c_max = df[col].max()\n",
        "            if str(col_type)[:3] == 'int':\n",
        "                if c_min > np.iinfo(np.int8).min and c_max < np.iinfo(np.int8).max:\n",
        "                    df[col] = df[col].astype(np.int8)\n",
        "                elif c_min > np.iinfo(np.int16).min and c_max < np.iinfo(np.int16).max:\n",
        "                    df[col] = df[col].astype(np.int16)\n",
        "                elif c_min > np.iinfo(np.int32).min and c_max < np.iinfo(np.int32).max:\n",
        "                    df[col] = df[col].astype(np.int32)\n",
        "                elif c_min > np.iinfo(np.int64).min and c_max < np.iinfo(np.int64).max:\n",
        "                    df[col] = df[col].astype(np.int64)  \n",
        "            else:\n",
        "                if c_min > np.finfo(np.float16).min and c_max < np.finfo(np.float16).max:\n",
        "                    df[col] = df[col].astype(np.float16)\n",
        "                elif c_min > np.finfo(np.float32).min and c_max < np.finfo(np.float32).max:\n",
        "                    df[col] = df[col].astype(np.float32)\n",
        "                else:\n",
        "                    df[col] = df[col].astype(np.float64)    \n",
        "    end_mem = df.memory_usage(deep=True).sum() / 1024**2\n",
        "    if verbose: print('Mem. usage decreased to {:5.2f} Mb ({:.1f}% reduction)'.format(end_mem, 100 * (start_mem - end_mem) / start_mem))\n",
        "    return df"
      ],
      "execution_count": 4,
      "outputs": []
    },
    {
      "cell_type": "markdown",
      "metadata": {
        "id": "i1-hAQZQY6Ci",
        "colab_type": "text"
      },
      "source": [
        "*Base d'entrainement*\n",
        "\n",
        "---\n",
        "\n"
      ]
    },
    {
      "cell_type": "code",
      "metadata": {
        "id": "IU32ZQPfIbRn",
        "colab_type": "code",
        "colab": {
          "base_uri": "https://localhost:8080/",
          "height": 51
        },
        "outputId": "34de1a46-ae2f-483d-bc57-6cf6844cca08"
      },
      "source": [
        "%%time\n",
        "train = pd.read_csv('train.csv', dtype=dtypes)"
      ],
      "execution_count": 5,
      "outputs": [
        {
          "output_type": "stream",
          "text": [
            "CPU times: user 2min 35s, sys: 7.3 s, total: 2min 42s\n",
            "Wall time: 2min 46s\n"
          ],
          "name": "stdout"
        }
      ]
    },
    {
      "cell_type": "code",
      "metadata": {
        "id": "tP7SWmvMJp9X",
        "colab_type": "code",
        "colab": {}
      },
      "source": [
        "good_cols = list(train.columns)\n",
        "\n",
        "for col in train.columns:\n",
        "    \n",
        "# supprimer les colonnes avec un taux NA élevé\n",
        "    na_rate = train[col].isnull().sum() / train.shape[0]\n",
        "    \n",
        "    # supprimer les colonnes avec un taux élevé de valeurs asymétriques\n",
        "    unbalanced_rate = train[col].value_counts(normalize=True, dropna=False).values[0]\n",
        "    \n",
        "    if na_rate > na_rate_threshold:\n",
        "        good_cols.remove(col)\n",
        "    elif unbalanced_rate > unbalanced_feature_rate_threshold:\n",
        "        good_cols.remove(col)"
      ],
      "execution_count": 6,
      "outputs": []
    },
    {
      "cell_type": "code",
      "metadata": {
        "id": "cJNzX3H5JzME",
        "colab_type": "code",
        "colab": {
          "base_uri": "https://localhost:8080/",
          "height": 986
        },
        "outputId": "16549b06-5320-454e-8838-3d41e2b215ee"
      },
      "source": [
        "good_cols"
      ],
      "execution_count": 7,
      "outputs": [
        {
          "output_type": "execute_result",
          "data": {
            "text/plain": [
              "['MachineIdentifier',\n",
              " 'EngineVersion',\n",
              " 'AppVersion',\n",
              " 'AvSigVersion',\n",
              " 'AVProductStatesIdentifier',\n",
              " 'AVProductsInstalled',\n",
              " 'CountryIdentifier',\n",
              " 'CityIdentifier',\n",
              " 'OrganizationIdentifier',\n",
              " 'GeoNameIdentifier',\n",
              " 'LocaleEnglishNameIdentifier',\n",
              " 'OsBuild',\n",
              " 'OsSuite',\n",
              " 'OsPlatformSubRelease',\n",
              " 'OsBuildLab',\n",
              " 'SkuEdition',\n",
              " 'IeVerIdentifier',\n",
              " 'SmartScreen',\n",
              " 'Census_MDC2FormFactor',\n",
              " 'Census_OEMNameIdentifier',\n",
              " 'Census_OEMModelIdentifier',\n",
              " 'Census_ProcessorCoreCount',\n",
              " 'Census_ProcessorManufacturerIdentifier',\n",
              " 'Census_ProcessorModelIdentifier',\n",
              " 'Census_PrimaryDiskTotalCapacity',\n",
              " 'Census_PrimaryDiskTypeName',\n",
              " 'Census_SystemVolumeTotalCapacity',\n",
              " 'Census_TotalPhysicalRAM',\n",
              " 'Census_ChassisTypeName',\n",
              " 'Census_InternalPrimaryDiagonalDisplaySizeInInches',\n",
              " 'Census_InternalPrimaryDisplayResolutionHorizontal',\n",
              " 'Census_InternalPrimaryDisplayResolutionVertical',\n",
              " 'Census_PowerPlatformRoleName',\n",
              " 'Census_InternalBatteryType',\n",
              " 'Census_InternalBatteryNumberOfCharges',\n",
              " 'Census_OSVersion',\n",
              " 'Census_OSBranch',\n",
              " 'Census_OSBuildNumber',\n",
              " 'Census_OSBuildRevision',\n",
              " 'Census_OSEdition',\n",
              " 'Census_OSSkuName',\n",
              " 'Census_OSInstallTypeName',\n",
              " 'Census_OSInstallLanguageIdentifier',\n",
              " 'Census_OSUILocaleIdentifier',\n",
              " 'Census_OSWUAutoUpdateOptionsName',\n",
              " 'Census_GenuineStateName',\n",
              " 'Census_ActivationChannel',\n",
              " 'Census_IsFlightingInternal',\n",
              " 'Census_ThresholdOptIn',\n",
              " 'Census_FirmwareManufacturerIdentifier',\n",
              " 'Census_FirmwareVersionIdentifier',\n",
              " 'Census_IsSecureBootEnabled',\n",
              " 'Census_IsWIMBootEnabled',\n",
              " 'Census_IsTouchEnabled',\n",
              " 'Wdft_IsGamer',\n",
              " 'Wdft_RegionIdentifier',\n",
              " 'HasDetections']"
            ]
          },
          "metadata": {
            "tags": []
          },
          "execution_count": 7
        }
      ]
    },
    {
      "cell_type": "code",
      "metadata": {
        "id": "Ip_Zs8C0J5Pe",
        "colab_type": "code",
        "colab": {}
      },
      "source": [
        "train = train[good_cols]"
      ],
      "execution_count": 8,
      "outputs": []
    },
    {
      "cell_type": "code",
      "metadata": {
        "id": "QUDRdJaoKnun",
        "colab_type": "code",
        "colab": {
          "base_uri": "https://localhost:8080/",
          "height": 34
        },
        "outputId": "69d68105-c96b-4b77-acff-19c4cbbbd51d"
      },
      "source": [
        "import gc\n",
        "\n",
        "gc.collect()"
      ],
      "execution_count": 9,
      "outputs": [
        {
          "output_type": "execute_result",
          "data": {
            "text/plain": [
              "0"
            ]
          },
          "metadata": {
            "tags": []
          },
          "execution_count": 9
        }
      ]
    },
    {
      "cell_type": "code",
      "metadata": {
        "id": "-Zi4VJ6xkNDq",
        "colab_type": "code",
        "colab": {
          "base_uri": "https://localhost:8080/",
          "height": 34
        },
        "outputId": "afaf1c67-383a-4d25-cb37-a50204ee189d"
      },
      "source": [
        "train.shape"
      ],
      "execution_count": 10,
      "outputs": [
        {
          "output_type": "execute_result",
          "data": {
            "text/plain": [
              "(8921483, 57)"
            ]
          },
          "metadata": {
            "tags": []
          },
          "execution_count": 10
        }
      ]
    },
    {
      "cell_type": "code",
      "metadata": {
        "id": "atrkA1YqKsHL",
        "colab_type": "code",
        "colab": {}
      },
      "source": [
        "categorical_columns = list(train.loc[:, train.dtypes ==\"category\"].columns)\n",
        "numerical_and_binary_columns = list(train.loc[:, train.dtypes !=\"category\"].columns)\n",
        "numerical_columns = numerical_and_binary_columns\n",
        "\n",
        "categorical_columns.remove(\"MachineIdentifier\")\n",
        "\n",
        "binary_columns = []\n",
        "for col in (numerical_and_binary_columns):\n",
        "    if train[col].nunique() == 2:\n",
        "        binary_columns.append(col)\n",
        "        numerical_columns.remove(col)"
      ],
      "execution_count": 11,
      "outputs": []
    },
    {
      "cell_type": "code",
      "metadata": {
        "id": "neXThpJVKzAb",
        "colab_type": "code",
        "colab": {}
      },
      "source": [
        "import gc\n",
        "train_sample = train.sample(frac=train_sample_fraction, random_state=42)\n",
        "\n"
      ],
      "execution_count": 12,
      "outputs": []
    },
    {
      "cell_type": "code",
      "metadata": {
        "id": "xivqLINDK4dO",
        "colab_type": "code",
        "colab": {
          "base_uri": "https://localhost:8080/",
          "height": 34
        },
        "outputId": "3a0465b1-87af-4d4c-b72f-e02fcd5d87e3"
      },
      "source": [
        "train_sample.shape"
      ],
      "execution_count": 13,
      "outputs": [
        {
          "output_type": "execute_result",
          "data": {
            "text/plain": [
              "(1784297, 57)"
            ]
          },
          "metadata": {
            "tags": []
          },
          "execution_count": 13
        }
      ]
    },
    {
      "cell_type": "markdown",
      "metadata": {
        "id": "Rom8KsrKckQO",
        "colab_type": "text"
      },
      "source": [
        "**Base de test**\n",
        "\n",
        "---\n",
        "\n"
      ]
    },
    {
      "cell_type": "code",
      "metadata": {
        "id": "LWMxfRVkK89i",
        "colab_type": "code",
        "colab": {}
      },
      "source": [
        "test_dtypes = {k: v for k, v in dtypes.items() if k in good_cols}\n",
        "\n",
        "# get all columns except\n",
        "test = pd.read_csv('test.csv', dtype=test_dtypes, usecols=good_cols[:-1])\n",
        "\n",
        "#test = reduce_mem_usage(test)"
      ],
      "execution_count": 14,
      "outputs": []
    },
    {
      "cell_type": "code",
      "metadata": {
        "id": "Wj2AlY9IFubc",
        "colab_type": "code",
        "colab": {}
      },
      "source": [
        "train_ids = train_sample['MachineIdentifier']\n",
        "test_ids = test['MachineIdentifier']"
      ],
      "execution_count": 15,
      "outputs": []
    },
    {
      "cell_type": "code",
      "metadata": {
        "id": "Z4h8QupaLtdA",
        "colab_type": "code",
        "colab": {}
      },
      "source": [
        "#supprission des targets pour faciliter l'encoding\n",
        "train_sample = train_sample.drop(['MachineIdentifier'], axis=1)\n",
        "test = test.drop(['MachineIdentifier'], axis=1)"
      ],
      "execution_count": 16,
      "outputs": []
    },
    {
      "cell_type": "code",
      "metadata": {
        "id": "8oT0sDvOL0og",
        "colab_type": "code",
        "colab": {}
      },
      "source": [
        "train_sample = train_sample.reset_index(drop=True)"
      ],
      "execution_count": 17,
      "outputs": []
    },
    {
      "cell_type": "code",
      "metadata": {
        "id": "BjQ8cKM9L4oX",
        "colab_type": "code",
        "colab": {}
      },
      "source": [
        "#Remplir les valeurs NA avec le mode statistique\n",
        "modes = train_sample.mode()\n",
        "\n",
        "for col in train_sample.columns:\n",
        "    train_sample[col] = np.where(train_sample[col].isnull(), modes[col], train_sample[col])\n",
        "\n",
        "del modes"
      ],
      "execution_count": 18,
      "outputs": []
    },
    {
      "cell_type": "code",
      "metadata": {
        "id": "5pchGkLfMP2w",
        "colab_type": "code",
        "colab": {}
      },
      "source": [
        "#Remplir les valeurs NA avec le mode statistique\n",
        "modes_test = test.mode()\n",
        "\n",
        "for col in test.columns:\n",
        "    test[col] = np.where(test[col].isnull(), modes_test[col], test[col])\n",
        "\n",
        "#train_sample.shape\n",
        "del modes_test"
      ],
      "execution_count": 19,
      "outputs": []
    },
    {
      "cell_type": "code",
      "metadata": {
        "id": "D31xX6VnM2xo",
        "colab_type": "code",
        "colab": {}
      },
      "source": [
        "#Encoder les fonctionnalités catégorielles (train)\n",
        "from sklearn.preprocessing import LabelEncoder\n",
        "from sklearn.preprocessing import OneHotEncoder\n",
        "\n",
        "def MultiLabelEncoder(columnlist,dataframe):\n",
        "    for i in columnlist:\n",
        "        #print(i)\n",
        "        labelencoder_X=LabelEncoder()\n",
        "        dataframe[i]=labelencoder_X.fit_transform(dataframe[i])\n",
        "\n",
        "MultiLabelEncoder(categorical_columns, train_sample)"
      ],
      "execution_count": 20,
      "outputs": []
    },
    {
      "cell_type": "code",
      "metadata": {
        "id": "SVbexuoGNCjF",
        "colab_type": "code",
        "colab": {}
      },
      "source": [
        "#Encoder les fonctionnalités catégorielles(test)\n",
        "from sklearn.preprocessing import LabelEncoder\n",
        "from sklearn.preprocessing import OneHotEncoder\n",
        "\n",
        "def MultiLabelEncoder(columnlist,dataframe):\n",
        "    for i in columnlist:\n",
        "        #print(i)\n",
        "        labelencoder_X=LabelEncoder()\n",
        "        dataframe[i]=labelencoder_X.fit_transform(dataframe[i])\n",
        "\n",
        "MultiLabelEncoder(categorical_columns, test)"
      ],
      "execution_count": 21,
      "outputs": []
    },
    {
      "cell_type": "code",
      "metadata": {
        "id": "2Wze3v0ANZCU",
        "colab_type": "code",
        "colab": {}
      },
      "source": [
        "train_cols = [c for c in train_sample.columns if c not in [\"HasDetections\"]]\n",
        "y_train = train_sample[\"HasDetections\"]"
      ],
      "execution_count": 22,
      "outputs": []
    },
    {
      "cell_type": "code",
      "metadata": {
        "id": "3rN2hqbXN0Pg",
        "colab_type": "code",
        "colab": {
          "base_uri": "https://localhost:8080/",
          "height": 68
        },
        "outputId": "194c1c7c-e05c-4b20-90b7-2542eebf942a"
      },
      "source": [
        "y_train.value_counts()"
      ],
      "execution_count": 23,
      "outputs": [
        {
          "output_type": "execute_result",
          "data": {
            "text/plain": [
              "0    893061\n",
              "1    891236\n",
              "Name: HasDetections, dtype: int64"
            ]
          },
          "metadata": {
            "tags": []
          },
          "execution_count": 23
        }
      ]
    },
    {
      "cell_type": "code",
      "metadata": {
        "id": "aXBf0V0389Hi",
        "colab_type": "code",
        "colab": {}
      },
      "source": [
        "y = train_sample['HasDetections']\n",
        "X = train_sample.drop(['HasDetections'], axis=1)"
      ],
      "execution_count": 24,
      "outputs": []
    },
    {
      "cell_type": "code",
      "metadata": {
        "id": "NkL7M2oJyae-",
        "colab_type": "code",
        "colab": {}
      },
      "source": [
        "from google.colab import drive\n",
        "drive.mount('/content/drive')"
      ],
      "execution_count": null,
      "outputs": []
    },
    {
      "cell_type": "markdown",
      "metadata": {
        "id": "nHT1aDdedJQP",
        "colab_type": "text"
      },
      "source": [
        "**Importation des librairies**\n",
        "\n",
        "---\n",
        "\n"
      ]
    },
    {
      "cell_type": "code",
      "metadata": {
        "id": "WVmEnKQ9NTJ6",
        "colab_type": "code",
        "colab": {}
      },
      "source": [
        "import numpy as np \n",
        "import pandas as pd \n",
        "import gc\n",
        "import seaborn as sns\n",
        "import matplotlib.pyplot as plt\n",
        "import warnings\n",
        "warnings.filterwarnings('ignore')\n",
        "from sklearn.model_selection import StratifiedKFold\n",
        "from sklearn.metrics import roc_auc_score, f1_score,  precision_score, recall_score, confusion_matrix,accuracy_score\n",
        "import xgboost as xgb"
      ],
      "execution_count": 25,
      "outputs": []
    },
    {
      "cell_type": "code",
      "metadata": {
        "id": "3CNsgpBheaJu",
        "colab_type": "code",
        "colab": {
          "base_uri": "https://localhost:8080/",
          "height": 275
        },
        "outputId": "948d15d0-f9a6-4778-e07e-9d49bb87ff2a"
      },
      "source": [
        "! pip install scikit-plot"
      ],
      "execution_count": null,
      "outputs": [
        {
          "output_type": "stream",
          "text": [
            "Collecting scikit-plot\n",
            "  Downloading https://files.pythonhosted.org/packages/7c/47/32520e259340c140a4ad27c1b97050dd3254fdc517b1d59974d47037510e/scikit_plot-0.3.7-py3-none-any.whl\n",
            "Requirement already satisfied: scikit-learn>=0.18 in /usr/local/lib/python3.6/dist-packages (from scikit-plot) (0.22.2.post1)\n",
            "Requirement already satisfied: joblib>=0.10 in /usr/local/lib/python3.6/dist-packages (from scikit-plot) (0.15.1)\n",
            "Requirement already satisfied: matplotlib>=1.4.0 in /usr/local/lib/python3.6/dist-packages (from scikit-plot) (3.2.2)\n",
            "Requirement already satisfied: scipy>=0.9 in /usr/local/lib/python3.6/dist-packages (from scikit-plot) (1.4.1)\n",
            "Requirement already satisfied: numpy>=1.11.0 in /usr/local/lib/python3.6/dist-packages (from scikit-learn>=0.18->scikit-plot) (1.18.5)\n",
            "Requirement already satisfied: pyparsing!=2.0.4,!=2.1.2,!=2.1.6,>=2.0.1 in /usr/local/lib/python3.6/dist-packages (from matplotlib>=1.4.0->scikit-plot) (2.4.7)\n",
            "Requirement already satisfied: kiwisolver>=1.0.1 in /usr/local/lib/python3.6/dist-packages (from matplotlib>=1.4.0->scikit-plot) (1.2.0)\n",
            "Requirement already satisfied: python-dateutil>=2.1 in /usr/local/lib/python3.6/dist-packages (from matplotlib>=1.4.0->scikit-plot) (2.8.1)\n",
            "Requirement already satisfied: cycler>=0.10 in /usr/local/lib/python3.6/dist-packages (from matplotlib>=1.4.0->scikit-plot) (0.10.0)\n",
            "Requirement already satisfied: six>=1.5 in /usr/local/lib/python3.6/dist-packages (from python-dateutil>=2.1->matplotlib>=1.4.0->scikit-plot) (1.12.0)\n",
            "Installing collected packages: scikit-plot\n",
            "Successfully installed scikit-plot-0.3.7\n"
          ],
          "name": "stdout"
        }
      ]
    },
    {
      "cell_type": "markdown",
      "metadata": {
        "id": "gSkgHvZ0YZaS",
        "colab_type": "text"
      },
      "source": [
        "# algorithme xgboost baseline"
      ]
    },
    {
      "cell_type": "code",
      "metadata": {
        "id": "5nSCmuE6OK4N",
        "colab_type": "code",
        "colab": {}
      },
      "source": [
        "folds = StratifiedKFold(n_splits=5, shuffle=True, random_state=1001)"
      ],
      "execution_count": 26,
      "outputs": []
    },
    {
      "cell_type": "code",
      "metadata": {
        "id": "kcalPxF_OPa9",
        "colab_type": "code",
        "colab": {}
      },
      "source": [
        "params = {'tree_method': 'hist',\n",
        "          #régression logistique pour la classification binaire, probabilité de sortie\n",
        " 'objective': 'binary:logistic',\n",
        " 'eval_metric': 'auc',\n",
        " 'learning_rate': 0.0936165921314771,\n",
        " 'max_depth': 2,\n",
        " 'colsample_bytree': 0.3561271102144279,\n",
        " 'subsample': 0.8246604621518232,\n",
        " 'min_child_weight': 53,\n",
        " 'gamma': 9.943467991283027,\n",
        " 'silent': 1}            \n",
        "                        "
      ],
      "execution_count": null,
      "outputs": []
    },
    {
      "cell_type": "code",
      "metadata": {
        "colab_type": "code",
        "id": "3mLigYykZR2d",
        "colab": {
          "base_uri": "https://localhost:8080/",
          "height": 1000
        },
        "outputId": "be298d67-527e-4c49-a154-c57363168dce"
      },
      "source": [
        "%%time\n",
        "\n",
        "oof_preds = np.zeros(train_sample.shape[0])\n",
        "sub_preds = np.zeros(test.shape[0])\n",
        "\n",
        "feature_importance_df = pd.DataFrame()\n",
        "\n",
        "for n_fold, (trn_idx, val_idx) in enumerate(folds.split(train_sample, y_train)):\n",
        "    \n",
        "    trn_x, trn_y = train_sample[train_cols].iloc[trn_idx], y_train.iloc[trn_idx]\n",
        "    val_x, val_y = train_sample[train_cols].iloc[val_idx], y_train.iloc[val_idx]\n",
        "    \n",
        "    dtrain = xgb.DMatrix(trn_x, trn_y, feature_names=trn_x.columns)\n",
        "    dval = xgb.DMatrix(val_x, val_y, feature_names=val_x.columns)\n",
        "    \n",
        "    clf = xgb.train(params=params, dtrain=dtrain, num_boost_round=4000, evals=[(dtrain, \"Train\"), (dval, \"Val\")],\n",
        "        verbose_eval= 100, early_stopping_rounds=50) \n",
        "    \n",
        "    oof_preds[val_idx] = clf.predict(xgb.DMatrix(val_x))\n",
        "    sub_preds += clf.predict(xgb.DMatrix(test[train_cols])) / folds.n_splits\n",
        "\n",
        "    fold_importance_df = pd.DataFrame()\n",
        "    fold_importance_df[\"feature\"] = pd.DataFrame.from_dict(data=clf.get_fscore(), orient=\"index\", columns=[\"FScore\"])[\"FScore\"].index\n",
        "    fold_importance_df[\"fscore\"] = pd.DataFrame.from_dict(data=clf.get_fscore(), orient=\"index\", columns=[\"FScore\"])[\"FScore\"].values\n",
        "    fold_importance_df[\"fold\"] = n_fold + 1\n",
        "    feature_importance_df = pd.concat([feature_importance_df, fold_importance_df], axis=0)\n",
        "\n",
        "    print('\\nFold %1d AUC %.6f & std %.6f' %(n_fold + 1, roc_auc_score(val_y, oof_preds[val_idx]), np.std([oof_preds[val_idx]])))\n",
        "    print('Fold %1d Precision %.6f' %(n_fold + 1, precision_score(val_y, np.round(oof_preds[val_idx])) ))\n",
        "    print('Fold %1d Recall %.6f' %(n_fold + 1, recall_score(val_y, np.round(oof_preds[val_idx]) )))\n",
        "    print('Fold %1d F1 score %.6f' % (n_fold + 1,f1_score(val_y, np.round(oof_preds[val_idx]))))\n",
        "    gc.collect()\n",
        "\n",
        "print('\\nCV AUC score %.6f & std %.6f' % (roc_auc_score(y_train, oof_preds), np.std((oof_preds))))\n",
        "print('Cross validation Precision score %.6f' % (precision_score(y_train, np.round(oof_preds))))\n",
        "print('Cross validation Recall score %.6f' % (recall_score(y_train, np.round(oof_preds))))\n",
        "print('Cross validation F1 score %.6f' % (f1_score(y_train, np.round(oof_preds))))\n"
      ],
      "execution_count": null,
      "outputs": [
        {
          "output_type": "stream",
          "text": [
            "[0]\tTrain-auc:0.58549\tVal-auc:0.584267\n",
            "Multiple eval metrics have been passed: 'Val-auc' will be used for early stopping.\n",
            "\n",
            "Will train until Val-auc hasn't improved in 50 rounds.\n",
            "[100]\tTrain-auc:0.685454\tVal-auc:0.683122\n",
            "[200]\tTrain-auc:0.691776\tVal-auc:0.689482\n",
            "[300]\tTrain-auc:0.695275\tVal-auc:0.693034\n",
            "[400]\tTrain-auc:0.697553\tVal-auc:0.695322\n",
            "[500]\tTrain-auc:0.699634\tVal-auc:0.697447\n",
            "[600]\tTrain-auc:0.701072\tVal-auc:0.698842\n",
            "[700]\tTrain-auc:0.702374\tVal-auc:0.700149\n",
            "[800]\tTrain-auc:0.703658\tVal-auc:0.701427\n",
            "[900]\tTrain-auc:0.704832\tVal-auc:0.702628\n",
            "[1000]\tTrain-auc:0.705654\tVal-auc:0.703427\n",
            "[1100]\tTrain-auc:0.706473\tVal-auc:0.704174\n",
            "[1200]\tTrain-auc:0.707076\tVal-auc:0.704794\n",
            "[1300]\tTrain-auc:0.707728\tVal-auc:0.705425\n",
            "[1400]\tTrain-auc:0.708234\tVal-auc:0.705931\n",
            "[1500]\tTrain-auc:0.708629\tVal-auc:0.706298\n",
            "[1600]\tTrain-auc:0.709048\tVal-auc:0.706701\n",
            "[1700]\tTrain-auc:0.709484\tVal-auc:0.707104\n",
            "[1800]\tTrain-auc:0.709851\tVal-auc:0.707487\n",
            "[1900]\tTrain-auc:0.710127\tVal-auc:0.707731\n",
            "[2000]\tTrain-auc:0.710451\tVal-auc:0.708018\n",
            "[2100]\tTrain-auc:0.710762\tVal-auc:0.708329\n",
            "[2200]\tTrain-auc:0.711045\tVal-auc:0.708585\n",
            "[2300]\tTrain-auc:0.711316\tVal-auc:0.708833\n",
            "[2400]\tTrain-auc:0.711545\tVal-auc:0.709022\n",
            "[2500]\tTrain-auc:0.711788\tVal-auc:0.709236\n",
            "[2600]\tTrain-auc:0.712004\tVal-auc:0.709447\n",
            "[2700]\tTrain-auc:0.712216\tVal-auc:0.709628\n",
            "[2800]\tTrain-auc:0.712417\tVal-auc:0.709825\n",
            "[2900]\tTrain-auc:0.712587\tVal-auc:0.709971\n",
            "[3000]\tTrain-auc:0.712728\tVal-auc:0.710111\n",
            "[3100]\tTrain-auc:0.712867\tVal-auc:0.710245\n",
            "[3200]\tTrain-auc:0.71299\tVal-auc:0.710352\n",
            "[3300]\tTrain-auc:0.713139\tVal-auc:0.710484\n",
            "[3400]\tTrain-auc:0.713288\tVal-auc:0.710611\n",
            "[3500]\tTrain-auc:0.713414\tVal-auc:0.710719\n",
            "[3600]\tTrain-auc:0.713539\tVal-auc:0.710827\n",
            "[3700]\tTrain-auc:0.71369\tVal-auc:0.710972\n",
            "[3800]\tTrain-auc:0.713828\tVal-auc:0.711091\n",
            "[3900]\tTrain-auc:0.713959\tVal-auc:0.711217\n",
            "[3999]\tTrain-auc:0.714096\tVal-auc:0.711339\n",
            "\n",
            "Fold 1 AUC 0.711339 & std 0.179436\n",
            "Fold 1 Precision 0.649986\n",
            "Fold 1 Recall 0.648742\n",
            "Fold 1 F1 score 0.649363\n",
            "[0]\tTrain-auc:0.584858\tVal-auc:0.586797\n",
            "Multiple eval metrics have been passed: 'Val-auc' will be used for early stopping.\n",
            "\n",
            "Will train until Val-auc hasn't improved in 50 rounds.\n",
            "[100]\tTrain-auc:0.684217\tVal-auc:0.68571\n",
            "[200]\tTrain-auc:0.691212\tVal-auc:0.692714\n",
            "[300]\tTrain-auc:0.694885\tVal-auc:0.696201\n",
            "[400]\tTrain-auc:0.697094\tVal-auc:0.698253\n",
            "[500]\tTrain-auc:0.698952\tVal-auc:0.699997\n",
            "[600]\tTrain-auc:0.700785\tVal-auc:0.701728\n",
            "[700]\tTrain-auc:0.702371\tVal-auc:0.703164\n",
            "[800]\tTrain-auc:0.703482\tVal-auc:0.704166\n",
            "[900]\tTrain-auc:0.704571\tVal-auc:0.705119\n",
            "[1000]\tTrain-auc:0.705339\tVal-auc:0.705801\n",
            "[1100]\tTrain-auc:0.706084\tVal-auc:0.70645\n",
            "[1200]\tTrain-auc:0.706735\tVal-auc:0.707013\n",
            "[1300]\tTrain-auc:0.707404\tVal-auc:0.707604\n",
            "[1400]\tTrain-auc:0.707984\tVal-auc:0.708126\n",
            "[1500]\tTrain-auc:0.708496\tVal-auc:0.708569\n",
            "[1600]\tTrain-auc:0.708946\tVal-auc:0.708964\n",
            "[1700]\tTrain-auc:0.709418\tVal-auc:0.709367\n",
            "[1800]\tTrain-auc:0.709813\tVal-auc:0.709726\n",
            "[1900]\tTrain-auc:0.710137\tVal-auc:0.710018\n",
            "[2000]\tTrain-auc:0.710405\tVal-auc:0.710217\n",
            "[2100]\tTrain-auc:0.710689\tVal-auc:0.710446\n",
            "[2200]\tTrain-auc:0.710951\tVal-auc:0.710684\n",
            "[2300]\tTrain-auc:0.711186\tVal-auc:0.71089\n",
            "[2400]\tTrain-auc:0.711417\tVal-auc:0.711058\n",
            "[2500]\tTrain-auc:0.711682\tVal-auc:0.711266\n",
            "[2600]\tTrain-auc:0.711873\tVal-auc:0.711408\n",
            "[2700]\tTrain-auc:0.712069\tVal-auc:0.711558\n",
            "[2800]\tTrain-auc:0.712288\tVal-auc:0.711737\n",
            "[2900]\tTrain-auc:0.712414\tVal-auc:0.711869\n",
            "[3000]\tTrain-auc:0.712574\tVal-auc:0.71198\n",
            "[3100]\tTrain-auc:0.71273\tVal-auc:0.712095\n",
            "[3200]\tTrain-auc:0.712894\tVal-auc:0.712242\n",
            "[3300]\tTrain-auc:0.713009\tVal-auc:0.71234\n",
            "[3400]\tTrain-auc:0.713147\tVal-auc:0.712455\n",
            "[3500]\tTrain-auc:0.71326\tVal-auc:0.712525\n",
            "[3600]\tTrain-auc:0.713397\tVal-auc:0.712636\n",
            "[3700]\tTrain-auc:0.713501\tVal-auc:0.712708\n",
            "[3800]\tTrain-auc:0.713603\tVal-auc:0.712791\n",
            "[3900]\tTrain-auc:0.713718\tVal-auc:0.712872\n",
            "[3999]\tTrain-auc:0.71381\tVal-auc:0.71295\n",
            "\n",
            "Fold 2 AUC 0.712950 & std 0.178495\n",
            "Fold 2 Precision 0.652446\n",
            "Fold 2 Recall 0.649935\n",
            "Fold 2 F1 score 0.651188\n",
            "[0]\tTrain-auc:0.585394\tVal-auc:0.584639\n",
            "Multiple eval metrics have been passed: 'Val-auc' will be used for early stopping.\n",
            "\n",
            "Will train until Val-auc hasn't improved in 50 rounds.\n",
            "[100]\tTrain-auc:0.685055\tVal-auc:0.685102\n",
            "[200]\tTrain-auc:0.6917\tVal-auc:0.691597\n",
            "[300]\tTrain-auc:0.69519\tVal-auc:0.694965\n",
            "[400]\tTrain-auc:0.697494\tVal-auc:0.697148\n",
            "[500]\tTrain-auc:0.69927\tVal-auc:0.698857\n",
            "[600]\tTrain-auc:0.700867\tVal-auc:0.700403\n",
            "[700]\tTrain-auc:0.702388\tVal-auc:0.70184\n",
            "[800]\tTrain-auc:0.70347\tVal-auc:0.702872\n",
            "[900]\tTrain-auc:0.704533\tVal-auc:0.703861\n",
            "[1000]\tTrain-auc:0.705411\tVal-auc:0.704655\n",
            "[1100]\tTrain-auc:0.706258\tVal-auc:0.705396\n",
            "[1200]\tTrain-auc:0.707008\tVal-auc:0.706033\n",
            "[1300]\tTrain-auc:0.707609\tVal-auc:0.706525\n",
            "[1400]\tTrain-auc:0.70811\tVal-auc:0.706982\n",
            "[1500]\tTrain-auc:0.708589\tVal-auc:0.707423\n",
            "[1600]\tTrain-auc:0.708964\tVal-auc:0.707738\n",
            "[1700]\tTrain-auc:0.709308\tVal-auc:0.708051\n",
            "[1800]\tTrain-auc:0.709765\tVal-auc:0.70842\n",
            "[1900]\tTrain-auc:0.710163\tVal-auc:0.708749\n",
            "[2000]\tTrain-auc:0.71048\tVal-auc:0.709041\n",
            "[2100]\tTrain-auc:0.710737\tVal-auc:0.709254\n",
            "[2200]\tTrain-auc:0.711016\tVal-auc:0.709485\n",
            "[2300]\tTrain-auc:0.71132\tVal-auc:0.709737\n",
            "[2400]\tTrain-auc:0.711584\tVal-auc:0.709972\n",
            "[2500]\tTrain-auc:0.711803\tVal-auc:0.710177\n",
            "[2600]\tTrain-auc:0.711999\tVal-auc:0.710341\n",
            "[2700]\tTrain-auc:0.712245\tVal-auc:0.710574\n",
            "[2800]\tTrain-auc:0.712462\tVal-auc:0.71075\n",
            "[2900]\tTrain-auc:0.712643\tVal-auc:0.710902\n",
            "[3000]\tTrain-auc:0.712811\tVal-auc:0.711026\n",
            "[3100]\tTrain-auc:0.712992\tVal-auc:0.711164\n",
            "[3200]\tTrain-auc:0.713186\tVal-auc:0.711352\n",
            "[3300]\tTrain-auc:0.713327\tVal-auc:0.711445\n",
            "[3400]\tTrain-auc:0.71343\tVal-auc:0.711523\n",
            "[3500]\tTrain-auc:0.713582\tVal-auc:0.711631\n",
            "[3600]\tTrain-auc:0.713709\tVal-auc:0.711747\n",
            "[3700]\tTrain-auc:0.713871\tVal-auc:0.711891\n",
            "[3800]\tTrain-auc:0.713984\tVal-auc:0.71196\n",
            "[3900]\tTrain-auc:0.714118\tVal-auc:0.712092\n",
            "[3999]\tTrain-auc:0.714256\tVal-auc:0.712215\n",
            "\n",
            "Fold 3 AUC 0.712215 & std 0.179980\n",
            "Fold 3 Precision 0.651165\n",
            "Fold 3 Recall 0.648611\n",
            "Fold 3 F1 score 0.649885\n",
            "[0]\tTrain-auc:0.585391\tVal-auc:0.584646\n",
            "Multiple eval metrics have been passed: 'Val-auc' will be used for early stopping.\n",
            "\n",
            "Will train until Val-auc hasn't improved in 50 rounds.\n",
            "[100]\tTrain-auc:0.685109\tVal-auc:0.684494\n",
            "[200]\tTrain-auc:0.69144\tVal-auc:0.690708\n",
            "[300]\tTrain-auc:0.694864\tVal-auc:0.694113\n",
            "[400]\tTrain-auc:0.697418\tVal-auc:0.696648\n",
            "[500]\tTrain-auc:0.699309\tVal-auc:0.698416\n",
            "[600]\tTrain-auc:0.70107\tVal-auc:0.700119\n",
            "[700]\tTrain-auc:0.702491\tVal-auc:0.701444\n",
            "[800]\tTrain-auc:0.703546\tVal-auc:0.702428\n",
            "[900]\tTrain-auc:0.704719\tVal-auc:0.703544\n",
            "[1000]\tTrain-auc:0.705678\tVal-auc:0.704439\n",
            "[1100]\tTrain-auc:0.706485\tVal-auc:0.70519\n",
            "[1200]\tTrain-auc:0.707081\tVal-auc:0.705733\n",
            "[1300]\tTrain-auc:0.707658\tVal-auc:0.706197\n",
            "[1400]\tTrain-auc:0.708114\tVal-auc:0.706627\n",
            "[1500]\tTrain-auc:0.708525\tVal-auc:0.706978\n",
            "[1600]\tTrain-auc:0.708974\tVal-auc:0.707371\n",
            "[1700]\tTrain-auc:0.709351\tVal-auc:0.707701\n",
            "[1800]\tTrain-auc:0.709691\tVal-auc:0.708\n",
            "[1900]\tTrain-auc:0.710041\tVal-auc:0.708337\n",
            "[2000]\tTrain-auc:0.710411\tVal-auc:0.708696\n",
            "[2100]\tTrain-auc:0.710698\tVal-auc:0.70894\n",
            "[2200]\tTrain-auc:0.710941\tVal-auc:0.709142\n",
            "[2300]\tTrain-auc:0.71121\tVal-auc:0.709377\n",
            "[2400]\tTrain-auc:0.71138\tVal-auc:0.709517\n",
            "[2500]\tTrain-auc:0.711611\tVal-auc:0.709709\n",
            "[2600]\tTrain-auc:0.711812\tVal-auc:0.709874\n",
            "[2700]\tTrain-auc:0.711973\tVal-auc:0.709999\n",
            "[2800]\tTrain-auc:0.712207\tVal-auc:0.710216\n",
            "[2900]\tTrain-auc:0.712398\tVal-auc:0.710356\n",
            "[3000]\tTrain-auc:0.712538\tVal-auc:0.710459\n",
            "[3100]\tTrain-auc:0.712685\tVal-auc:0.710571\n",
            "[3200]\tTrain-auc:0.712798\tVal-auc:0.710665\n",
            "[3300]\tTrain-auc:0.712937\tVal-auc:0.710773\n",
            "[3400]\tTrain-auc:0.71307\tVal-auc:0.710875\n",
            "[3500]\tTrain-auc:0.713235\tVal-auc:0.711013\n",
            "[3600]\tTrain-auc:0.713361\tVal-auc:0.711122\n",
            "[3700]\tTrain-auc:0.713478\tVal-auc:0.71122\n",
            "[3800]\tTrain-auc:0.713559\tVal-auc:0.711275\n",
            "[3900]\tTrain-auc:0.713662\tVal-auc:0.711367\n",
            "[3999]\tTrain-auc:0.713758\tVal-auc:0.711445\n",
            "\n",
            "Fold 4 AUC 0.711445 & std 0.178642\n",
            "Fold 4 Precision 0.650574\n",
            "Fold 4 Recall 0.646541\n",
            "Fold 4 F1 score 0.648551\n",
            "[0]\tTrain-auc:0.585087\tVal-auc:0.585862\n",
            "Multiple eval metrics have been passed: 'Val-auc' will be used for early stopping.\n",
            "\n",
            "Will train until Val-auc hasn't improved in 50 rounds.\n",
            "[100]\tTrain-auc:0.684433\tVal-auc:0.685139\n",
            "[200]\tTrain-auc:0.691711\tVal-auc:0.692299\n",
            "[300]\tTrain-auc:0.694986\tVal-auc:0.695485\n",
            "[400]\tTrain-auc:0.69736\tVal-auc:0.697824\n",
            "[500]\tTrain-auc:0.699184\tVal-auc:0.699556\n",
            "[600]\tTrain-auc:0.700883\tVal-auc:0.70114\n",
            "[700]\tTrain-auc:0.70217\tVal-auc:0.702393\n",
            "[800]\tTrain-auc:0.703332\tVal-auc:0.703499\n",
            "[900]\tTrain-auc:0.704448\tVal-auc:0.704571\n",
            "[1000]\tTrain-auc:0.705484\tVal-auc:0.705525\n",
            "[1100]\tTrain-auc:0.70632\tVal-auc:0.706314\n",
            "[1200]\tTrain-auc:0.707013\tVal-auc:0.706968\n",
            "[1300]\tTrain-auc:0.707603\tVal-auc:0.707544\n",
            "[1400]\tTrain-auc:0.708048\tVal-auc:0.707946\n",
            "[1500]\tTrain-auc:0.708561\tVal-auc:0.708365\n",
            "[1600]\tTrain-auc:0.709048\tVal-auc:0.708821\n",
            "[1700]\tTrain-auc:0.70933\tVal-auc:0.709088\n",
            "[1800]\tTrain-auc:0.709765\tVal-auc:0.709492\n",
            "[1900]\tTrain-auc:0.710127\tVal-auc:0.709795\n",
            "[2000]\tTrain-auc:0.710422\tVal-auc:0.710069\n",
            "[2100]\tTrain-auc:0.710705\tVal-auc:0.710318\n",
            "[2200]\tTrain-auc:0.711\tVal-auc:0.710582\n",
            "[2300]\tTrain-auc:0.711234\tVal-auc:0.710777\n",
            "[2400]\tTrain-auc:0.711467\tVal-auc:0.710982\n",
            "[2500]\tTrain-auc:0.711682\tVal-auc:0.711164\n",
            "[2600]\tTrain-auc:0.711918\tVal-auc:0.711383\n",
            "[2700]\tTrain-auc:0.712074\tVal-auc:0.711519\n",
            "[2800]\tTrain-auc:0.712271\tVal-auc:0.711698\n",
            "[2900]\tTrain-auc:0.712469\tVal-auc:0.711874\n",
            "[3000]\tTrain-auc:0.712659\tVal-auc:0.712039\n",
            "[3100]\tTrain-auc:0.712854\tVal-auc:0.712228\n",
            "[3200]\tTrain-auc:0.713024\tVal-auc:0.712372\n",
            "[3300]\tTrain-auc:0.713161\tVal-auc:0.712476\n",
            "[3400]\tTrain-auc:0.713328\tVal-auc:0.712623\n",
            "[3500]\tTrain-auc:0.713459\tVal-auc:0.712734\n",
            "[3600]\tTrain-auc:0.713574\tVal-auc:0.712846\n",
            "[3700]\tTrain-auc:0.713738\tVal-auc:0.712985\n",
            "[3800]\tTrain-auc:0.713867\tVal-auc:0.713096\n",
            "[3900]\tTrain-auc:0.713988\tVal-auc:0.713204\n",
            "[3999]\tTrain-auc:0.714109\tVal-auc:0.7133\n",
            "\n",
            "Fold 5 AUC 0.713300 & std 0.179761\n",
            "Fold 5 Precision 0.652864\n",
            "Fold 5 Recall 0.647641\n",
            "Fold 5 F1 score 0.650242\n",
            "\n",
            "CV AUC score 0.712247 & std 0.179264\n",
            "Cross validation Precision score 0.651406\n",
            "Cross validation Recall score 0.648294\n",
            "Cross validation F1 score 0.649846\n",
            "CPU times: user 1d 23h 4min 51s, sys: 18min 49s, total: 1d 23h 23min 40s\n",
            "Wall time: 1h 33min 20s\n"
          ],
          "name": "stdout"
        }
      ]
    },
    {
      "cell_type": "code",
      "metadata": {
        "id": "MpqvMZc3hRVv",
        "colab_type": "code",
        "colab": {
          "base_uri": "https://localhost:8080/",
          "height": 346
        },
        "outputId": "a219a201-68df-4c48-89f1-a23d36489b7e"
      },
      "source": [
        "from sklearn.metrics import confusion_matrix\n",
        "import scikitplot as skplt\n",
        "print(confusion_matrix(y_train, np.round(oof_preds)))\n",
        "skplt.metrics.plot_confusion_matrix(y_train, np.round(oof_preds), cmap=\"BrBG\")"
      ],
      "execution_count": null,
      "outputs": [
        {
          "output_type": "stream",
          "text": [
            "[[583865 309196]\n",
            " [313453 577783]]\n"
          ],
          "name": "stdout"
        },
        {
          "output_type": "execute_result",
          "data": {
            "text/plain": [
              "<matplotlib.axes._subplots.AxesSubplot at 0x7fae269661d0>"
            ]
          },
          "metadata": {
            "tags": []
          },
          "execution_count": 31
        },
        {
          "output_type": "display_data",
          "data": {
            "image/png": "[encoded data removed]",
            "text/plain": [
              "<Figure size 432x288 with 2 Axes>"
            ]
          },
          "metadata": {
            "tags": [],
            "needs_background": "light"
          }
        }
      ]
    },
    {
      "cell_type": "code",
      "metadata": {
        "id": "MTbM_VQ9heL9",
        "colab_type": "code",
        "colab": {
          "base_uri": "https://localhost:8080/",
          "height": 483
        },
        "outputId": "4efd9405-575b-4d2b-e7ed-0a70d9017d8b"
      },
      "source": [
        "\n",
        "sns.set(rc={'figure.figsize':(8,8)})\n",
        "skplt.metrics.plot_confusion_matrix(y_train, np.round(oof_preds), cmap=\"BrBG\")"
      ],
      "execution_count": null,
      "outputs": [
        {
          "output_type": "execute_result",
          "data": {
            "text/plain": [
              "<matplotlib.axes._subplots.AxesSubplot at 0x7f4566ba0e10>"
            ]
          },
          "metadata": {
            "tags": []
          },
          "execution_count": 38
        },
        {
          "output_type": "display_data",
          "data": {
            "image/png": "[encoded data removed]",
            "text/plain": [
              "<Figure size 576x576 with 2 Axes>"
            ]
          },
          "metadata": {
            "tags": []
          }
        }
      ]
    },
    {
      "cell_type": "code",
      "metadata": {
        "id": "zc70mqd4kpus",
        "colab_type": "code",
        "colab": {
          "base_uri": "https://localhost:8080/",
          "height": 753
        },
        "outputId": "a8a660f2-7a12-4fb8-c259-a55a60846ffc"
      },
      "source": [
        "fig, ax = plt.subplots(1,1,figsize=(10,12)) \n",
        "xgb.plot_importance(clf, max_num_features=57, ax=ax)  "
      ],
      "execution_count": null,
      "outputs": [
        {
          "output_type": "execute_result",
          "data": {
            "text/plain": [
              "<matplotlib.axes._subplots.AxesSubplot at 0x7f45596df6a0>"
            ]
          },
          "metadata": {
            "tags": []
          },
          "execution_count": 39
        },
        {
          "output_type": "display_data",
          "data": {
            "image/png": "[encoded data removed]",
            "text/plain": [
              "<Figure size 720x864 with 1 Axes>"
            ]
          },
          "metadata": {
            "tags": []
          }
        }
      ]
    },
    {
      "cell_type": "code",
      "metadata": {
        "id": "EifCGifzm6SS",
        "colab_type": "code",
        "colab": {}
      },
      "source": [
        "\n",
        "oof_roc = roc_auc_score(y_train, oof_preds)\n"
      ],
      "execution_count": null,
      "outputs": []
    },
    {
      "cell_type": "code",
      "metadata": {
        "id": "uTBqVGq-LBwh",
        "colab_type": "code",
        "colab": {
          "base_uri": "https://localhost:8080/",
          "height": 34
        },
        "outputId": "2b1c39e1-ff3a-430d-b1fa-c65c2562cf45"
      },
      "source": [
        "print(oof_roc )"
      ],
      "execution_count": null,
      "outputs": [
        {
          "output_type": "stream",
          "text": [
            "0.7122472107766223\n"
          ],
          "name": "stdout"
        }
      ]
    },
    {
      "cell_type": "markdown",
      "metadata": {
        "id": "m0z27dg6xOFu",
        "colab_type": "text"
      },
      "source": [
        "## ***LGBM Model*** \n",
        " lgb.train()"
      ]
    },
    {
      "cell_type": "code",
      "metadata": {
        "id": "sricYYhVxZxQ",
        "colab_type": "code",
        "colab": {}
      },
      "source": [
        "import numpy as np \n",
        "import pandas as pd \n",
        "import matplotlib.pyplot as plt\n",
        "import seaborn as sns\n",
        "import lightgbm as lgb\n",
        "from sklearn.model_selection import KFold, StratifiedKFold\n",
        "import warnings\n",
        "import gc\n",
        "import time\n",
        "import sys\n",
        "import datetime\n",
        "import matplotlib.pyplot as plt\n",
        "import seaborn as sns\n",
        "from sklearn.metrics import mean_squared_error\n",
        "warnings.simplefilter(action='ignore', category=FutureWarning)\n",
        "warnings.filterwarnings('ignore')\n",
        "from sklearn import metrics\n"
      ],
      "execution_count": 25,
      "outputs": []
    },
    {
      "cell_type": "code",
      "metadata": {
        "id": "2cYE060czIby",
        "colab_type": "code",
        "colab": {}
      },
      "source": [
        "param = {\n",
        "    'objective' :'binary', \n",
        "                                   'class_weight' : 'balanced', 'learning_rate' :0.09, \n",
        "                                   'reg_alpha' : 0.1, 'reg_lambda' : 0.1, \n",
        "                                   'subsample' :0.8, 'n_jobs ':-1, 'random_state' : 50,\n",
        "        'max_depth': 53\n",
        "\n",
        "    }\n",
        "   "
      ],
      "execution_count": 26,
      "outputs": []
    },
    {
      "cell_type": "code",
      "metadata": {
        "id": "QCpuulzbzO7h",
        "colab_type": "code",
        "colab": {}
      },
      "source": [
        "features = [c for c in train_sample.columns if c not in ['MachineIdentifier', 'HasDetections']]\n",
        "target = train_sample['HasDetections']"
      ],
      "execution_count": 27,
      "outputs": []
    },
    {
      "cell_type": "code",
      "metadata": {
        "id": "6ZdjlmBKDcn_",
        "colab_type": "code",
        "colab": {
          "base_uri": "https://localhost:8080/",
          "height": 1000
        },
        "outputId": "e81ffd29-bd71-45a5-e260-cdafa9856ed5"
      },
      "source": [
        "%%time\n",
        "from sklearn.metrics import roc_auc_score, roc_curve\n",
        "skf = StratifiedKFold(n_splits=5, shuffle=True, random_state=2019)\n",
        "oof = np.zeros(len(train_sample))\n",
        "predictions = np.zeros(len(test))\n",
        "feature_importance_df = pd.DataFrame()\n",
        "\n",
        "start = time.time()\n",
        "\n",
        "\n",
        "for fold_, (trn_idx, val_idx) in enumerate(skf.split(train_sample.values, target.values)):\n",
        "    print(\"fold n°{}\".format(fold_))\n",
        "    trn_data = lgb.Dataset(train_sample.iloc[trn_idx][features], label=target.iloc[trn_idx])\n",
        "    val_data = lgb.Dataset(train_sample.iloc[val_idx][features], label=target.iloc[val_idx])\n",
        "\n",
        "    num_round = 4000\n",
        "    clf = lgb.train(param, trn_data, num_round, valid_sets = [trn_data, val_data], verbose_eval=100, early_stopping_rounds = 50)\n",
        "    oof[val_idx] = clf.predict(train_sample.iloc[val_idx][features], num_iteration=clf.best_iteration)\n",
        "    \n",
        "    fold_importance_df = pd.DataFrame()\n",
        "    fold_importance_df[\"feature\"] = features\n",
        "    fold_importance_df[\"importance\"] = clf.feature_importance()\n",
        "    fold_importance_df[\"fold\"] = fold_ + 1\n",
        "    feature_importance_df = pd.concat([feature_importance_df, fold_importance_df], axis=0)\n",
        "    \n",
        "    predictions += clf.predict(test[features], num_iteration=clf.best_iteration) / 5\n",
        "\n",
        "print(\"CV score: {:<8.5f}\".format(roc_auc_score(target, oof)))"
      ],
      "execution_count": 31,
      "outputs": [
        {
          "output_type": "stream",
          "text": [
            "fold n°0\n",
            "Training until validation scores don't improve for 50 rounds.\n",
            "[100]\ttraining's binary_logloss: 0.61637\tvalid_1's binary_logloss: 0.618201\n",
            "[200]\ttraining's binary_logloss: 0.610841\tvalid_1's binary_logloss: 0.613815\n",
            "[300]\ttraining's binary_logloss: 0.607711\tvalid_1's binary_logloss: 0.611933\n",
            "[400]\ttraining's binary_logloss: 0.605207\tvalid_1's binary_logloss: 0.610755\n",
            "[500]\ttraining's binary_logloss: 0.603052\tvalid_1's binary_logloss: 0.609928\n",
            "[600]\ttraining's binary_logloss: 0.601144\tvalid_1's binary_logloss: 0.609316\n",
            "[700]\ttraining's binary_logloss: 0.599382\tvalid_1's binary_logloss: 0.608875\n",
            "[800]\ttraining's binary_logloss: 0.597678\tvalid_1's binary_logloss: 0.608491\n",
            "[900]\ttraining's binary_logloss: 0.596049\tvalid_1's binary_logloss: 0.608179\n",
            "[1000]\ttraining's binary_logloss: 0.59435\tvalid_1's binary_logloss: 0.607784\n",
            "[1100]\ttraining's binary_logloss: 0.592944\tvalid_1's binary_logloss: 0.607632\n",
            "[1200]\ttraining's binary_logloss: 0.591372\tvalid_1's binary_logloss: 0.607329\n",
            "[1300]\ttraining's binary_logloss: 0.589946\tvalid_1's binary_logloss: 0.607164\n",
            "[1400]\ttraining's binary_logloss: 0.588505\tvalid_1's binary_logloss: 0.606987\n",
            "[1500]\ttraining's binary_logloss: 0.587177\tvalid_1's binary_logloss: 0.606866\n",
            "[1600]\ttraining's binary_logloss: 0.585867\tvalid_1's binary_logloss: 0.606806\n",
            "Early stopping, best iteration is:\n",
            "[1563]\ttraining's binary_logloss: 0.586331\tvalid_1's binary_logloss: 0.60679\n",
            "fold n°1\n",
            "Training until validation scores don't improve for 50 rounds.\n",
            "[100]\ttraining's binary_logloss: 0.616533\tvalid_1's binary_logloss: 0.617729\n",
            "[200]\ttraining's binary_logloss: 0.610935\tvalid_1's binary_logloss: 0.613068\n",
            "[300]\ttraining's binary_logloss: 0.607995\tvalid_1's binary_logloss: 0.611317\n",
            "[400]\ttraining's binary_logloss: 0.605582\tvalid_1's binary_logloss: 0.610176\n",
            "[500]\ttraining's binary_logloss: 0.603418\tvalid_1's binary_logloss: 0.609334\n",
            "[600]\ttraining's binary_logloss: 0.601453\tvalid_1's binary_logloss: 0.608626\n",
            "[700]\ttraining's binary_logloss: 0.59968\tvalid_1's binary_logloss: 0.60815\n",
            "[800]\ttraining's binary_logloss: 0.597919\tvalid_1's binary_logloss: 0.60771\n",
            "[900]\ttraining's binary_logloss: 0.596283\tvalid_1's binary_logloss: 0.607319\n",
            "[1000]\ttraining's binary_logloss: 0.594719\tvalid_1's binary_logloss: 0.607072\n",
            "[1100]\ttraining's binary_logloss: 0.593108\tvalid_1's binary_logloss: 0.606735\n",
            "[1200]\ttraining's binary_logloss: 0.591561\tvalid_1's binary_logloss: 0.606417\n",
            "[1300]\ttraining's binary_logloss: 0.59006\tvalid_1's binary_logloss: 0.606164\n",
            "[1400]\ttraining's binary_logloss: 0.588651\tvalid_1's binary_logloss: 0.606014\n",
            "[1500]\ttraining's binary_logloss: 0.587226\tvalid_1's binary_logloss: 0.605858\n",
            "[1600]\ttraining's binary_logloss: 0.585762\tvalid_1's binary_logloss: 0.605623\n",
            "[1700]\ttraining's binary_logloss: 0.584377\tvalid_1's binary_logloss: 0.605462\n",
            "[1800]\ttraining's binary_logloss: 0.583031\tvalid_1's binary_logloss: 0.605284\n",
            "[1900]\ttraining's binary_logloss: 0.581764\tvalid_1's binary_logloss: 0.605216\n",
            "[2000]\ttraining's binary_logloss: 0.580499\tvalid_1's binary_logloss: 0.605168\n",
            "[2100]\ttraining's binary_logloss: 0.579274\tvalid_1's binary_logloss: 0.605101\n",
            "[2200]\ttraining's binary_logloss: 0.577969\tvalid_1's binary_logloss: 0.605016\n",
            "[2300]\ttraining's binary_logloss: 0.576812\tvalid_1's binary_logloss: 0.604987\n",
            "[2400]\ttraining's binary_logloss: 0.57555\tvalid_1's binary_logloss: 0.604939\n",
            "[2500]\ttraining's binary_logloss: 0.574357\tvalid_1's binary_logloss: 0.604858\n",
            "Early stopping, best iteration is:\n",
            "[2481]\ttraining's binary_logloss: 0.574551\tvalid_1's binary_logloss: 0.604846\n",
            "fold n°2\n",
            "Training until validation scores don't improve for 50 rounds.\n",
            "[100]\ttraining's binary_logloss: 0.616767\tvalid_1's binary_logloss: 0.617645\n",
            "[200]\ttraining's binary_logloss: 0.611082\tvalid_1's binary_logloss: 0.612935\n",
            "[300]\ttraining's binary_logloss: 0.607895\tvalid_1's binary_logloss: 0.611011\n",
            "[400]\ttraining's binary_logloss: 0.60542\tvalid_1's binary_logloss: 0.609788\n",
            "[500]\ttraining's binary_logloss: 0.603283\tvalid_1's binary_logloss: 0.608901\n",
            "[600]\ttraining's binary_logloss: 0.601343\tvalid_1's binary_logloss: 0.608234\n",
            "[700]\ttraining's binary_logloss: 0.599619\tvalid_1's binary_logloss: 0.607806\n",
            "[800]\ttraining's binary_logloss: 0.597821\tvalid_1's binary_logloss: 0.60732\n",
            "[900]\ttraining's binary_logloss: 0.596211\tvalid_1's binary_logloss: 0.606992\n",
            "[1000]\ttraining's binary_logloss: 0.594625\tvalid_1's binary_logloss: 0.606637\n",
            "[1100]\ttraining's binary_logloss: 0.593095\tvalid_1's binary_logloss: 0.606375\n",
            "[1200]\ttraining's binary_logloss: 0.591682\tvalid_1's binary_logloss: 0.606246\n",
            "[1300]\ttraining's binary_logloss: 0.590303\tvalid_1's binary_logloss: 0.606105\n",
            "[1400]\ttraining's binary_logloss: 0.588919\tvalid_1's binary_logloss: 0.605966\n",
            "[1500]\ttraining's binary_logloss: 0.587527\tvalid_1's binary_logloss: 0.605801\n",
            "[1600]\ttraining's binary_logloss: 0.586097\tvalid_1's binary_logloss: 0.605562\n",
            "[1700]\ttraining's binary_logloss: 0.584761\tvalid_1's binary_logloss: 0.605419\n",
            "[1800]\ttraining's binary_logloss: 0.583495\tvalid_1's binary_logloss: 0.60538\n",
            "[1900]\ttraining's binary_logloss: 0.582154\tvalid_1's binary_logloss: 0.605245\n",
            "[2000]\ttraining's binary_logloss: 0.580872\tvalid_1's binary_logloss: 0.605194\n",
            "[2100]\ttraining's binary_logloss: 0.579635\tvalid_1's binary_logloss: 0.605129\n",
            "[2200]\ttraining's binary_logloss: 0.578371\tvalid_1's binary_logloss: 0.605057\n",
            "[2300]\ttraining's binary_logloss: 0.577168\tvalid_1's binary_logloss: 0.604989\n",
            "Early stopping, best iteration is:\n",
            "[2333]\ttraining's binary_logloss: 0.576781\tvalid_1's binary_logloss: 0.604975\n",
            "fold n°3\n",
            "Training until validation scores don't improve for 50 rounds.\n",
            "[100]\ttraining's binary_logloss: 0.616806\tvalid_1's binary_logloss: 0.617303\n",
            "[200]\ttraining's binary_logloss: 0.611193\tvalid_1's binary_logloss: 0.612749\n",
            "[300]\ttraining's binary_logloss: 0.608038\tvalid_1's binary_logloss: 0.61087\n",
            "[400]\ttraining's binary_logloss: 0.605694\tvalid_1's binary_logloss: 0.609832\n",
            "[500]\ttraining's binary_logloss: 0.603507\tvalid_1's binary_logloss: 0.608899\n",
            "[600]\ttraining's binary_logloss: 0.601546\tvalid_1's binary_logloss: 0.608217\n",
            "[700]\ttraining's binary_logloss: 0.599735\tvalid_1's binary_logloss: 0.607705\n",
            "[800]\ttraining's binary_logloss: 0.598086\tvalid_1's binary_logloss: 0.607339\n",
            "[900]\ttraining's binary_logloss: 0.596366\tvalid_1's binary_logloss: 0.60688\n",
            "[1000]\ttraining's binary_logloss: 0.594729\tvalid_1's binary_logloss: 0.606512\n",
            "[1100]\ttraining's binary_logloss: 0.593168\tvalid_1's binary_logloss: 0.606245\n",
            "[1200]\ttraining's binary_logloss: 0.591727\tvalid_1's binary_logloss: 0.606021\n",
            "[1300]\ttraining's binary_logloss: 0.59035\tvalid_1's binary_logloss: 0.605865\n",
            "[1400]\ttraining's binary_logloss: 0.588933\tvalid_1's binary_logloss: 0.605682\n",
            "[1500]\ttraining's binary_logloss: 0.58757\tvalid_1's binary_logloss: 0.605578\n",
            "[1600]\ttraining's binary_logloss: 0.586237\tvalid_1's binary_logloss: 0.605464\n",
            "[1700]\ttraining's binary_logloss: 0.584945\tvalid_1's binary_logloss: 0.605344\n",
            "[1800]\ttraining's binary_logloss: 0.583634\tvalid_1's binary_logloss: 0.605258\n",
            "[1900]\ttraining's binary_logloss: 0.582384\tvalid_1's binary_logloss: 0.605175\n",
            "[2000]\ttraining's binary_logloss: 0.581112\tvalid_1's binary_logloss: 0.605064\n",
            "[2100]\ttraining's binary_logloss: 0.579874\tvalid_1's binary_logloss: 0.605022\n",
            "Early stopping, best iteration is:\n",
            "[2122]\ttraining's binary_logloss: 0.579619\tvalid_1's binary_logloss: 0.604996\n",
            "fold n°4\n",
            "Training until validation scores don't improve for 50 rounds.\n",
            "[100]\ttraining's binary_logloss: 0.616904\tvalid_1's binary_logloss: 0.617199\n",
            "[200]\ttraining's binary_logloss: 0.611167\tvalid_1's binary_logloss: 0.612355\n",
            "[300]\ttraining's binary_logloss: 0.608217\tvalid_1's binary_logloss: 0.610624\n",
            "[400]\ttraining's binary_logloss: 0.605739\tvalid_1's binary_logloss: 0.609401\n",
            "[500]\ttraining's binary_logloss: 0.60373\tvalid_1's binary_logloss: 0.608658\n",
            "[600]\ttraining's binary_logloss: 0.60169\tvalid_1's binary_logloss: 0.607952\n",
            "[700]\ttraining's binary_logloss: 0.599971\tvalid_1's binary_logloss: 0.607546\n",
            "[800]\ttraining's binary_logloss: 0.59814\tvalid_1's binary_logloss: 0.607024\n",
            "[900]\ttraining's binary_logloss: 0.596582\tvalid_1's binary_logloss: 0.606744\n",
            "[1000]\ttraining's binary_logloss: 0.595012\tvalid_1's binary_logloss: 0.606414\n",
            "[1100]\ttraining's binary_logloss: 0.593459\tvalid_1's binary_logloss: 0.606183\n",
            "[1200]\ttraining's binary_logloss: 0.591943\tvalid_1's binary_logloss: 0.605937\n",
            "[1300]\ttraining's binary_logloss: 0.590494\tvalid_1's binary_logloss: 0.605705\n",
            "[1400]\ttraining's binary_logloss: 0.589015\tvalid_1's binary_logloss: 0.605519\n",
            "[1500]\ttraining's binary_logloss: 0.587545\tvalid_1's binary_logloss: 0.605325\n",
            "[1600]\ttraining's binary_logloss: 0.586204\tvalid_1's binary_logloss: 0.605253\n",
            "[1700]\ttraining's binary_logloss: 0.584889\tvalid_1's binary_logloss: 0.605167\n",
            "[1800]\ttraining's binary_logloss: 0.583594\tvalid_1's binary_logloss: 0.605071\n",
            "[1900]\ttraining's binary_logloss: 0.582243\tvalid_1's binary_logloss: 0.604911\n",
            "Early stopping, best iteration is:\n",
            "[1933]\ttraining's binary_logloss: 0.581768\tvalid_1's binary_logloss: 0.604838\n",
            "CV score: 0.72687 \n",
            "CPU times: user 8h 22min 30s, sys: 6.09 s, total: 8h 22min 36s\n",
            "Wall time: 13min 22s\n"
          ],
          "name": "stdout"
        }
      ]
    },
    {
      "cell_type": "code",
      "metadata": {
        "id": "YMNQUxitR2au",
        "colab_type": "code",
        "colab": {
          "base_uri": "https://localhost:8080/",
          "height": 34
        },
        "outputId": "0e51f696-3164-4f7d-9695-540ead4b387a"
      },
      "source": [
        "train.shape"
      ],
      "execution_count": null,
      "outputs": [
        {
          "output_type": "execute_result",
          "data": {
            "text/plain": [
              "(8921483, 57)"
            ]
          },
          "metadata": {
            "tags": []
          },
          "execution_count": 46
        }
      ]
    },
    {
      "cell_type": "code",
      "metadata": {
        "id": "ZBBS1xDiRwyh",
        "colab_type": "code",
        "colab": {
          "base_uri": "https://localhost:8080/",
          "height": 34
        },
        "outputId": "d7d6bf5f-b39f-45e1-c42b-f3799a602c14"
      },
      "source": [
        "test.shape"
      ],
      "execution_count": null,
      "outputs": [
        {
          "output_type": "execute_result",
          "data": {
            "text/plain": [
              "(7853253, 55)"
            ]
          },
          "metadata": {
            "tags": []
          },
          "execution_count": 44
        }
      ]
    },
    {
      "cell_type": "markdown",
      "metadata": {
        "id": "OTzihrqm1o5W",
        "colab_type": "text"
      },
      "source": [
        "# **2end model lgbm**\n",
        "lgb.LGBMClassifier +fit()"
      ]
    },
    {
      "cell_type": "code",
      "metadata": {
        "colab_type": "code",
        "id": "yJitqwSaougH",
        "colab": {
          "base_uri": "https://localhost:8080/",
          "height": 34
        },
        "outputId": "74754490-d75e-474c-d1f3-2cab3277d6f5"
      },
      "source": [
        "from sklearn.model_selection import KFold\n",
        "from sklearn.metrics import roc_auc_score\n",
        "import lightgbm as lgb\n",
        "import gc\n",
        "\n",
        "def model(train_sample, test, encoding = 'ohe', n_folds = 5):\n",
        "    \n",
        "    \"\"\"Former et tester un modèle GBM en utilisant la\n",
        "     validation croisée.\n",
        "    \n",
        "    Paramètres\n",
        "    --------\n",
        "        features (pd.DataFrame): \n",
        "            cadre de données des fonctionnalités de formation à utiliser\n",
        "             pour la formation d'un modèle. Doit inclure la colonne CIBLE.\n",
        "        test_features (pd.DataFrame): \n",
        "            dataframe des fonctionnalités de test à utiliser\n",
        "             pour faire des prédictions avec le modèle.\n",
        "        encoding (str, default = 'ohe'): \n",
        "            méthode d'encodage de variables catégorielles. Soit 'ohe' pour un codage one-hot ou 'le' pour un codage d'étiquette\n",
        "             n_folds (int, default = 5): nombre de plis à utiliser pour la validation croisée\n",
        "        \n",
        "    Return\n",
        "    --------\n",
        "        submission (pd.DataFrame): \n",
        "            dataframe avec `MachineIdentifier` et `HasDetections` probabilities\n",
        "            prédites par le modèle.\n",
        "        feature_importances (pd.DataFrame): \n",
        "            dataframe avec les fonctionnalités importantes du model.\n",
        "        valid_metrics (pd.DataFrame): \n",
        "            dataframe de formation et validation avec la metric (ROC AUC) pour chaque pli et dans son ensemble..\n",
        "        \n",
        " \n",
        "    \"\"\"\n",
        "   \n",
        "    # Extraction de la colonne de la cible\n",
        "    labels = train_sample['HasDetections']\n",
        "    train = train_sample.drop(columns = ['HasDetections'])\n",
        "    \n",
        "\n",
        "   # One Hot Encoding\n",
        "    if encoding == 'ohe':\n",
        "        \n",
        "        # Alignement des dataframes\n",
        "        train_sample, test = train_sample.align(test, join = 'inner', axis = 1)\n",
        "        # Aucun index catégorique à enregistrer\n",
        "        cat_indices = 'auto'\n",
        "    \n",
        "     # Integer label encoding\n",
        "    elif encoding == 'le':\n",
        "        \n",
        "        # Create a label encoder\n",
        "        label_encoder = LabelEncoder()\n",
        "        \n",
        "        # List for storing categorical indices\n",
        "        cat_indices = []\n",
        "        \n",
        "        # Itération dans chaque colonne\n",
        "        for i, col in enumerate(train_sample):\n",
        "            if train_sample[col].dtype == 'object':\n",
        "                train_sample[col] = label_encoder.fit_transform(np.array(train_sample[col].astype(str)).reshape((-1,)))\n",
        "                test[col] = label_encoder.transform(np.array(test[col].astype(str)).reshape((-1,)))\n",
        "                cat_indices.append(i)\n",
        "    \n",
        "    # Affichage d'une erreur\n",
        "    else:\n",
        "        raise ValueError(\"Encodage doit etre soit 'ohe' ou 'le'\")\n",
        "        \n",
        "    print(\"LGBM Model \")\n",
        "   \n",
        "    # Extraction des noms des fonctionnalités\n",
        "    feature_names     = list(train_sample.columns)\n",
        "   \n",
        "   \n",
        "    \n",
        "    # Créer un tableau avec np.array\n",
        "    train_sample= np.array(train_sample)\n",
        "    test = np.array(test)\n",
        "    \n",
        "    # Creation de kfold object\n",
        "    # n_folds : nombre de segment\n",
        "    # shuffle : si on mélange les données avant la décomposition\n",
        "    # random_state : la graine de générateur de nombre aléatoire\n",
        "    k_fold = KFold(n_splits = n_folds, shuffle = True, random_state = 50)\n",
        "    \n",
        "    # Tableau vide à remplir avec les fonctionnalités importantes \n",
        "    feature_importance_values = np.zeros(len(feature_names))\n",
        "    \n",
        "    # Tableau vide à remplir avec les probabilités prédites\n",
        "    test_predictions = np.zeros(test.shape[0])\n",
        "    \n",
        "    # Tableau vide pour les prédictions de validation hors du fold(pli)\n",
        "    out_of_fold = np.zeros(train_sample.shape[0])\n",
        "    \n",
        "    # Listes d'enregistrement de valid_scores et train_scores\n",
        "    valid_scores = []\n",
        "    train_scores = []\n",
        "    \n",
        "    # Itérer à travers chaque segment (fold)\n",
        "    for train_indices, valid_indices in k_fold.split(train):\n",
        "        \n",
        "        # Données d'entraînement pour le segment (fold)\n",
        "        train_features, train_labels = train_sample[train_indices], labels[train_indices]\n",
        "        # Données de validation pour le segment (fold)\n",
        "        valid_features, valid_labels = train_sample[valid_indices], labels[valid_indices]\n",
        "        \n",
        "        #train_features, train_labels = X.iloc[train_index, :], X.iloc[test_index, :]\n",
        "        #valid_features, valid_labels = y[train_index], y[test_index]\n",
        "        # Création du modèle\n",
        "        # n_estimators = nbr d'arbres, objective = binaire\n",
        "        # alpha, lamda = coefficient de pinalité, pour ne pas réduire la fonction coût rapidement\n",
        "        # class_weight : poids de classe = équilibré\n",
        "        # learning_rate = taux d'apprentissage\n",
        "        # random_stat : pour fixer la suite aléatoire produite\n",
        "        # subsample : sous échantiant\n",
        "        # n_jobs = -1 tous les coeurs du processeur sont activés\n",
        "        model = lgb.LGBMClassifier(n_estimators=4000, objective = 'binary', \n",
        "                                   class_weight = 'balanced', learning_rate = 0.09, \n",
        "                                   reg_alpha = 0.1, reg_lambda = 0.1, \n",
        "                                   subsample = 0.8, n_jobs = -1, random_state = 50)\n",
        "        \n",
        "        # Tourner le model sur les données train, la metrique utilisée est AUC ROC\n",
        "        model.fit(train_features, train_labels, eval_metric = 'auc',\n",
        "                  eval_set = [(valid_features, valid_labels), (train_features, train_labels)],\n",
        "                  eval_names = ['valid', 'train'], categorical_feature = cat_indices,\n",
        "                  early_stopping_rounds = 50, verbose = 200)\n",
        "        \n",
        "        # Meilleures iteration\n",
        "        best_iteration = model.best_iteration_\n",
        "        \n",
        "        # Importances des variables \n",
        "        feature_importance_values += model.feature_importances_ / k_fold.n_splits\n",
        "        \n",
        "        # predictions\n",
        "        test_predictions += model.predict_proba(test, num_iteration = best_iteration)[:, 1] / k_fold.n_splits\n",
        "        \n",
        "        # Enregistrer les prédictions du fold\n",
        "        out_of_fold[valid_indices] = model.predict_proba(valid_features, num_iteration = best_iteration)[:, 1]\n",
        "        \n",
        "        # Enregistrer le meilleur score\n",
        "        valid_score = model.best_score_['valid']['auc']\n",
        "        train_score = model.best_score_['train']['auc']\n",
        "        \n",
        "        valid_scores.append(valid_score)\n",
        "        train_scores.append(train_score)\n",
        "        \n",
        "        # Nettoyer la mémoire\n",
        "        gc.enable()\n",
        "        del model, train_features, valid_features\n",
        "        gc.collect()\n",
        "       \n",
        "    # Faire la dataframe de soumission\n",
        "    submission = pd.DataFrame({'MachineIdentifier': test_ids, 'HasDetections': test_predictions})\n",
        "    \n",
        "    # dataframe des fonctionnalités importantes\n",
        "    feature_importances = pd.DataFrame({'feature': feature_names, 'importance': feature_importance_values})\n",
        "    \n",
        "    # Score de validation global\n",
        "    valid_auc = roc_auc_score(labels, out_of_fold)\n",
        "    \n",
        "    # Ajouter les scores globaux aux métriques\n",
        "    valid_scores.append(valid_auc)\n",
        "    train_scores.append(np.mean(train_scores))\n",
        "    \n",
        "    # Nécessaire pour créer une base de données de scores de validation\n",
        "    fold_names = list(range(n_folds))\n",
        "    fold_names.append('Score global')\n",
        "    \n",
        "    # Dataframe des scores de validation\n",
        "    metrics = pd.DataFrame({'fold': fold_names,\n",
        "                            'train': train_scores,\n",
        "                   \n",
        "                            'valid': valid_scores\n",
        "                            }) \n",
        "    \n",
        "    return submission,feature_importances, metrics\n",
        "print('done')    "
      ],
      "execution_count": null,
      "outputs": [
        {
          "output_type": "stream",
          "text": [
            "done\n"
          ],
          "name": "stdout"
        }
      ]
    },
    {
      "cell_type": "code",
      "metadata": {
        "id": "9popgeCEpxk9",
        "colab_type": "code",
        "colab": {
          "base_uri": "https://localhost:8080/",
          "height": 1000
        },
        "outputId": "ea8c94a5-cb34-4d76-e38a-d04004a691bb"
      },
      "source": [
        "  %%time\n",
        "submission, fi, metrics = model(train_sample, test)\n",
        "print('Baseline metrics')\n",
        "print(metrics)\n"
      ],
      "execution_count": null,
      "outputs": [
        {
          "output_type": "stream",
          "text": [
            "LGBM Model \n",
            "Training until validation scores don't improve for 50 rounds.\n",
            "[200]\ttrain's auc: 0.719938\ttrain's binary_logloss: 0.611195\tvalid's auc: 0.717233\tvalid's binary_logloss: 0.612592\n",
            "[400]\ttrain's auc: 0.727735\ttrain's binary_logloss: 0.605511\tvalid's auc: 0.721241\tvalid's binary_logloss: 0.609496\n",
            "[600]\ttrain's auc: 0.733234\ttrain's binary_logloss: 0.60152\tvalid's auc: 0.722984\tvalid's binary_logloss: 0.608136\n",
            "[800]\ttrain's auc: 0.738098\ttrain's binary_logloss: 0.597972\tvalid's auc: 0.724172\tvalid's binary_logloss: 0.607192\n",
            "[1000]\ttrain's auc: 0.742404\ttrain's binary_logloss: 0.594826\tvalid's auc: 0.724873\tvalid's binary_logloss: 0.606622\n",
            "[1200]\ttrain's auc: 0.74657\ttrain's binary_logloss: 0.591717\tvalid's auc: 0.72552\tvalid's binary_logloss: 0.606094\n",
            "[1400]\ttrain's auc: 0.750362\ttrain's binary_logloss: 0.58888\tvalid's auc: 0.725954\tvalid's binary_logloss: 0.605746\n",
            "[1600]\ttrain's auc: 0.754036\ttrain's binary_logloss: 0.586121\tvalid's auc: 0.72632\tvalid's binary_logloss: 0.605433\n",
            "[1800]\ttrain's auc: 0.757461\ttrain's binary_logloss: 0.583494\tvalid's auc: 0.726523\tvalid's binary_logloss: 0.605241\n",
            "[2000]\ttrain's auc: 0.760777\ttrain's binary_logloss: 0.580945\tvalid's auc: 0.726704\tvalid's binary_logloss: 0.605076\n",
            "[2200]\ttrain's auc: 0.763979\ttrain's binary_logloss: 0.578461\tvalid's auc: 0.726904\tvalid's binary_logloss: 0.604906\n",
            "Early stopping, best iteration is:\n",
            "[2325]\ttrain's auc: 0.765997\ttrain's binary_logloss: 0.576936\tvalid's auc: 0.726995\tvalid's binary_logloss: 0.604848\n",
            "Training until validation scores don't improve for 50 rounds.\n",
            "[200]\ttrain's auc: 0.720218\ttrain's binary_logloss: 0.610869\tvalid's auc: 0.716542\tvalid's binary_logloss: 0.613431\n",
            "[400]\ttrain's auc: 0.727754\ttrain's binary_logloss: 0.605322\tvalid's auc: 0.720654\tvalid's binary_logloss: 0.610309\n",
            "[600]\ttrain's auc: 0.733068\ttrain's binary_logloss: 0.601422\tvalid's auc: 0.722429\tvalid's binary_logloss: 0.608979\n",
            "[800]\ttrain's auc: 0.737987\ttrain's binary_logloss: 0.597826\tvalid's auc: 0.723751\tvalid's binary_logloss: 0.607949\n",
            "[1000]\ttrain's auc: 0.742188\ttrain's binary_logloss: 0.594758\tvalid's auc: 0.724415\tvalid's binary_logloss: 0.607409\n",
            "[1200]\ttrain's auc: 0.7461\ttrain's binary_logloss: 0.591884\tvalid's auc: 0.724872\tvalid's binary_logloss: 0.607029\n",
            "[1400]\ttrain's auc: 0.750031\ttrain's binary_logloss: 0.588968\tvalid's auc: 0.725366\tvalid's binary_logloss: 0.606612\n",
            "[1600]\ttrain's auc: 0.753816\ttrain's binary_logloss: 0.586128\tvalid's auc: 0.72589\tvalid's binary_logloss: 0.60621\n",
            "[1800]\ttrain's auc: 0.757367\ttrain's binary_logloss: 0.583465\tvalid's auc: 0.726224\tvalid's binary_logloss: 0.605963\n",
            "[2000]\ttrain's auc: 0.760772\ttrain's binary_logloss: 0.580897\tvalid's auc: 0.726475\tvalid's binary_logloss: 0.605774\n",
            "Early stopping, best iteration is:\n",
            "[2034]\ttrain's auc: 0.761372\ttrain's binary_logloss: 0.580442\tvalid's auc: 0.726548\tvalid's binary_logloss: 0.605719\n",
            "Training until validation scores don't improve for 50 rounds.\n",
            "[200]\ttrain's auc: 0.72003\ttrain's binary_logloss: 0.610981\tvalid's auc: 0.716496\tvalid's binary_logloss: 0.613277\n",
            "[400]\ttrain's auc: 0.727642\ttrain's binary_logloss: 0.60543\tvalid's auc: 0.720389\tvalid's binary_logloss: 0.610301\n",
            "[600]\ttrain's auc: 0.733181\ttrain's binary_logloss: 0.601399\tvalid's auc: 0.722201\tvalid's binary_logloss: 0.608916\n",
            "[800]\ttrain's auc: 0.738023\ttrain's binary_logloss: 0.597839\tvalid's auc: 0.723414\tvalid's binary_logloss: 0.607976\n",
            "[1000]\ttrain's auc: 0.74247\ttrain's binary_logloss: 0.594559\tvalid's auc: 0.724324\tvalid's binary_logloss: 0.607229\n",
            "[1200]\ttrain's auc: 0.746387\ttrain's binary_logloss: 0.591653\tvalid's auc: 0.72487\tvalid's binary_logloss: 0.606828\n",
            "[1400]\ttrain's auc: 0.750193\ttrain's binary_logloss: 0.5888\tvalid's auc: 0.725259\tvalid's binary_logloss: 0.606502\n",
            "[1600]\ttrain's auc: 0.753946\ttrain's binary_logloss: 0.585986\tvalid's auc: 0.725716\tvalid's binary_logloss: 0.606163\n",
            "[1800]\ttrain's auc: 0.757544\ttrain's binary_logloss: 0.583315\tvalid's auc: 0.726016\tvalid's binary_logloss: 0.605932\n",
            "[2000]\ttrain's auc: 0.761091\ttrain's binary_logloss: 0.58065\tvalid's auc: 0.726262\tvalid's binary_logloss: 0.605746\n",
            "[2200]\ttrain's auc: 0.764368\ttrain's binary_logloss: 0.578176\tvalid's auc: 0.726402\tvalid's binary_logloss: 0.60561\n",
            "Early stopping, best iteration is:\n",
            "[2162]\ttrain's auc: 0.763799\ttrain's binary_logloss: 0.578599\tvalid's auc: 0.726449\tvalid's binary_logloss: 0.605582\n",
            "Training until validation scores don't improve for 50 rounds.\n",
            "[200]\ttrain's auc: 0.719589\ttrain's binary_logloss: 0.611205\tvalid's auc: 0.71792\tvalid's binary_logloss: 0.612624\n",
            "[400]\ttrain's auc: 0.727129\ttrain's binary_logloss: 0.605756\tvalid's auc: 0.721702\tvalid's binary_logloss: 0.609722\n",
            "[600]\ttrain's auc: 0.732685\ttrain's binary_logloss: 0.601709\tvalid's auc: 0.723635\tvalid's binary_logloss: 0.608224\n",
            "[800]\ttrain's auc: 0.737571\ttrain's binary_logloss: 0.598128\tvalid's auc: 0.725024\tvalid's binary_logloss: 0.607159\n",
            "[1000]\ttrain's auc: 0.742005\ttrain's binary_logloss: 0.594828\tvalid's auc: 0.725942\tvalid's binary_logloss: 0.606396\n",
            "[1200]\ttrain's auc: 0.74615\ttrain's binary_logloss: 0.591784\tvalid's auc: 0.726669\tvalid's binary_logloss: 0.60582\n",
            "[1400]\ttrain's auc: 0.750063\ttrain's binary_logloss: 0.588914\tvalid's auc: 0.727135\tvalid's binary_logloss: 0.605441\n",
            "[1600]\ttrain's auc: 0.753799\ttrain's binary_logloss: 0.586096\tvalid's auc: 0.727613\tvalid's binary_logloss: 0.605025\n",
            "[1800]\ttrain's auc: 0.757272\ttrain's binary_logloss: 0.583491\tvalid's auc: 0.727744\tvalid's binary_logloss: 0.604874\n",
            "[2000]\ttrain's auc: 0.760725\ttrain's binary_logloss: 0.580902\tvalid's auc: 0.727919\tvalid's binary_logloss: 0.604703\n",
            "Early stopping, best iteration is:\n",
            "[1992]\ttrain's auc: 0.760587\ttrain's binary_logloss: 0.581005\tvalid's auc: 0.727933\tvalid's binary_logloss: 0.604697\n",
            "Training until validation scores don't improve for 50 rounds.\n",
            "[200]\ttrain's auc: 0.719861\ttrain's binary_logloss: 0.611138\tvalid's auc: 0.716452\tvalid's binary_logloss: 0.613312\n",
            "[400]\ttrain's auc: 0.727807\ttrain's binary_logloss: 0.605379\tvalid's auc: 0.720749\tvalid's binary_logloss: 0.610048\n",
            "[600]\ttrain's auc: 0.733108\ttrain's binary_logloss: 0.601514\tvalid's auc: 0.722335\tvalid's binary_logloss: 0.608809\n",
            "[800]\ttrain's auc: 0.738034\ttrain's binary_logloss: 0.597917\tvalid's auc: 0.723637\tvalid's binary_logloss: 0.607819\n",
            "[1000]\ttrain's auc: 0.742437\ttrain's binary_logloss: 0.594659\tvalid's auc: 0.724509\tvalid's binary_logloss: 0.607128\n",
            "[1200]\ttrain's auc: 0.74643\ttrain's binary_logloss: 0.591711\tvalid's auc: 0.724988\tvalid's binary_logloss: 0.60676\n",
            "[1400]\ttrain's auc: 0.750223\ttrain's binary_logloss: 0.588858\tvalid's auc: 0.725556\tvalid's binary_logloss: 0.606296\n",
            "[1600]\ttrain's auc: 0.753867\ttrain's binary_logloss: 0.58612\tvalid's auc: 0.725976\tvalid's binary_logloss: 0.605979\n",
            "[1800]\ttrain's auc: 0.757318\ttrain's binary_logloss: 0.583509\tvalid's auc: 0.726209\tvalid's binary_logloss: 0.605788\n",
            "[2000]\ttrain's auc: 0.760766\ttrain's binary_logloss: 0.580924\tvalid's auc: 0.726373\tvalid's binary_logloss: 0.605647\n",
            "[2200]\ttrain's auc: 0.764059\ttrain's binary_logloss: 0.57834\tvalid's auc: 0.726646\tvalid's binary_logloss: 0.605398\n",
            "[2400]\ttrain's auc: 0.767351\ttrain's binary_logloss: 0.575848\tvalid's auc: 0.726836\tvalid's binary_logloss: 0.605247\n",
            "Early stopping, best iteration is:\n",
            "[2423]\ttrain's auc: 0.767686\ttrain's binary_logloss: 0.575589\tvalid's auc: 0.726852\tvalid's binary_logloss: 0.605229\n",
            "Baseline metrics\n",
            "           fold     train     valid\n",
            "0             0  0.765997  0.726995\n",
            "1             1  0.761372  0.726548\n",
            "2             2  0.763799  0.726449\n",
            "3             3  0.760587  0.727933\n",
            "4             4  0.767686  0.726852\n",
            "5  Score global  0.763888  0.726951\n",
            "CPU times: user 21h 43min 22s, sys: 45 s, total: 21h 44min 7s\n",
            "Wall time: 41min 24s\n"
          ],
          "name": "stdout"
        }
      ]
    },
    {
      "cell_type": "markdown",
      "metadata": {
        "id": "Hero-8FdcD9n",
        "colab_type": "text"
      },
      "source": [
        "#telechrg .html le notebook"
      ]
    },
    {
      "cell_type": "code",
      "metadata": {
        "id": "A_OeEcagucAC",
        "colab_type": "code",
        "colab": {}
      },
      "source": [
        "import os"
      ],
      "execution_count": null,
      "outputs": []
    },
    {
      "cell_type": "code",
      "metadata": {
        "id": "qWoJFr0suoKT",
        "colab_type": "code",
        "colab": {
          "base_uri": "https://localhost:8080/",
          "height": 34
        },
        "outputId": "a1b9428a-1a5a-4c65-e809-91d439fed27c"
      },
      "source": [
        "os.environ['COLAB_TPU_ADDR']"
      ],
      "execution_count": null,
      "outputs": [
        {
          "output_type": "execute_result",
          "data": {
            "text/plain": [
              "'10.14.77.90:8470'"
            ]
          },
          "metadata": {
            "tags": []
          },
          "execution_count": 5
        }
      ]
    },
    {
      "cell_type": "code",
      "metadata": {
        "id": "cC05E0k-0esk",
        "colab_type": "code",
        "colab": {}
      },
      "source": [
        "!jupyter nbconvert --to html nadia.ipynb"
      ],
      "execution_count": null,
      "outputs": []
    },
    {
      "cell_type": "markdown",
      "metadata": {
        "id": "WylK9j_veWTu",
        "colab_type": "text"
      },
      "source": [
        "# XGBOOST WITH TUNING "
      ]
    },
    {
      "cell_type": "code",
      "metadata": {
        "id": "UDw1ufI0htf7",
        "colab_type": "code",
        "colab": {
          "base_uri": "https://localhost:8080/",
          "height": 1000
        },
        "outputId": "818fccd8-615c-4da7-e137-4fdee7318e31"
      },
      "source": [
        "from sklearn.model_selection import GridSearchCV   #Perforing grid search\n",
        "\n",
        "gc.collect()\n",
        "\n",
        "param_test1 = {\n",
        "   'max_depth':range(3,10,2),\n",
        " 'min_child_weight':range(1,6,2)\n",
        "}\n",
        "gsearch1 = GridSearchCV(estimator = xgb.XGBClassifier( learning_rate =0.0936165921314771, n_estimators=35, gamma=9.943467991283027, subsample=0.8246604621518232, colsample_bytree=0.3561271102144279,\n",
        "                                                  objective= 'binary:logistic', nthread=-1, max_depth = 2,\n",
        "                                                 silent = 1 , min_child_weight = 53), \n",
        "                        param_grid = param_test1, scoring='roc_auc', n_jobs=1, iid=False, cv=3, verbose = 100)\n",
        "\n",
        "gsearch1.fit(trn_x , trn_y)\n",
        "gsearch1.best_params_, gsearch1.best_score_\n"
      ],
      "execution_count": null,
      "outputs": [
        {
          "output_type": "stream",
          "text": [
            "Fitting 3 folds for each of 12 candidates, totalling 36 fits\n",
            "[Parallel(n_jobs=1)]: Using backend SequentialBackend with 1 concurrent workers.\n",
            "[CV] max_depth=3, min_child_weight=1 .................................\n",
            "[CV] ..... max_depth=3, min_child_weight=1, score=0.682, total=   5.4s\n",
            "[Parallel(n_jobs=1)]: Done   1 out of   1 | elapsed:    5.4s remaining:    0.0s\n",
            "[CV] max_depth=3, min_child_weight=1 .................................\n",
            "[CV] ..... max_depth=3, min_child_weight=1, score=0.683, total=   5.4s\n",
            "[Parallel(n_jobs=1)]: Done   2 out of   2 | elapsed:   10.9s remaining:    0.0s\n",
            "[CV] max_depth=3, min_child_weight=1 .................................\n",
            "[CV] ..... max_depth=3, min_child_weight=1, score=0.684, total=   5.4s\n",
            "[Parallel(n_jobs=1)]: Done   3 out of   3 | elapsed:   16.2s remaining:    0.0s\n",
            "[CV] max_depth=3, min_child_weight=3 .................................\n",
            "[CV] ..... max_depth=3, min_child_weight=3, score=0.682, total=   5.4s\n",
            "[Parallel(n_jobs=1)]: Done   4 out of   4 | elapsed:   21.6s remaining:    0.0s\n",
            "[CV] max_depth=3, min_child_weight=3 .................................\n",
            "[CV] ..... max_depth=3, min_child_weight=3, score=0.683, total=   5.6s\n",
            "[Parallel(n_jobs=1)]: Done   5 out of   5 | elapsed:   27.3s remaining:    0.0s\n",
            "[CV] max_depth=3, min_child_weight=3 .................................\n",
            "[CV] ..... max_depth=3, min_child_weight=3, score=0.684, total=   6.1s\n",
            "[Parallel(n_jobs=1)]: Done   6 out of   6 | elapsed:   33.4s remaining:    0.0s\n",
            "[CV] max_depth=3, min_child_weight=5 .................................\n",
            "[CV] ..... max_depth=3, min_child_weight=5, score=0.682, total=   6.2s\n",
            "[Parallel(n_jobs=1)]: Done   7 out of   7 | elapsed:   39.6s remaining:    0.0s\n",
            "[CV] max_depth=3, min_child_weight=5 .................................\n",
            "[CV] ..... max_depth=3, min_child_weight=5, score=0.683, total=   5.6s\n",
            "[Parallel(n_jobs=1)]: Done   8 out of   8 | elapsed:   45.1s remaining:    0.0s\n",
            "[CV] max_depth=3, min_child_weight=5 .................................\n",
            "[CV] ..... max_depth=3, min_child_weight=5, score=0.684, total=   5.3s\n",
            "[Parallel(n_jobs=1)]: Done   9 out of   9 | elapsed:   50.4s remaining:    0.0s\n",
            "[CV] max_depth=5, min_child_weight=1 .................................\n",
            "[CV] ..... max_depth=5, min_child_weight=1, score=0.694, total=   7.5s\n",
            "[Parallel(n_jobs=1)]: Done  10 out of  10 | elapsed:   58.0s remaining:    0.0s\n",
            "[CV] max_depth=5, min_child_weight=1 .................................\n",
            "[CV] ..... max_depth=5, min_child_weight=1, score=0.696, total=   7.4s\n",
            "[Parallel(n_jobs=1)]: Done  11 out of  11 | elapsed:  1.1min remaining:    0.0s\n",
            "[CV] max_depth=5, min_child_weight=1 .................................\n",
            "[CV] ..... max_depth=5, min_child_weight=1, score=0.696, total=   7.4s\n",
            "[Parallel(n_jobs=1)]: Done  12 out of  12 | elapsed:  1.2min remaining:    0.0s\n",
            "[CV] max_depth=5, min_child_weight=3 .................................\n",
            "[CV] ..... max_depth=5, min_child_weight=3, score=0.694, total=   7.6s\n",
            "[Parallel(n_jobs=1)]: Done  13 out of  13 | elapsed:  1.3min remaining:    0.0s\n",
            "[CV] max_depth=5, min_child_weight=3 .................................\n",
            "[CV] ..... max_depth=5, min_child_weight=3, score=0.696, total=   8.2s\n",
            "[Parallel(n_jobs=1)]: Done  14 out of  14 | elapsed:  1.5min remaining:    0.0s\n",
            "[CV] max_depth=5, min_child_weight=3 .................................\n",
            "[CV] ..... max_depth=5, min_child_weight=3, score=0.696, total=   8.3s\n",
            "[Parallel(n_jobs=1)]: Done  15 out of  15 | elapsed:  1.6min remaining:    0.0s\n",
            "[CV] max_depth=5, min_child_weight=5 .................................\n",
            "[CV] ..... max_depth=5, min_child_weight=5, score=0.694, total=   7.5s\n",
            "[Parallel(n_jobs=1)]: Done  16 out of  16 | elapsed:  1.7min remaining:    0.0s\n",
            "[CV] max_depth=5, min_child_weight=5 .................................\n",
            "[CV] ..... max_depth=5, min_child_weight=5, score=0.696, total=   7.6s\n",
            "[Parallel(n_jobs=1)]: Done  17 out of  17 | elapsed:  1.9min remaining:    0.0s\n",
            "[CV] max_depth=5, min_child_weight=5 .................................\n",
            "[CV] ..... max_depth=5, min_child_weight=5, score=0.696, total=   7.3s\n",
            "[Parallel(n_jobs=1)]: Done  18 out of  18 | elapsed:  2.0min remaining:    0.0s\n",
            "[CV] max_depth=7, min_child_weight=1 .................................\n",
            "[CV] ..... max_depth=7, min_child_weight=1, score=0.702, total=   9.9s\n",
            "[Parallel(n_jobs=1)]: Done  19 out of  19 | elapsed:  2.2min remaining:    0.0s\n",
            "[CV] max_depth=7, min_child_weight=1 .................................\n",
            "[CV] ..... max_depth=7, min_child_weight=1, score=0.704, total=  10.0s\n",
            "[Parallel(n_jobs=1)]: Done  20 out of  20 | elapsed:  2.3min remaining:    0.0s\n",
            "[CV] max_depth=7, min_child_weight=1 .................................\n",
            "[CV] ..... max_depth=7, min_child_weight=1, score=0.703, total=  11.0s\n",
            "[Parallel(n_jobs=1)]: Done  21 out of  21 | elapsed:  2.5min remaining:    0.0s\n",
            "[CV] max_depth=7, min_child_weight=3 .................................\n",
            "[CV] ..... max_depth=7, min_child_weight=3, score=0.702, total=  11.4s\n",
            "[Parallel(n_jobs=1)]: Done  22 out of  22 | elapsed:  2.7min remaining:    0.0s\n",
            "[CV] max_depth=7, min_child_weight=3 .................................\n",
            "[CV] ..... max_depth=7, min_child_weight=3, score=0.704, total=  10.1s\n",
            "[Parallel(n_jobs=1)]: Done  23 out of  23 | elapsed:  2.9min remaining:    0.0s\n",
            "[CV] max_depth=7, min_child_weight=3 .................................\n",
            "[CV] ..... max_depth=7, min_child_weight=3, score=0.703, total=   9.9s\n",
            "[Parallel(n_jobs=1)]: Done  24 out of  24 | elapsed:  3.0min remaining:    0.0s\n",
            "[CV] max_depth=7, min_child_weight=5 .................................\n",
            "[CV] ..... max_depth=7, min_child_weight=5, score=0.702, total=  10.0s\n",
            "[Parallel(n_jobs=1)]: Done  25 out of  25 | elapsed:  3.2min remaining:    0.0s\n",
            "[CV] max_depth=7, min_child_weight=5 .................................\n",
            "[CV] ..... max_depth=7, min_child_weight=5, score=0.704, total=  10.1s\n",
            "[Parallel(n_jobs=1)]: Done  26 out of  26 | elapsed:  3.4min remaining:    0.0s\n",
            "[CV] max_depth=7, min_child_weight=5 .................................\n",
            "[CV] ..... max_depth=7, min_child_weight=5, score=0.703, total=  11.0s\n",
            "[Parallel(n_jobs=1)]: Done  27 out of  27 | elapsed:  3.5min remaining:    0.0s\n",
            "[CV] max_depth=9, min_child_weight=1 .................................\n",
            "[CV] ..... max_depth=9, min_child_weight=1, score=0.708, total=  13.8s\n",
            "[Parallel(n_jobs=1)]: Done  28 out of  28 | elapsed:  3.8min remaining:    0.0s\n",
            "[CV] max_depth=9, min_child_weight=1 .................................\n",
            "[CV] ..... max_depth=9, min_child_weight=1, score=0.709, total=  12.8s\n",
            "[Parallel(n_jobs=1)]: Done  29 out of  29 | elapsed:  4.0min remaining:    0.0s\n",
            "[CV] max_depth=9, min_child_weight=1 .................................\n",
            "[CV] ..... max_depth=9, min_child_weight=1, score=0.709, total=  12.6s\n",
            "[Parallel(n_jobs=1)]: Done  30 out of  30 | elapsed:  4.2min remaining:    0.0s\n",
            "[CV] max_depth=9, min_child_weight=3 .................................\n",
            "[CV] ..... max_depth=9, min_child_weight=3, score=0.708, total=  12.9s\n",
            "[Parallel(n_jobs=1)]: Done  31 out of  31 | elapsed:  4.4min remaining:    0.0s\n",
            "[CV] max_depth=9, min_child_weight=3 .................................\n",
            "[CV] ..... max_depth=9, min_child_weight=3, score=0.710, total=  12.9s\n",
            "[Parallel(n_jobs=1)]: Done  32 out of  32 | elapsed:  4.6min remaining:    0.0s\n",
            "[CV] max_depth=9, min_child_weight=3 .................................\n",
            "[CV] ..... max_depth=9, min_child_weight=3, score=0.709, total=  12.9s\n",
            "[Parallel(n_jobs=1)]: Done  33 out of  33 | elapsed:  4.8min remaining:    0.0s\n",
            "[CV] max_depth=9, min_child_weight=5 .................................\n",
            "[CV] ..... max_depth=9, min_child_weight=5, score=0.708, total=  12.8s\n",
            "[Parallel(n_jobs=1)]: Done  34 out of  34 | elapsed:  5.1min remaining:    0.0s\n",
            "[CV] max_depth=9, min_child_weight=5 .................................\n",
            "[CV] ..... max_depth=9, min_child_weight=5, score=0.709, total=  12.9s\n",
            "[Parallel(n_jobs=1)]: Done  35 out of  35 | elapsed:  5.3min remaining:    0.0s\n",
            "[CV] max_depth=9, min_child_weight=5 .................................\n",
            "[CV] ..... max_depth=9, min_child_weight=5, score=0.709, total=  13.4s\n",
            "[Parallel(n_jobs=1)]: Done  36 out of  36 | elapsed:  5.5min remaining:    0.0s\n",
            "[Parallel(n_jobs=1)]: Done  36 out of  36 | elapsed:  5.5min finished\n"
          ],
          "name": "stdout"
        },
        {
          "output_type": "execute_result",
          "data": {
            "text/plain": [
              "({'max_depth': 9, 'min_child_weight': 5}, 0.7087917864047807)"
            ]
          },
          "metadata": {
            "tags": []
          },
          "execution_count": 28
        }
      ]
    },
    {
      "cell_type": "code",
      "metadata": {
        "id": "11VIGJB0lnvv",
        "colab_type": "code",
        "colab": {
          "base_uri": "https://localhost:8080/",
          "height": 1000
        },
        "outputId": "67c451b6-683d-4666-8180-584a4317e186"
      },
      "source": [
        "param_test2 = {\n",
        " 'max_depth':[4,5,6],\n",
        " 'min_child_weight':[4,5,6]\n",
        "}\n",
        "gsearch2 = GridSearchCV(estimator = xgb.XGBClassifier( learning_rate =0.0936165921314771, n_estimators=35, gamma=9.943467991283027, subsample=0.8246604621518232, colsample_bytree=0.3561271102144279,\n",
        "                                                  objective= 'binary:logistic', nthread=-1, max_depth = 2,\n",
        "                                                 silent = 1 , min_child_weight = 53), \n",
        "                        param_grid = param_test2, scoring='roc_auc', n_jobs=1, iid=False, cv=3, verbose = 100)\n",
        "\n",
        "gsearch2.fit(trn_x , trn_y)\n",
        "gsearch2.best_params_, gsearch2.best_score_"
      ],
      "execution_count": null,
      "outputs": [
        {
          "output_type": "stream",
          "text": [
            "Fitting 3 folds for each of 9 candidates, totalling 27 fits\n",
            "[Parallel(n_jobs=1)]: Using backend SequentialBackend with 1 concurrent workers.\n",
            "[CV] max_depth=4, min_child_weight=4 .................................\n",
            "[CV] ..... max_depth=4, min_child_weight=4, score=0.689, total=   8.6s\n",
            "[Parallel(n_jobs=1)]: Done   1 out of   1 | elapsed:    8.6s remaining:    0.0s\n",
            "[CV] max_depth=4, min_child_weight=4 .................................\n",
            "[CV] ..... max_depth=4, min_child_weight=4, score=0.691, total=   7.0s\n",
            "[Parallel(n_jobs=1)]: Done   2 out of   2 | elapsed:   15.6s remaining:    0.0s\n",
            "[CV] max_depth=4, min_child_weight=4 .................................\n",
            "[CV] ..... max_depth=4, min_child_weight=4, score=0.691, total=   7.0s\n",
            "[Parallel(n_jobs=1)]: Done   3 out of   3 | elapsed:   22.5s remaining:    0.0s\n",
            "[CV] max_depth=4, min_child_weight=5 .................................\n",
            "[CV] ..... max_depth=4, min_child_weight=5, score=0.689, total=   7.0s\n",
            "[Parallel(n_jobs=1)]: Done   4 out of   4 | elapsed:   29.5s remaining:    0.0s\n",
            "[CV] max_depth=4, min_child_weight=5 .................................\n",
            "[CV] ..... max_depth=4, min_child_weight=5, score=0.691, total=   6.9s\n",
            "[Parallel(n_jobs=1)]: Done   5 out of   5 | elapsed:   36.4s remaining:    0.0s\n",
            "[CV] max_depth=4, min_child_weight=5 .................................\n",
            "[CV] ..... max_depth=4, min_child_weight=5, score=0.691, total=   6.7s\n",
            "[Parallel(n_jobs=1)]: Done   6 out of   6 | elapsed:   43.2s remaining:    0.0s\n",
            "[CV] max_depth=4, min_child_weight=6 .................................\n",
            "[CV] ..... max_depth=4, min_child_weight=6, score=0.689, total=   6.9s\n",
            "[Parallel(n_jobs=1)]: Done   7 out of   7 | elapsed:   50.1s remaining:    0.0s\n",
            "[CV] max_depth=4, min_child_weight=6 .................................\n",
            "[CV] ..... max_depth=4, min_child_weight=6, score=0.691, total=   6.9s\n",
            "[Parallel(n_jobs=1)]: Done   8 out of   8 | elapsed:   57.0s remaining:    0.0s\n",
            "[CV] max_depth=4, min_child_weight=6 .................................\n",
            "[CV] ..... max_depth=4, min_child_weight=6, score=0.691, total=   6.7s\n",
            "[Parallel(n_jobs=1)]: Done   9 out of   9 | elapsed:  1.1min remaining:    0.0s\n",
            "[CV] max_depth=5, min_child_weight=4 .................................\n",
            "[CV] ..... max_depth=5, min_child_weight=4, score=0.694, total=   8.2s\n",
            "[Parallel(n_jobs=1)]: Done  10 out of  10 | elapsed:  1.2min remaining:    0.0s\n",
            "[CV] max_depth=5, min_child_weight=4 .................................\n",
            "[CV] ..... max_depth=5, min_child_weight=4, score=0.696, total=   9.3s\n",
            "[Parallel(n_jobs=1)]: Done  11 out of  11 | elapsed:  1.4min remaining:    0.0s\n",
            "[CV] max_depth=5, min_child_weight=4 .................................\n",
            "[CV] ..... max_depth=5, min_child_weight=4, score=0.696, total=   9.0s\n",
            "[Parallel(n_jobs=1)]: Done  12 out of  12 | elapsed:  1.5min remaining:    0.0s\n",
            "[CV] max_depth=5, min_child_weight=5 .................................\n",
            "[CV] ..... max_depth=5, min_child_weight=5, score=0.694, total=   8.7s\n",
            "[Parallel(n_jobs=1)]: Done  13 out of  13 | elapsed:  1.6min remaining:    0.0s\n",
            "[CV] max_depth=5, min_child_weight=5 .................................\n",
            "[CV] ..... max_depth=5, min_child_weight=5, score=0.696, total=   8.1s\n",
            "[Parallel(n_jobs=1)]: Done  14 out of  14 | elapsed:  1.8min remaining:    0.0s\n",
            "[CV] max_depth=5, min_child_weight=5 .................................\n",
            "[CV] ..... max_depth=5, min_child_weight=5, score=0.696, total=   7.8s\n",
            "[Parallel(n_jobs=1)]: Done  15 out of  15 | elapsed:  1.9min remaining:    0.0s\n",
            "[CV] max_depth=5, min_child_weight=6 .................................\n",
            "[CV] ..... max_depth=5, min_child_weight=6, score=0.694, total=   8.0s\n",
            "[Parallel(n_jobs=1)]: Done  16 out of  16 | elapsed:  2.0min remaining:    0.0s\n",
            "[CV] max_depth=5, min_child_weight=6 .................................\n",
            "[CV] ..... max_depth=5, min_child_weight=6, score=0.696, total=   8.1s\n",
            "[Parallel(n_jobs=1)]: Done  17 out of  17 | elapsed:  2.2min remaining:    0.0s\n",
            "[CV] max_depth=5, min_child_weight=6 .................................\n",
            "[CV] ..... max_depth=5, min_child_weight=6, score=0.696, total=   8.9s\n",
            "[Parallel(n_jobs=1)]: Done  18 out of  18 | elapsed:  2.3min remaining:    0.0s\n",
            "[CV] max_depth=6, min_child_weight=4 .................................\n",
            "[CV] ..... max_depth=6, min_child_weight=4, score=0.699, total=  10.4s\n",
            "[Parallel(n_jobs=1)]: Done  19 out of  19 | elapsed:  2.5min remaining:    0.0s\n",
            "[CV] max_depth=6, min_child_weight=4 .................................\n",
            "[CV] ..... max_depth=6, min_child_weight=4, score=0.700, total=   9.4s\n",
            "[Parallel(n_jobs=1)]: Done  20 out of  20 | elapsed:  2.7min remaining:    0.0s\n",
            "[CV] max_depth=6, min_child_weight=4 .................................\n",
            "[CV] ..... max_depth=6, min_child_weight=4, score=0.700, total=   9.2s\n",
            "[Parallel(n_jobs=1)]: Done  21 out of  21 | elapsed:  2.8min remaining:    0.0s\n",
            "[CV] max_depth=6, min_child_weight=5 .................................\n",
            "[CV] ..... max_depth=6, min_child_weight=5, score=0.699, total=   9.3s\n",
            "[Parallel(n_jobs=1)]: Done  22 out of  22 | elapsed:  3.0min remaining:    0.0s\n",
            "[CV] max_depth=6, min_child_weight=5 .................................\n",
            "[CV] ..... max_depth=6, min_child_weight=5, score=0.700, total=   9.6s\n",
            "[Parallel(n_jobs=1)]: Done  23 out of  23 | elapsed:  3.1min remaining:    0.0s\n",
            "[CV] max_depth=6, min_child_weight=5 .................................\n",
            "[CV] ..... max_depth=6, min_child_weight=5, score=0.700, total=   9.4s\n",
            "[Parallel(n_jobs=1)]: Done  24 out of  24 | elapsed:  3.3min remaining:    0.0s\n",
            "[CV] max_depth=6, min_child_weight=6 .................................\n",
            "[CV] ..... max_depth=6, min_child_weight=6, score=0.699, total=  11.2s\n",
            "[Parallel(n_jobs=1)]: Done  25 out of  25 | elapsed:  3.5min remaining:    0.0s\n",
            "[CV] max_depth=6, min_child_weight=6 .................................\n",
            "[CV] ..... max_depth=6, min_child_weight=6, score=0.700, total=  10.8s\n",
            "[Parallel(n_jobs=1)]: Done  26 out of  26 | elapsed:  3.7min remaining:    0.0s\n",
            "[CV] max_depth=6, min_child_weight=6 .................................\n",
            "[CV] ..... max_depth=6, min_child_weight=6, score=0.700, total=   9.2s\n",
            "[Parallel(n_jobs=1)]: Done  27 out of  27 | elapsed:  3.8min remaining:    0.0s\n",
            "[Parallel(n_jobs=1)]: Done  27 out of  27 | elapsed:  3.8min finished\n"
          ],
          "name": "stdout"
        },
        {
          "output_type": "execute_result",
          "data": {
            "text/plain": [
              "({'max_depth': 6, 'min_child_weight': 6}, 0.7087917864047807)"
            ]
          },
          "metadata": {
            "tags": []
          },
          "execution_count": 31
        }
      ]
    },
    {
      "cell_type": "code",
      "metadata": {
        "id": "FTeFxH8kpkW6",
        "colab_type": "code",
        "colab": {
          "base_uri": "https://localhost:8080/",
          "height": 697
        },
        "outputId": "85d5815a-8219-45da-fa01-193e739dcfe7"
      },
      "source": [
        "param_test2b = {\n",
        "'min_child_weight':[6,8,10,12]\n",
        "}\n",
        "gsearch2b = GridSearchCV(estimator = xgb.XGBClassifier( learning_rate =0.0936165921314771, n_estimators=35, gamma=9.943467991283027, subsample=0.8246604621518232, colsample_bytree=0.3561271102144279,\n",
        "                                                  objective= 'binary:logistic', nthread=-1, max_depth = 2,\n",
        "                                                 silent = 1 , min_child_weight = 53), \n",
        "                        param_grid = param_test2b, scoring='roc_auc', n_jobs=1, iid=False, cv=3, verbose = 100)\n",
        "\n",
        "gsearch2b.fit(trn_x , trn_y)\n",
        "gsearch2b.best_params_, gsearch1.best_score_"
      ],
      "execution_count": null,
      "outputs": [
        {
          "output_type": "stream",
          "text": [
            "Fitting 3 folds for each of 4 candidates, totalling 12 fits\n",
            "[Parallel(n_jobs=1)]: Using backend SequentialBackend with 1 concurrent workers.\n",
            "[CV] min_child_weight=6 ..............................................\n",
            "[CV] .................. min_child_weight=6, score=0.675, total=   5.3s\n",
            "[Parallel(n_jobs=1)]: Done   1 out of   1 | elapsed:    5.3s remaining:    0.0s\n",
            "[CV] min_child_weight=6 ..............................................\n",
            "[CV] .................. min_child_weight=6, score=0.677, total=   5.0s\n",
            "[Parallel(n_jobs=1)]: Done   2 out of   2 | elapsed:   10.3s remaining:    0.0s\n",
            "[CV] min_child_weight=6 ..............................................\n",
            "[CV] .................. min_child_weight=6, score=0.675, total=   4.9s\n",
            "[Parallel(n_jobs=1)]: Done   3 out of   3 | elapsed:   15.1s remaining:    0.0s\n",
            "[CV] min_child_weight=8 ..............................................\n",
            "[CV] .................. min_child_weight=8, score=0.675, total=   5.0s\n",
            "[Parallel(n_jobs=1)]: Done   4 out of   4 | elapsed:   20.1s remaining:    0.0s\n",
            "[CV] min_child_weight=8 ..............................................\n",
            "[CV] .................. min_child_weight=8, score=0.677, total=   4.9s\n",
            "[Parallel(n_jobs=1)]: Done   5 out of   5 | elapsed:   25.0s remaining:    0.0s\n",
            "[CV] min_child_weight=8 ..............................................\n",
            "[CV] .................. min_child_weight=8, score=0.675, total=   4.9s\n",
            "[Parallel(n_jobs=1)]: Done   6 out of   6 | elapsed:   29.9s remaining:    0.0s\n",
            "[CV] min_child_weight=10 .............................................\n",
            "[CV] ................. min_child_weight=10, score=0.675, total=   4.9s\n",
            "[Parallel(n_jobs=1)]: Done   7 out of   7 | elapsed:   34.8s remaining:    0.0s\n",
            "[CV] min_child_weight=10 .............................................\n",
            "[CV] ................. min_child_weight=10, score=0.677, total=   5.4s\n",
            "[Parallel(n_jobs=1)]: Done   8 out of   8 | elapsed:   40.2s remaining:    0.0s\n",
            "[CV] min_child_weight=10 .............................................\n",
            "[CV] ................. min_child_weight=10, score=0.675, total=   5.4s\n",
            "[Parallel(n_jobs=1)]: Done   9 out of   9 | elapsed:   45.6s remaining:    0.0s\n",
            "[CV] min_child_weight=12 .............................................\n",
            "[CV] ................. min_child_weight=12, score=0.675, total=   5.5s\n",
            "[Parallel(n_jobs=1)]: Done  10 out of  10 | elapsed:   51.1s remaining:    0.0s\n",
            "[CV] min_child_weight=12 .............................................\n",
            "[CV] ................. min_child_weight=12, score=0.677, total=   5.5s\n",
            "[Parallel(n_jobs=1)]: Done  11 out of  11 | elapsed:   56.6s remaining:    0.0s\n",
            "[CV] min_child_weight=12 .............................................\n",
            "[CV] ................. min_child_weight=12, score=0.675, total=   5.0s\n",
            "[Parallel(n_jobs=1)]: Done  12 out of  12 | elapsed:  1.0min remaining:    0.0s\n",
            "[Parallel(n_jobs=1)]: Done  12 out of  12 | elapsed:  1.0min finished\n"
          ],
          "name": "stdout"
        },
        {
          "output_type": "execute_result",
          "data": {
            "text/plain": [
              "({'min_child_weight': 6}, 0.7087917864047807)"
            ]
          },
          "metadata": {
            "tags": []
          },
          "execution_count": 32
        }
      ]
    },
    {
      "cell_type": "code",
      "metadata": {
        "id": "Cfm949p9qvvF",
        "colab_type": "code",
        "colab": {
          "base_uri": "https://localhost:8080/",
          "height": 850
        },
        "outputId": "77644531-e6f7-40a1-b215-2c761f206f99"
      },
      "source": [
        "param_test3 = {\n",
        " 'gamma':[i/10.0 for i in range(0,5)]\n",
        "}\n",
        "gsearch3 = GridSearchCV(estimator = xgb.XGBClassifier( learning_rate =0.0936165921314771, n_estimators=35, gamma=9.943467991283027, subsample=0.8246604621518232, colsample_bytree=0.3561271102144279,\n",
        "                                                  objective= 'binary:logistic', nthread=-1, max_depth = 2,\n",
        "                                                 silent = 1 , min_child_weight = 53), \n",
        "                        param_grid = param_test3, scoring='roc_auc', n_jobs=1, iid=False, cv=3, verbose = 100)\n",
        "\n",
        "gsearch3.fit(trn_x , trn_y)\n",
        "gsearch3.best_params_, gsearch1.best_score_"
      ],
      "execution_count": null,
      "outputs": [
        {
          "output_type": "stream",
          "text": [
            "Fitting 3 folds for each of 5 candidates, totalling 15 fits\n",
            "[Parallel(n_jobs=1)]: Using backend SequentialBackend with 1 concurrent workers.\n",
            "[CV] gamma=0.0 .......................................................\n",
            "[CV] ........................... gamma=0.0, score=0.675, total=   5.1s\n",
            "[Parallel(n_jobs=1)]: Done   1 out of   1 | elapsed:    5.1s remaining:    0.0s\n",
            "[CV] gamma=0.0 .......................................................\n",
            "[CV] ........................... gamma=0.0, score=0.677, total=   5.0s\n",
            "[Parallel(n_jobs=1)]: Done   2 out of   2 | elapsed:   10.1s remaining:    0.0s\n",
            "[CV] gamma=0.0 .......................................................\n",
            "[CV] ........................... gamma=0.0, score=0.675, total=   4.7s\n",
            "[Parallel(n_jobs=1)]: Done   3 out of   3 | elapsed:   14.8s remaining:    0.0s\n",
            "[CV] gamma=0.1 .......................................................\n",
            "[CV] ........................... gamma=0.1, score=0.675, total=   4.8s\n",
            "[Parallel(n_jobs=1)]: Done   4 out of   4 | elapsed:   19.6s remaining:    0.0s\n",
            "[CV] gamma=0.1 .......................................................\n",
            "[CV] ........................... gamma=0.1, score=0.677, total=   5.2s\n",
            "[Parallel(n_jobs=1)]: Done   5 out of   5 | elapsed:   24.9s remaining:    0.0s\n",
            "[CV] gamma=0.1 .......................................................\n",
            "[CV] ........................... gamma=0.1, score=0.675, total=   5.2s\n",
            "[Parallel(n_jobs=1)]: Done   6 out of   6 | elapsed:   30.1s remaining:    0.0s\n",
            "[CV] gamma=0.2 .......................................................\n",
            "[CV] ........................... gamma=0.2, score=0.675, total=   5.1s\n",
            "[Parallel(n_jobs=1)]: Done   7 out of   7 | elapsed:   35.2s remaining:    0.0s\n",
            "[CV] gamma=0.2 .......................................................\n",
            "[CV] ........................... gamma=0.2, score=0.677, total=   4.8s\n",
            "[Parallel(n_jobs=1)]: Done   8 out of   8 | elapsed:   40.0s remaining:    0.0s\n",
            "[CV] gamma=0.2 .......................................................\n",
            "[CV] ........................... gamma=0.2, score=0.675, total=   4.7s\n",
            "[Parallel(n_jobs=1)]: Done   9 out of   9 | elapsed:   44.7s remaining:    0.0s\n",
            "[CV] gamma=0.3 .......................................................\n",
            "[CV] ........................... gamma=0.3, score=0.675, total=   4.9s\n",
            "[Parallel(n_jobs=1)]: Done  10 out of  10 | elapsed:   49.6s remaining:    0.0s\n",
            "[CV] gamma=0.3 .......................................................\n",
            "[CV] ........................... gamma=0.3, score=0.677, total=   4.8s\n",
            "[Parallel(n_jobs=1)]: Done  11 out of  11 | elapsed:   54.4s remaining:    0.0s\n",
            "[CV] gamma=0.3 .......................................................\n",
            "[CV] ........................... gamma=0.3, score=0.675, total=   4.8s\n",
            "[Parallel(n_jobs=1)]: Done  12 out of  12 | elapsed:   59.2s remaining:    0.0s\n",
            "[CV] gamma=0.4 .......................................................\n",
            "[CV] ........................... gamma=0.4, score=0.675, total=   4.8s\n",
            "[Parallel(n_jobs=1)]: Done  13 out of  13 | elapsed:  1.1min remaining:    0.0s\n",
            "[CV] gamma=0.4 .......................................................\n",
            "[CV] ........................... gamma=0.4, score=0.677, total=   4.8s\n",
            "[Parallel(n_jobs=1)]: Done  14 out of  14 | elapsed:  1.1min remaining:    0.0s\n",
            "[CV] gamma=0.4 .......................................................\n",
            "[CV] ........................... gamma=0.4, score=0.675, total=   4.8s\n",
            "[Parallel(n_jobs=1)]: Done  15 out of  15 | elapsed:  1.2min remaining:    0.0s\n",
            "[Parallel(n_jobs=1)]: Done  15 out of  15 | elapsed:  1.2min finished\n"
          ],
          "name": "stdout"
        },
        {
          "output_type": "execute_result",
          "data": {
            "text/plain": [
              "({'gamma': 0.0}, 0.7087917864047807)"
            ]
          },
          "metadata": {
            "tags": []
          },
          "execution_count": 34
        }
      ]
    },
    {
      "cell_type": "code",
      "metadata": {
        "id": "Mp0apFDWwpUn",
        "colab_type": "code",
        "colab": {
          "base_uri": "https://localhost:8080/",
          "height": 1000
        },
        "outputId": "34287076-1337-45b1-a9b5-c9718e0f0db0"
      },
      "source": [
        "from sklearn.model_selection import GridSearchCV   #Perforing grid search\n",
        "param_test4 = {\n",
        " 'subsample':[i/10.0 for i in range(6,10)],\n",
        " 'colsample_bytree':[i/10.0 for i in range(6,10)]\n",
        "}\n",
        "gsearch4 = GridSearchCV(estimator = xgb.XGBClassifier( learning_rate =0.0936165921314771, n_estimators=140, gamma=0, subsample=0.8246604621518232, colsample_bytree=0.3561271102144279,\n",
        "                                                  objective= 'binary:logistic', nthread=-1, max_depth = 2,\n",
        "                                                 silent = 1 , min_child_weight = 53), \n",
        "                        param_grid = param_test4, scoring='roc_auc', n_jobs=1, iid=False, cv=3, verbose = 100)\n",
        "gsearch4.fit(trn_x , trn_y)\n",
        "gsearch4.best_params_, gsearch4.best_score_"
      ],
      "execution_count": null,
      "outputs": [
        {
          "output_type": "stream",
          "text": [
            "Fitting 3 folds for each of 16 candidates, totalling 48 fits\n",
            "[Parallel(n_jobs=1)]: Using backend SequentialBackend with 1 concurrent workers.\n",
            "[CV] colsample_bytree=0.6, subsample=0.6 .............................\n",
            "[CV] . colsample_bytree=0.6, subsample=0.6, score=0.687, total=  15.6s\n",
            "[Parallel(n_jobs=1)]: Done   1 out of   1 | elapsed:   15.6s remaining:    0.0s\n",
            "[CV] colsample_bytree=0.6, subsample=0.6 .............................\n",
            "[CV] . colsample_bytree=0.6, subsample=0.6, score=0.689, total=  15.5s\n",
            "[Parallel(n_jobs=1)]: Done   2 out of   2 | elapsed:   31.1s remaining:    0.0s\n",
            "[CV] colsample_bytree=0.6, subsample=0.6 .............................\n",
            "[CV] . colsample_bytree=0.6, subsample=0.6, score=0.688, total=  15.5s\n",
            "[Parallel(n_jobs=1)]: Done   3 out of   3 | elapsed:   46.6s remaining:    0.0s\n",
            "[CV] colsample_bytree=0.6, subsample=0.7 .............................\n",
            "[CV] . colsample_bytree=0.6, subsample=0.7, score=0.687, total=  15.2s\n",
            "[Parallel(n_jobs=1)]: Done   4 out of   4 | elapsed:  1.0min remaining:    0.0s\n",
            "[CV] colsample_bytree=0.6, subsample=0.7 .............................\n",
            "[CV] . colsample_bytree=0.6, subsample=0.7, score=0.689, total=  15.2s\n",
            "[Parallel(n_jobs=1)]: Done   5 out of   5 | elapsed:  1.3min remaining:    0.0s\n",
            "[CV] colsample_bytree=0.6, subsample=0.7 .............................\n",
            "[CV] . colsample_bytree=0.6, subsample=0.7, score=0.688, total=  15.2s\n",
            "[Parallel(n_jobs=1)]: Done   6 out of   6 | elapsed:  1.5min remaining:    0.0s\n",
            "[CV] colsample_bytree=0.6, subsample=0.8 .............................\n",
            "[CV] . colsample_bytree=0.6, subsample=0.8, score=0.687, total=  15.1s\n",
            "[Parallel(n_jobs=1)]: Done   7 out of   7 | elapsed:  1.8min remaining:    0.0s\n",
            "[CV] colsample_bytree=0.6, subsample=0.8 .............................\n",
            "[CV] . colsample_bytree=0.6, subsample=0.8, score=0.689, total=  14.8s\n",
            "[Parallel(n_jobs=1)]: Done   8 out of   8 | elapsed:  2.0min remaining:    0.0s\n",
            "[CV] colsample_bytree=0.6, subsample=0.8 .............................\n",
            "[CV] . colsample_bytree=0.6, subsample=0.8, score=0.688, total=  14.8s\n",
            "[Parallel(n_jobs=1)]: Done   9 out of   9 | elapsed:  2.3min remaining:    0.0s\n",
            "[CV] colsample_bytree=0.6, subsample=0.9 .............................\n",
            "[CV] . colsample_bytree=0.6, subsample=0.9, score=0.688, total=  14.6s\n",
            "[Parallel(n_jobs=1)]: Done  10 out of  10 | elapsed:  2.5min remaining:    0.0s\n",
            "[CV] colsample_bytree=0.6, subsample=0.9 .............................\n",
            "[CV] . colsample_bytree=0.6, subsample=0.9, score=0.688, total=  14.7s\n",
            "[Parallel(n_jobs=1)]: Done  11 out of  11 | elapsed:  2.8min remaining:    0.0s\n",
            "[CV] colsample_bytree=0.6, subsample=0.9 .............................\n",
            "[CV] . colsample_bytree=0.6, subsample=0.9, score=0.688, total=  14.6s\n",
            "[Parallel(n_jobs=1)]: Done  12 out of  12 | elapsed:  3.0min remaining:    0.0s\n",
            "[CV] colsample_bytree=0.7, subsample=0.6 .............................\n",
            "[CV] . colsample_bytree=0.7, subsample=0.6, score=0.687, total=  15.6s\n",
            "[Parallel(n_jobs=1)]: Done  13 out of  13 | elapsed:  3.3min remaining:    0.0s\n",
            "[CV] colsample_bytree=0.7, subsample=0.6 .............................\n",
            "[CV] . colsample_bytree=0.7, subsample=0.6, score=0.689, total=  15.6s\n",
            "[Parallel(n_jobs=1)]: Done  14 out of  14 | elapsed:  3.5min remaining:    0.0s\n",
            "[CV] colsample_bytree=0.7, subsample=0.6 .............................\n",
            "[CV] . colsample_bytree=0.7, subsample=0.6, score=0.689, total=  15.6s\n",
            "[Parallel(n_jobs=1)]: Done  15 out of  15 | elapsed:  3.8min remaining:    0.0s\n",
            "[CV] colsample_bytree=0.7, subsample=0.7 .............................\n",
            "[CV] . colsample_bytree=0.7, subsample=0.7, score=0.688, total=  15.2s\n",
            "[Parallel(n_jobs=1)]: Done  16 out of  16 | elapsed:  4.0min remaining:    0.0s\n",
            "[CV] colsample_bytree=0.7, subsample=0.7 .............................\n",
            "[CV] . colsample_bytree=0.7, subsample=0.7, score=0.689, total=  15.5s\n",
            "[Parallel(n_jobs=1)]: Done  17 out of  17 | elapsed:  4.3min remaining:    0.0s\n",
            "[CV] colsample_bytree=0.7, subsample=0.7 .............................\n",
            "[CV] . colsample_bytree=0.7, subsample=0.7, score=0.688, total=  15.4s\n",
            "[Parallel(n_jobs=1)]: Done  18 out of  18 | elapsed:  4.6min remaining:    0.0s\n",
            "[CV] colsample_bytree=0.7, subsample=0.8 .............................\n",
            "[CV] . colsample_bytree=0.7, subsample=0.8, score=0.687, total=  15.0s\n",
            "[Parallel(n_jobs=1)]: Done  19 out of  19 | elapsed:  4.8min remaining:    0.0s\n",
            "[CV] colsample_bytree=0.7, subsample=0.8 .............................\n",
            "[CV] . colsample_bytree=0.7, subsample=0.8, score=0.689, total=  15.0s\n",
            "[Parallel(n_jobs=1)]: Done  20 out of  20 | elapsed:  5.1min remaining:    0.0s\n",
            "[CV] colsample_bytree=0.7, subsample=0.8 .............................\n",
            "[CV] . colsample_bytree=0.7, subsample=0.8, score=0.688, total=  15.2s\n",
            "[Parallel(n_jobs=1)]: Done  21 out of  21 | elapsed:  5.3min remaining:    0.0s\n",
            "[CV] colsample_bytree=0.7, subsample=0.9 .............................\n",
            "[CV] . colsample_bytree=0.7, subsample=0.9, score=0.687, total=  14.9s\n",
            "[Parallel(n_jobs=1)]: Done  22 out of  22 | elapsed:  5.6min remaining:    0.0s\n",
            "[CV] colsample_bytree=0.7, subsample=0.9 .............................\n",
            "[CV] . colsample_bytree=0.7, subsample=0.9, score=0.689, total=  14.9s\n",
            "[Parallel(n_jobs=1)]: Done  23 out of  23 | elapsed:  5.8min remaining:    0.0s\n",
            "[CV] colsample_bytree=0.7, subsample=0.9 .............................\n",
            "[CV] . colsample_bytree=0.7, subsample=0.9, score=0.689, total=  14.8s\n",
            "[Parallel(n_jobs=1)]: Done  24 out of  24 | elapsed:  6.1min remaining:    0.0s\n",
            "[CV] colsample_bytree=0.8, subsample=0.6 .............................\n",
            "[CV] . colsample_bytree=0.8, subsample=0.6, score=0.687, total=  16.3s\n",
            "[Parallel(n_jobs=1)]: Done  25 out of  25 | elapsed:  6.3min remaining:    0.0s\n",
            "[CV] colsample_bytree=0.8, subsample=0.6 .............................\n",
            "[CV] . colsample_bytree=0.8, subsample=0.6, score=0.689, total=  16.4s\n",
            "[Parallel(n_jobs=1)]: Done  26 out of  26 | elapsed:  6.6min remaining:    0.0s\n",
            "[CV] colsample_bytree=0.8, subsample=0.6 .............................\n",
            "[CV] . colsample_bytree=0.8, subsample=0.6, score=0.689, total=  16.5s\n",
            "[Parallel(n_jobs=1)]: Done  27 out of  27 | elapsed:  6.9min remaining:    0.0s\n",
            "[CV] colsample_bytree=0.8, subsample=0.7 .............................\n",
            "[CV] . colsample_bytree=0.8, subsample=0.7, score=0.687, total=  16.0s\n",
            "[Parallel(n_jobs=1)]: Done  28 out of  28 | elapsed:  7.1min remaining:    0.0s\n",
            "[CV] colsample_bytree=0.8, subsample=0.7 .............................\n",
            "[CV] . colsample_bytree=0.8, subsample=0.7, score=0.689, total=  15.9s\n",
            "[Parallel(n_jobs=1)]: Done  29 out of  29 | elapsed:  7.4min remaining:    0.0s\n",
            "[CV] colsample_bytree=0.8, subsample=0.7 .............................\n",
            "[CV] . colsample_bytree=0.8, subsample=0.7, score=0.689, total=  16.0s\n",
            "[Parallel(n_jobs=1)]: Done  30 out of  30 | elapsed:  7.7min remaining:    0.0s\n",
            "[CV] colsample_bytree=0.8, subsample=0.8 .............................\n",
            "[CV] . colsample_bytree=0.8, subsample=0.8, score=0.687, total=  15.4s\n",
            "[Parallel(n_jobs=1)]: Done  31 out of  31 | elapsed:  7.9min remaining:    0.0s\n",
            "[CV] colsample_bytree=0.8, subsample=0.8 .............................\n",
            "[CV] . colsample_bytree=0.8, subsample=0.8, score=0.689, total=  15.4s\n",
            "[Parallel(n_jobs=1)]: Done  32 out of  32 | elapsed:  8.2min remaining:    0.0s\n",
            "[CV] colsample_bytree=0.8, subsample=0.8 .............................\n",
            "[CV] . colsample_bytree=0.8, subsample=0.8, score=0.688, total=  15.5s\n",
            "[Parallel(n_jobs=1)]: Done  33 out of  33 | elapsed:  8.5min remaining:    0.0s\n",
            "[CV] colsample_bytree=0.8, subsample=0.9 .............................\n",
            "[CV] . colsample_bytree=0.8, subsample=0.9, score=0.687, total=  15.1s\n",
            "[Parallel(n_jobs=1)]: Done  34 out of  34 | elapsed:  8.7min remaining:    0.0s\n",
            "[CV] colsample_bytree=0.8, subsample=0.9 .............................\n",
            "[CV] . colsample_bytree=0.8, subsample=0.9, score=0.689, total=  15.0s\n",
            "[Parallel(n_jobs=1)]: Done  35 out of  35 | elapsed:  9.0min remaining:    0.0s\n",
            "[CV] colsample_bytree=0.8, subsample=0.9 .............................\n",
            "[CV] . colsample_bytree=0.8, subsample=0.9, score=0.689, total=  15.2s\n",
            "[Parallel(n_jobs=1)]: Done  36 out of  36 | elapsed:  9.2min remaining:    0.0s\n",
            "[CV] colsample_bytree=0.9, subsample=0.6 .............................\n",
            "[CV] . colsample_bytree=0.9, subsample=0.6, score=0.688, total=  17.8s\n",
            "[Parallel(n_jobs=1)]: Done  37 out of  37 | elapsed:  9.5min remaining:    0.0s\n",
            "[CV] colsample_bytree=0.9, subsample=0.6 .............................\n",
            "[CV] . colsample_bytree=0.9, subsample=0.6, score=0.689, total=  17.7s\n",
            "[Parallel(n_jobs=1)]: Done  38 out of  38 | elapsed:  9.8min remaining:    0.0s\n",
            "[CV] colsample_bytree=0.9, subsample=0.6 .............................\n",
            "[CV] . colsample_bytree=0.9, subsample=0.6, score=0.689, total=  17.7s\n",
            "[Parallel(n_jobs=1)]: Done  39 out of  39 | elapsed: 10.1min remaining:    0.0s\n",
            "[CV] colsample_bytree=0.9, subsample=0.7 .............................\n",
            "[CV] . colsample_bytree=0.9, subsample=0.7, score=0.687, total=  17.1s\n",
            "[Parallel(n_jobs=1)]: Done  40 out of  40 | elapsed: 10.4min remaining:    0.0s\n",
            "[CV] colsample_bytree=0.9, subsample=0.7 .............................\n",
            "[CV] . colsample_bytree=0.9, subsample=0.7, score=0.689, total=  17.1s\n",
            "[Parallel(n_jobs=1)]: Done  41 out of  41 | elapsed: 10.7min remaining:    0.0s\n",
            "[CV] colsample_bytree=0.9, subsample=0.7 .............................\n",
            "[CV] . colsample_bytree=0.9, subsample=0.7, score=0.688, total=  17.3s\n",
            "[Parallel(n_jobs=1)]: Done  42 out of  42 | elapsed: 11.0min remaining:    0.0s\n",
            "[CV] colsample_bytree=0.9, subsample=0.8 .............................\n",
            "[CV] . colsample_bytree=0.9, subsample=0.8, score=0.688, total=  16.6s\n",
            "[Parallel(n_jobs=1)]: Done  43 out of  43 | elapsed: 11.2min remaining:    0.0s\n",
            "[CV] colsample_bytree=0.9, subsample=0.8 .............................\n",
            "[CV] . colsample_bytree=0.9, subsample=0.8, score=0.689, total=  16.6s\n",
            "[Parallel(n_jobs=1)]: Done  44 out of  44 | elapsed: 11.5min remaining:    0.0s\n",
            "[CV] colsample_bytree=0.9, subsample=0.8 .............................\n",
            "[CV] . colsample_bytree=0.9, subsample=0.8, score=0.689, total=  16.7s\n",
            "[Parallel(n_jobs=1)]: Done  45 out of  45 | elapsed: 11.8min remaining:    0.0s\n",
            "[CV] colsample_bytree=0.9, subsample=0.9 .............................\n",
            "[CV] . colsample_bytree=0.9, subsample=0.9, score=0.688, total=  16.2s\n",
            "[Parallel(n_jobs=1)]: Done  46 out of  46 | elapsed: 12.1min remaining:    0.0s\n",
            "[CV] colsample_bytree=0.9, subsample=0.9 .............................\n",
            "[CV] . colsample_bytree=0.9, subsample=0.9, score=0.689, total=  16.3s\n",
            "[Parallel(n_jobs=1)]: Done  47 out of  47 | elapsed: 12.3min remaining:    0.0s\n",
            "[CV] colsample_bytree=0.9, subsample=0.9 .............................\n",
            "[CV] . colsample_bytree=0.9, subsample=0.9, score=0.689, total=  16.2s\n",
            "[Parallel(n_jobs=1)]: Done  48 out of  48 | elapsed: 12.6min remaining:    0.0s\n",
            "[Parallel(n_jobs=1)]: Done  48 out of  48 | elapsed: 12.6min finished\n"
          ],
          "name": "stdout"
        },
        {
          "output_type": "execute_result",
          "data": {
            "text/plain": [
              "({'colsample_bytree': 0.9, 'subsample': 0.6}, 0.6886697208238418)"
            ]
          },
          "metadata": {
            "tags": []
          },
          "execution_count": 29
        }
      ]
    },
    {
      "cell_type": "code",
      "metadata": {
        "id": "rMUPX0dPfShj",
        "colab_type": "code",
        "colab": {
          "base_uri": "https://localhost:8080/",
          "height": 1000
        },
        "outputId": "5fbbe45c-5cb5-446d-b284-cacf3290266e"
      },
      "source": [
        "param_test5 = {\n",
        " 'subsample':[i/100.0 for i in range(75,90,5)],\n",
        " 'colsample_bytree':[i/100.0 for i in range(75,90,5)]\n",
        "}\n",
        "gsearch5 = GridSearchCV(estimator = xgb.XGBClassifier( learning_rate =0.0936165921314771, n_estimators=140, gamma=0, subsample=0.8246604621518232, colsample_bytree=0.3561271102144279,\n",
        "                                                  objective= 'binary:logistic', nthread=-1, max_depth = 2,\n",
        "                                                 silent = 1 , min_child_weight = 53), \n",
        "                        param_grid = param_test5, scoring='roc_auc', n_jobs=1, iid=False, cv=3, verbose = 100)\n",
        "gsearch5.fit(trn_x , trn_y)\n",
        "gsearch5.best_params_, gsearch5.best_score_"
      ],
      "execution_count": null,
      "outputs": [
        {
          "output_type": "stream",
          "text": [
            "Fitting 3 folds for each of 9 candidates, totalling 27 fits\n",
            "[Parallel(n_jobs=1)]: Using backend SequentialBackend with 1 concurrent workers.\n",
            "[CV] colsample_bytree=0.75, subsample=0.75 ...........................\n",
            "[CV]  colsample_bytree=0.75, subsample=0.75, score=0.687, total=  15.2s\n",
            "[Parallel(n_jobs=1)]: Done   1 out of   1 | elapsed:   15.2s remaining:    0.0s\n",
            "[CV] colsample_bytree=0.75, subsample=0.75 ...........................\n",
            "[CV]  colsample_bytree=0.75, subsample=0.75, score=0.689, total=  15.2s\n",
            "[Parallel(n_jobs=1)]: Done   2 out of   2 | elapsed:   30.5s remaining:    0.0s\n",
            "[CV] colsample_bytree=0.75, subsample=0.75 ...........................\n",
            "[CV]  colsample_bytree=0.75, subsample=0.75, score=0.688, total=  15.3s\n",
            "[Parallel(n_jobs=1)]: Done   3 out of   3 | elapsed:   45.7s remaining:    0.0s\n",
            "[CV] colsample_bytree=0.75, subsample=0.8 ............................\n",
            "[CV]  colsample_bytree=0.75, subsample=0.8, score=0.687, total=  15.0s\n",
            "[Parallel(n_jobs=1)]: Done   4 out of   4 | elapsed:  1.0min remaining:    0.0s\n",
            "[CV] colsample_bytree=0.75, subsample=0.8 ............................\n",
            "[CV]  colsample_bytree=0.75, subsample=0.8, score=0.689, total=  14.9s\n",
            "[Parallel(n_jobs=1)]: Done   5 out of   5 | elapsed:  1.3min remaining:    0.0s\n",
            "[CV] colsample_bytree=0.75, subsample=0.8 ............................\n",
            "[CV]  colsample_bytree=0.75, subsample=0.8, score=0.688, total=  15.0s\n",
            "[Parallel(n_jobs=1)]: Done   6 out of   6 | elapsed:  1.5min remaining:    0.0s\n",
            "[CV] colsample_bytree=0.75, subsample=0.85 ...........................\n",
            "[CV]  colsample_bytree=0.75, subsample=0.85, score=0.687, total=  14.9s\n",
            "[Parallel(n_jobs=1)]: Done   7 out of   7 | elapsed:  1.8min remaining:    0.0s\n",
            "[CV] colsample_bytree=0.75, subsample=0.85 ...........................\n",
            "[CV]  colsample_bytree=0.75, subsample=0.85, score=0.689, total=  14.7s\n",
            "[Parallel(n_jobs=1)]: Done   8 out of   8 | elapsed:  2.0min remaining:    0.0s\n",
            "[CV] colsample_bytree=0.75, subsample=0.85 ...........................\n",
            "[CV]  colsample_bytree=0.75, subsample=0.85, score=0.688, total=  14.8s\n",
            "[Parallel(n_jobs=1)]: Done   9 out of   9 | elapsed:  2.3min remaining:    0.0s\n",
            "[CV] colsample_bytree=0.8, subsample=0.75 ............................\n",
            "[CV]  colsample_bytree=0.8, subsample=0.75, score=0.687, total=  15.7s\n",
            "[Parallel(n_jobs=1)]: Done  10 out of  10 | elapsed:  2.5min remaining:    0.0s\n",
            "[CV] colsample_bytree=0.8, subsample=0.75 ............................\n",
            "[CV]  colsample_bytree=0.8, subsample=0.75, score=0.689, total=  15.5s\n",
            "[Parallel(n_jobs=1)]: Done  11 out of  11 | elapsed:  2.8min remaining:    0.0s\n",
            "[CV] colsample_bytree=0.8, subsample=0.75 ............................\n",
            "[CV]  colsample_bytree=0.8, subsample=0.75, score=0.689, total=  15.6s\n",
            "[Parallel(n_jobs=1)]: Done  12 out of  12 | elapsed:  3.0min remaining:    0.0s\n",
            "[CV] colsample_bytree=0.8, subsample=0.8 .............................\n",
            "[CV] . colsample_bytree=0.8, subsample=0.8, score=0.687, total=  15.2s\n",
            "[Parallel(n_jobs=1)]: Done  13 out of  13 | elapsed:  3.3min remaining:    0.0s\n",
            "[CV] colsample_bytree=0.8, subsample=0.8 .............................\n",
            "[CV] . colsample_bytree=0.8, subsample=0.8, score=0.689, total=  15.2s\n",
            "[Parallel(n_jobs=1)]: Done  14 out of  14 | elapsed:  3.5min remaining:    0.0s\n",
            "[CV] colsample_bytree=0.8, subsample=0.8 .............................\n",
            "[CV] . colsample_bytree=0.8, subsample=0.8, score=0.688, total=  15.4s\n",
            "[Parallel(n_jobs=1)]: Done  15 out of  15 | elapsed:  3.8min remaining:    0.0s\n",
            "[CV] colsample_bytree=0.8, subsample=0.85 ............................\n",
            "[CV]  colsample_bytree=0.8, subsample=0.85, score=0.687, total=  15.0s\n",
            "[Parallel(n_jobs=1)]: Done  16 out of  16 | elapsed:  4.0min remaining:    0.0s\n",
            "[CV] colsample_bytree=0.8, subsample=0.85 ............................\n",
            "[CV]  colsample_bytree=0.8, subsample=0.85, score=0.689, total=  15.2s\n",
            "[Parallel(n_jobs=1)]: Done  17 out of  17 | elapsed:  4.3min remaining:    0.0s\n",
            "[CV] colsample_bytree=0.8, subsample=0.85 ............................\n",
            "[CV]  colsample_bytree=0.8, subsample=0.85, score=0.689, total=  15.2s\n",
            "[Parallel(n_jobs=1)]: Done  18 out of  18 | elapsed:  4.6min remaining:    0.0s\n",
            "[CV] colsample_bytree=0.85, subsample=0.75 ...........................\n",
            "[CV]  colsample_bytree=0.85, subsample=0.75, score=0.688, total=  16.3s\n",
            "[Parallel(n_jobs=1)]: Done  19 out of  19 | elapsed:  4.8min remaining:    0.0s\n",
            "[CV] colsample_bytree=0.85, subsample=0.75 ...........................\n",
            "[CV]  colsample_bytree=0.85, subsample=0.75, score=0.688, total=  16.2s\n",
            "[Parallel(n_jobs=1)]: Done  20 out of  20 | elapsed:  5.1min remaining:    0.0s\n",
            "[CV] colsample_bytree=0.85, subsample=0.75 ...........................\n",
            "[CV]  colsample_bytree=0.85, subsample=0.75, score=0.688, total=  16.3s\n",
            "[Parallel(n_jobs=1)]: Done  21 out of  21 | elapsed:  5.4min remaining:    0.0s\n",
            "[CV] colsample_bytree=0.85, subsample=0.8 ............................\n",
            "[CV]  colsample_bytree=0.85, subsample=0.8, score=0.688, total=  16.0s\n",
            "[Parallel(n_jobs=1)]: Done  22 out of  22 | elapsed:  5.6min remaining:    0.0s\n",
            "[CV] colsample_bytree=0.85, subsample=0.8 ............................\n",
            "[CV]  colsample_bytree=0.85, subsample=0.8, score=0.689, total=  16.0s\n",
            "[Parallel(n_jobs=1)]: Done  23 out of  23 | elapsed:  5.9min remaining:    0.0s\n",
            "[CV] colsample_bytree=0.85, subsample=0.8 ............................\n",
            "[CV]  colsample_bytree=0.85, subsample=0.8, score=0.689, total=  16.0s\n",
            "[Parallel(n_jobs=1)]: Done  24 out of  24 | elapsed:  6.2min remaining:    0.0s\n",
            "[CV] colsample_bytree=0.85, subsample=0.85 ...........................\n",
            "[CV]  colsample_bytree=0.85, subsample=0.85, score=0.687, total=  15.7s\n",
            "[Parallel(n_jobs=1)]: Done  25 out of  25 | elapsed:  6.4min remaining:    0.0s\n",
            "[CV] colsample_bytree=0.85, subsample=0.85 ...........................\n",
            "[CV]  colsample_bytree=0.85, subsample=0.85, score=0.688, total=  15.7s\n",
            "[Parallel(n_jobs=1)]: Done  26 out of  26 | elapsed:  6.7min remaining:    0.0s\n",
            "[CV] colsample_bytree=0.85, subsample=0.85 ...........................\n",
            "[CV]  colsample_bytree=0.85, subsample=0.85, score=0.689, total=  15.7s\n",
            "[Parallel(n_jobs=1)]: Done  27 out of  27 | elapsed:  7.0min remaining:    0.0s\n",
            "[Parallel(n_jobs=1)]: Done  27 out of  27 | elapsed:  7.0min finished\n"
          ],
          "name": "stdout"
        },
        {
          "output_type": "execute_result",
          "data": {
            "text/plain": [
              "({'colsample_bytree': 0.85, 'subsample': 0.8}, 0.688397534070643)"
            ]
          },
          "metadata": {
            "tags": []
          },
          "execution_count": 30
        }
      ]
    },
    {
      "cell_type": "code",
      "metadata": {
        "id": "iMKAim0DnOCj",
        "colab_type": "code",
        "colab": {}
      },
      "source": [
        "params = {'tree_method': 'hist',\n",
        "          #régression logistique pour la classification binaire, probabilité de sortie\n",
        " 'objective': 'binary:logistic',\n",
        " 'eval_metric': 'auc',\n",
        " 'learning_rate': 0.09,\n",
        " 'max_depth': 6,\n",
        " 'colsample_bytree': 0.85,\n",
        " 'subsample': 0.8,\n",
        " 'min_child_weight': 4,\n",
        " 'gamma': 0,\n",
        " 'silent': 1}"
      ],
      "execution_count": null,
      "outputs": []
    },
    {
      "cell_type": "code",
      "metadata": {
        "colab_type": "code",
        "id": "JpoGTGMgHdQF",
        "colab": {
          "base_uri": "https://localhost:8080/",
          "height": 1000
        },
        "outputId": "84475559-1ad4-4161-c3a4-135a36d97461"
      },
      "source": [
        "%%time\n",
        "\n",
        "oof_preds = np.zeros(train_sample.shape[0])\n",
        "sub_preds = np.zeros(test.shape[0])\n",
        "\n",
        "feature_importance_df = pd.DataFrame()\n",
        "\n",
        "for n_fold, (trn_idx, val_idx) in enumerate(folds.split(train_sample, y_train)):\n",
        "    \n",
        "    trn_x, trn_y = train_sample[train_cols].iloc[trn_idx], y_train.iloc[trn_idx]\n",
        "    val_x, val_y = train_sample[train_cols].iloc[val_idx], y_train.iloc[val_idx]\n",
        "    \n",
        "    dtrain = xgb.DMatrix(trn_x, trn_y, feature_names=trn_x.columns)\n",
        "    dval = xgb.DMatrix(val_x, val_y, feature_names=val_x.columns)\n",
        "    \n",
        "    clf = xgb.train(params=params, dtrain=dtrain, num_boost_round=4000, evals=[(dtrain, \"Train\"), (dval, \"Val\")],\n",
        "        verbose_eval= 100, early_stopping_rounds=50) \n",
        "    \n",
        "    oof_preds[val_idx] = clf.predict(xgb.DMatrix(val_x))\n",
        "    sub_preds += clf.predict(xgb.DMatrix(test[train_cols])) / folds.n_splits\n",
        "\n",
        "    fold_importance_df = pd.DataFrame()\n",
        "    fold_importance_df[\"feature\"] = pd.DataFrame.from_dict(data=clf.get_fscore(), orient=\"index\", columns=[\"FScore\"])[\"FScore\"].index\n",
        "    fold_importance_df[\"fscore\"] = pd.DataFrame.from_dict(data=clf.get_fscore(), orient=\"index\", columns=[\"FScore\"])[\"FScore\"].values\n",
        "    fold_importance_df[\"fold\"] = n_fold + 1\n",
        "    feature_importance_df = pd.concat([feature_importance_df, fold_importance_df], axis=0)\n",
        "\n",
        "    print('\\nFold %1d AUC %.6f & std %.6f' %(n_fold + 1, roc_auc_score(val_y, oof_preds[val_idx]), np.std([oof_preds[val_idx]])))\n",
        "    print('Fold %1d Precision %.6f' %(n_fold + 1, precision_score(val_y, np.round(oof_preds[val_idx])) ))\n",
        "    print('Fold %1d Recall %.6f' %(n_fold + 1, recall_score(val_y, np.round(oof_preds[val_idx]) )))\n",
        "    print('Fold %1d F1 score %.6f' % (n_fold + 1,f1_score(val_y, np.round(oof_preds[val_idx]))))\n",
        "    gc.collect()\n",
        "\n",
        "print('\\nCV AUC score %.6f & std %.6f' % (roc_auc_score(y_train, oof_preds), np.std((oof_preds))))\n",
        "print('CV Precision score %.6f' % (precision_score(y_train, np.round(oof_preds))))\n",
        "print('CV Recall score %.6f' % (recall_score(y_train, np.round(oof_preds))))\n",
        "print('CV F1 score %.6f' % (f1_score(y_train, np.round(oof_preds))))"
      ],
      "execution_count": null,
      "outputs": [
        {
          "output_type": "stream",
          "text": [
            "[0]\tTrain-auc:0.673604\tVal-auc:0.670803\n",
            "Multiple eval metrics have been passed: 'Val-auc' will be used for early stopping.\n",
            "\n",
            "Will train until Val-auc hasn't improved in 50 rounds.\n",
            "[100]\tTrain-auc:0.712633\tVal-auc:0.708207\n",
            "[200]\tTrain-auc:0.722187\tVal-auc:0.715448\n",
            "[300]\tTrain-auc:0.728045\tVal-auc:0.718894\n",
            "[400]\tTrain-auc:0.732571\tVal-auc:0.721047\n",
            "[500]\tTrain-auc:0.73652\tVal-auc:0.722663\n",
            "[600]\tTrain-auc:0.739978\tVal-auc:0.723737\n",
            "[700]\tTrain-auc:0.742999\tVal-auc:0.724448\n",
            "[800]\tTrain-auc:0.745969\tVal-auc:0.725073\n",
            "[900]\tTrain-auc:0.748654\tVal-auc:0.725557\n",
            "[1000]\tTrain-auc:0.751129\tVal-auc:0.725828\n",
            "[1100]\tTrain-auc:0.753487\tVal-auc:0.726077\n",
            "[1200]\tTrain-auc:0.755899\tVal-auc:0.726382\n",
            "[1300]\tTrain-auc:0.758116\tVal-auc:0.72653\n",
            "[1400]\tTrain-auc:0.760193\tVal-auc:0.726695\n",
            "[1500]\tTrain-auc:0.762372\tVal-auc:0.726896\n",
            "[1600]\tTrain-auc:0.764488\tVal-auc:0.726992\n",
            "[1700]\tTrain-auc:0.766451\tVal-auc:0.727094\n",
            "Stopping. Best iteration:\n",
            "[1699]\tTrain-auc:0.766434\tVal-auc:0.727096\n",
            "\n",
            "\n",
            "Fold 1 AUC 0.727074 & std 0.199189\n",
            "Fold 1 Precision 0.664230\n",
            "Fold 1 Recall 0.656546\n",
            "Fold 1 F1 score 0.660366\n",
            "[0]\tTrain-auc:0.672561\tVal-auc:0.67453\n",
            "Multiple eval metrics have been passed: 'Val-auc' will be used for early stopping.\n",
            "\n",
            "Will train until Val-auc hasn't improved in 50 rounds.\n",
            "[100]\tTrain-auc:0.712178\tVal-auc:0.710346\n",
            "[200]\tTrain-auc:0.721781\tVal-auc:0.716867\n",
            "[300]\tTrain-auc:0.727569\tVal-auc:0.720106\n",
            "[400]\tTrain-auc:0.732285\tVal-auc:0.722068\n",
            "[500]\tTrain-auc:0.736351\tVal-auc:0.723507\n",
            "[600]\tTrain-auc:0.739612\tVal-auc:0.724309\n",
            "[700]\tTrain-auc:0.742715\tVal-auc:0.725053\n",
            "[800]\tTrain-auc:0.745599\tVal-auc:0.725636\n",
            "[900]\tTrain-auc:0.748398\tVal-auc:0.726104\n",
            "[1000]\tTrain-auc:0.75102\tVal-auc:0.726531\n",
            "[1100]\tTrain-auc:0.753424\tVal-auc:0.726801\n",
            "[1200]\tTrain-auc:0.755836\tVal-auc:0.727072\n",
            "[1300]\tTrain-auc:0.758092\tVal-auc:0.727221\n",
            "[1400]\tTrain-auc:0.760377\tVal-auc:0.727318\n",
            "[1500]\tTrain-auc:0.762405\tVal-auc:0.727408\n",
            "Stopping. Best iteration:\n",
            "[1485]\tTrain-auc:0.762082\tVal-auc:0.727426\n",
            "\n",
            "\n",
            "Fold 2 AUC 0.727407 & std 0.197174\n",
            "Fold 2 Precision 0.663772\n",
            "Fold 2 Recall 0.655304\n",
            "Fold 2 F1 score 0.659511\n",
            "[0]\tTrain-auc:0.67318\tVal-auc:0.672451\n",
            "Multiple eval metrics have been passed: 'Val-auc' will be used for early stopping.\n",
            "\n",
            "Will train until Val-auc hasn't improved in 50 rounds.\n",
            "[100]\tTrain-auc:0.712912\tVal-auc:0.70956\n",
            "[200]\tTrain-auc:0.722492\tVal-auc:0.716359\n",
            "[300]\tTrain-auc:0.728355\tVal-auc:0.719517\n",
            "[400]\tTrain-auc:0.732828\tVal-auc:0.72165\n",
            "[500]\tTrain-auc:0.736788\tVal-auc:0.722954\n",
            "[600]\tTrain-auc:0.740216\tVal-auc:0.723997\n",
            "[700]\tTrain-auc:0.743241\tVal-auc:0.724748\n",
            "[800]\tTrain-auc:0.746041\tVal-auc:0.725237\n",
            "[900]\tTrain-auc:0.748827\tVal-auc:0.725788\n",
            "[1000]\tTrain-auc:0.751387\tVal-auc:0.726102\n",
            "[1100]\tTrain-auc:0.753752\tVal-auc:0.726452\n",
            "[1200]\tTrain-auc:0.756061\tVal-auc:0.72674\n",
            "[1300]\tTrain-auc:0.758306\tVal-auc:0.726936\n",
            "[1400]\tTrain-auc:0.760456\tVal-auc:0.727026\n",
            "[1500]\tTrain-auc:0.762673\tVal-auc:0.727139\n",
            "Stopping. Best iteration:\n",
            "[1536]\tTrain-auc:0.76341\tVal-auc:0.727205\n",
            "\n",
            "\n",
            "Fold 3 AUC 0.727190 & std 0.198544\n",
            "Fold 3 Precision 0.663313\n",
            "Fold 3 Recall 0.655781\n",
            "Fold 3 F1 score 0.659525\n",
            "[0]\tTrain-auc:0.672998\tVal-auc:0.672419\n",
            "Multiple eval metrics have been passed: 'Val-auc' will be used for early stopping.\n",
            "\n",
            "Will train until Val-auc hasn't improved in 50 rounds.\n",
            "[100]\tTrain-auc:0.712711\tVal-auc:0.70911\n",
            "[200]\tTrain-auc:0.722368\tVal-auc:0.716058\n",
            "[300]\tTrain-auc:0.728188\tVal-auc:0.719246\n",
            "[400]\tTrain-auc:0.732548\tVal-auc:0.721189\n",
            "[500]\tTrain-auc:0.736491\tVal-auc:0.722637\n",
            "[600]\tTrain-auc:0.73974\tVal-auc:0.723424\n",
            "[700]\tTrain-auc:0.742959\tVal-auc:0.724314\n",
            "[800]\tTrain-auc:0.745848\tVal-auc:0.724876\n",
            "[900]\tTrain-auc:0.748477\tVal-auc:0.725275\n",
            "[1000]\tTrain-auc:0.751144\tVal-auc:0.725635\n",
            "[1100]\tTrain-auc:0.753519\tVal-auc:0.725871\n",
            "[1200]\tTrain-auc:0.755932\tVal-auc:0.726103\n",
            "[1300]\tTrain-auc:0.758207\tVal-auc:0.726209\n",
            "[1400]\tTrain-auc:0.760336\tVal-auc:0.726423\n",
            "[1500]\tTrain-auc:0.762527\tVal-auc:0.726536\n",
            "[1600]\tTrain-auc:0.764585\tVal-auc:0.726664\n",
            "[1700]\tTrain-auc:0.766597\tVal-auc:0.726707\n",
            "Stopping. Best iteration:\n",
            "[1662]\tTrain-auc:0.76585\tVal-auc:0.726746\n",
            "\n",
            "\n",
            "Fold 4 AUC 0.726709 & std 0.198753\n",
            "Fold 4 Precision 0.664388\n",
            "Fold 4 Recall 0.652785\n",
            "Fold 4 F1 score 0.658536\n",
            "[0]\tTrain-auc:0.672854\tVal-auc:0.672817\n",
            "Multiple eval metrics have been passed: 'Val-auc' will be used for early stopping.\n",
            "\n",
            "Will train until Val-auc hasn't improved in 50 rounds.\n",
            "[100]\tTrain-auc:0.712403\tVal-auc:0.710321\n",
            "[200]\tTrain-auc:0.721578\tVal-auc:0.716887\n",
            "[300]\tTrain-auc:0.727449\tVal-auc:0.720285\n",
            "[400]\tTrain-auc:0.73217\tVal-auc:0.72256\n",
            "[500]\tTrain-auc:0.735926\tVal-auc:0.723887\n",
            "[600]\tTrain-auc:0.739349\tVal-auc:0.724992\n",
            "[700]\tTrain-auc:0.742448\tVal-auc:0.725771\n",
            "[800]\tTrain-auc:0.745331\tVal-auc:0.726406\n",
            "[900]\tTrain-auc:0.748\tVal-auc:0.726836\n",
            "[1000]\tTrain-auc:0.750505\tVal-auc:0.72715\n",
            "[1100]\tTrain-auc:0.752934\tVal-auc:0.727465\n",
            "[1200]\tTrain-auc:0.755333\tVal-auc:0.72766\n",
            "[1300]\tTrain-auc:0.757631\tVal-auc:0.727845\n",
            "Stopping. Best iteration:\n",
            "[1326]\tTrain-auc:0.758282\tVal-auc:0.727938\n",
            "\n",
            "\n",
            "Fold 5 AUC 0.727863 & std 0.196878\n",
            "Fold 5 Precision 0.665159\n",
            "Fold 5 Recall 0.654076\n",
            "Fold 5 F1 score 0.659570\n",
            "\n",
            "CV AUC score 0.727243 & std 0.198110\n",
            "CV Precision score 0.664171\n",
            "CV Recall score 0.654898\n",
            "CV F1 score 0.659502\n",
            "CPU times: user 1d 10h 10min 54s, sys: 16min 23s, total: 1d 10h 27min 17s\n",
            "Wall time: 1h 3min 36s\n"
          ],
          "name": "stdout"
        }
      ]
    },
    {
      "cell_type": "code",
      "metadata": {
        "id": "NK7BWVmeuAFZ",
        "colab_type": "code",
        "colab": {}
      },
      "source": [
        "params = {'tree_method': 'hist',\n",
        "          #régression logistique pour la classification binaire, probabilité de sortie\n",
        " 'objective': 'binary:logistic',\n",
        " 'eval_metric': 'auc',\n",
        " 'learning_rate': 0.09,\n",
        " 'max_depth': 10,\n",
        " 'colsample_bytree': 0.85,\n",
        " 'subsample': 0.8,\n",
        " 'min_child_weight': 4,\n",
        " 'gamma': 9,\n",
        " 'silent': 1}\n",
        "\n"
      ],
      "execution_count": null,
      "outputs": []
    },
    {
      "cell_type": "code",
      "metadata": {
        "colab_type": "code",
        "id": "p1rMNjCtFrn2",
        "colab": {
          "base_uri": "https://localhost:8080/",
          "height": 1000
        },
        "outputId": "21336381-6337-4db8-f995-c651c69426cf"
      },
      "source": [
        "%%time\n",
        "\n",
        "oof_preds = np.zeros(train_sample.shape[0])\n",
        "sub_preds = np.zeros(test.shape[0])\n",
        "\n",
        "feature_importance_df = pd.DataFrame()\n",
        "\n",
        "for n_fold, (trn_idx, val_idx) in enumerate(folds.split(train_sample, y_train)):\n",
        "    \n",
        "    trn_x, trn_y = train_sample[train_cols].iloc[trn_idx], y_train.iloc[trn_idx]\n",
        "    val_x, val_y = train_sample[train_cols].iloc[val_idx], y_train.iloc[val_idx]\n",
        "    \n",
        "    dtrain = xgb.DMatrix(trn_x, trn_y, feature_names=trn_x.columns)\n",
        "    dval = xgb.DMatrix(val_x, val_y, feature_names=val_x.columns)\n",
        "    \n",
        "    clf = xgb.train(params=params, dtrain=dtrain, num_boost_round=4000, evals=[(dtrain, \"Train\"), (dval, \"Val\")],\n",
        "        verbose_eval= 100, early_stopping_rounds=50) \n",
        "    \n",
        "    oof_preds[val_idx] = clf.predict(xgb.DMatrix(val_x))\n",
        "    sub_preds += clf.predict(xgb.DMatrix(test[train_cols])) / folds.n_splits\n",
        "\n",
        "    fold_importance_df = pd.DataFrame()\n",
        "    fold_importance_df[\"feature\"] = pd.DataFrame.from_dict(data=clf.get_fscore(), orient=\"index\", columns=[\"FScore\"])[\"FScore\"].index\n",
        "    fold_importance_df[\"fscore\"] = pd.DataFrame.from_dict(data=clf.get_fscore(), orient=\"index\", columns=[\"FScore\"])[\"FScore\"].values\n",
        "    fold_importance_df[\"fold\"] = n_fold + 1\n",
        "    feature_importance_df = pd.concat([feature_importance_df, fold_importance_df], axis=0)\n",
        "\n",
        "    print('\\nFold %1d AUC %.6f & std %.6f' %(n_fold + 1, roc_auc_score(val_y, oof_preds[val_idx]), np.std([oof_preds[val_idx]])))\n",
        "    print('Fold %1d Precision %.6f' %(n_fold + 1, precision_score(val_y, np.round(oof_preds[val_idx])) ))\n",
        "    print('Fold %1d Recall %.6f' %(n_fold + 1, recall_score(val_y, np.round(oof_preds[val_idx]) )))\n",
        "    print('Fold %1d F1 score %.6f' % (n_fold + 1,f1_score(val_y, np.round(oof_preds[val_idx]))))\n",
        "    gc.collect()\n",
        "\n",
        "print('\\nCV AUC score %.6f & std %.6f' % (roc_auc_score(y_train, oof_preds), np.std((oof_preds))))\n",
        "print('CV Precision score %.6f' % (precision_score(y_train, np.round(oof_preds))))\n",
        "print('CV Recall score %.6f' % (recall_score(y_train, np.round(oof_preds))))\n",
        "print('CV F1 score %.6f' % (f1_score(y_train, np.round(oof_preds))))"
      ],
      "execution_count": null,
      "outputs": [
        {
          "output_type": "stream",
          "text": [
            "[0]\tTrain-auc:0.690441\tVal-auc:0.685406\n",
            "Multiple eval metrics have been passed: 'Val-auc' will be used for early stopping.\n",
            "\n",
            "Will train until Val-auc hasn't improved in 50 rounds.\n",
            "[100]\tTrain-auc:0.736345\tVal-auc:0.721015\n",
            "[200]\tTrain-auc:0.747385\tVal-auc:0.725366\n",
            "[300]\tTrain-auc:0.754022\tVal-auc:0.726833\n",
            "[400]\tTrain-auc:0.759142\tVal-auc:0.727569\n",
            "[500]\tTrain-auc:0.763483\tVal-auc:0.728008\n",
            "[600]\tTrain-auc:0.767154\tVal-auc:0.728309\n",
            "[700]\tTrain-auc:0.770327\tVal-auc:0.728432\n",
            "[800]\tTrain-auc:0.77322\tVal-auc:0.728577\n",
            "[900]\tTrain-auc:0.775906\tVal-auc:0.728663\n",
            "Stopping. Best iteration:\n",
            "[898]\tTrain-auc:0.775877\tVal-auc:0.728676\n",
            "\n",
            "\n",
            "Fold 1 AUC 0.728653 & std 0.201058\n",
            "Fold 1 Precision 0.665563\n",
            "Fold 1 Recall 0.656636\n",
            "Fold 1 F1 score 0.661069\n",
            "[0]\tTrain-auc:0.689875\tVal-auc:0.688375\n",
            "Multiple eval metrics have been passed: 'Val-auc' will be used for early stopping.\n",
            "\n",
            "Will train until Val-auc hasn't improved in 50 rounds.\n",
            "[100]\tTrain-auc:0.736474\tVal-auc:0.721853\n",
            "[200]\tTrain-auc:0.747657\tVal-auc:0.725971\n",
            "[300]\tTrain-auc:0.754745\tVal-auc:0.727387\n",
            "[400]\tTrain-auc:0.760272\tVal-auc:0.727993\n",
            "[500]\tTrain-auc:0.764368\tVal-auc:0.728287\n",
            "[600]\tTrain-auc:0.767967\tVal-auc:0.728516\n",
            "[700]\tTrain-auc:0.771197\tVal-auc:0.728708\n",
            "[800]\tTrain-auc:0.773936\tVal-auc:0.72883\n",
            "[900]\tTrain-auc:0.776567\tVal-auc:0.728836\n",
            "Stopping. Best iteration:\n",
            "[853]\tTrain-auc:0.77524\tVal-auc:0.728899\n",
            "\n",
            "\n",
            "Fold 2 AUC 0.728831 & std 0.199958\n",
            "Fold 2 Precision 0.664771\n",
            "Fold 2 Recall 0.655641\n",
            "Fold 2 F1 score 0.660174\n",
            "[0]\tTrain-auc:0.690175\tVal-auc:0.687157\n",
            "Multiple eval metrics have been passed: 'Val-auc' will be used for early stopping.\n",
            "\n",
            "Will train until Val-auc hasn't improved in 50 rounds.\n",
            "[100]\tTrain-auc:0.736846\tVal-auc:0.721544\n",
            "[200]\tTrain-auc:0.747885\tVal-auc:0.725518\n",
            "[300]\tTrain-auc:0.754606\tVal-auc:0.727069\n",
            "[400]\tTrain-auc:0.759573\tVal-auc:0.727804\n",
            "[500]\tTrain-auc:0.763967\tVal-auc:0.728181\n",
            "[600]\tTrain-auc:0.767427\tVal-auc:0.728406\n",
            "[700]\tTrain-auc:0.770471\tVal-auc:0.728473\n",
            "[800]\tTrain-auc:0.773283\tVal-auc:0.728558\n",
            "[900]\tTrain-auc:0.776005\tVal-auc:0.728671\n",
            "[1000]\tTrain-auc:0.778568\tVal-auc:0.728707\n",
            "Stopping. Best iteration:\n",
            "[968]\tTrain-auc:0.777826\tVal-auc:0.728748\n",
            "\n",
            "\n",
            "Fold 3 AUC 0.728686 & std 0.201534\n",
            "Fold 3 Precision 0.664575\n",
            "Fold 3 Recall 0.656078\n",
            "Fold 3 F1 score 0.660300\n",
            "[0]\tTrain-auc:0.690596\tVal-auc:0.686813\n",
            "Multiple eval metrics have been passed: 'Val-auc' will be used for early stopping.\n",
            "\n",
            "Will train until Val-auc hasn't improved in 50 rounds.\n",
            "[100]\tTrain-auc:0.737283\tVal-auc:0.721276\n",
            "[200]\tTrain-auc:0.748124\tVal-auc:0.72514\n",
            "[300]\tTrain-auc:0.754518\tVal-auc:0.726607\n",
            "[400]\tTrain-auc:0.759729\tVal-auc:0.727367\n",
            "[500]\tTrain-auc:0.763817\tVal-auc:0.727732\n",
            "[600]\tTrain-auc:0.767411\tVal-auc:0.727935\n",
            "[700]\tTrain-auc:0.770786\tVal-auc:0.728075\n",
            "[800]\tTrain-auc:0.773489\tVal-auc:0.72814\n",
            "[900]\tTrain-auc:0.776099\tVal-auc:0.728195\n",
            "Stopping. Best iteration:\n",
            "[883]\tTrain-auc:0.77566\tVal-auc:0.728207\n",
            "\n",
            "\n",
            "Fold 4 AUC 0.728191 & std 0.200693\n",
            "Fold 4 Precision 0.665397\n",
            "Fold 4 Recall 0.653559\n",
            "Fold 4 F1 score 0.659425\n",
            "[0]\tTrain-auc:0.690273\tVal-auc:0.687389\n",
            "Multiple eval metrics have been passed: 'Val-auc' will be used for early stopping.\n",
            "\n",
            "Will train until Val-auc hasn't improved in 50 rounds.\n",
            "[100]\tTrain-auc:0.736715\tVal-auc:0.722513\n",
            "[200]\tTrain-auc:0.747606\tVal-auc:0.726587\n",
            "[300]\tTrain-auc:0.753926\tVal-auc:0.727888\n",
            "[400]\tTrain-auc:0.759321\tVal-auc:0.728604\n",
            "[500]\tTrain-auc:0.763434\tVal-auc:0.729026\n",
            "[600]\tTrain-auc:0.767021\tVal-auc:0.729287\n",
            "[700]\tTrain-auc:0.770271\tVal-auc:0.729495\n",
            "[800]\tTrain-auc:0.773214\tVal-auc:0.729653\n",
            "[900]\tTrain-auc:0.775808\tVal-auc:0.729755\n",
            "Stopping. Best iteration:\n",
            "[885]\tTrain-auc:0.77545\tVal-auc:0.729771\n",
            "\n",
            "\n",
            "Fold 5 AUC 0.729758 & std 0.200976\n",
            "Fold 5 Precision 0.667193\n",
            "Fold 5 Recall 0.654631\n",
            "Fold 5 F1 score 0.660852\n",
            "\n",
            "CV AUC score 0.728822 & std 0.200845\n",
            "CV Precision score 0.665498\n",
            "CV Recall score 0.655309\n",
            "CV F1 score 0.660364\n",
            "CPU times: user 1d 7h 11min 2s, sys: 15min 10s, total: 1d 7h 26min 12s\n",
            "Wall time: 59min 23s\n"
          ],
          "name": "stdout"
        }
      ]
    },
    {
      "cell_type": "markdown",
      "metadata": {
        "id": "oh37_h_I6jQ7",
        "colab_type": "text"
      },
      "source": [
        "# autre hyperparam"
      ]
    },
    {
      "cell_type": "code",
      "metadata": {
        "id": "vVtPYQcNFyz0",
        "colab_type": "code",
        "colab": {
          "base_uri": "https://localhost:8080/",
          "height": 1000
        },
        "outputId": "832d1b0b-5eb2-47ed-9a3b-580766cac282"
      },
      "source": [
        "param_test1 = {\n",
        " 'max_depth':[3,4,10],\n",
        " 'min_child_weight':[4,5,6]\n",
        "}\n",
        "gsearch2 = GridSearchCV(estimator = xgb.XGBClassifier( learning_rate =0.0936165921314771, n_estimators=35, gamma=9.943467991283027, subsample=0.8246604621518232, colsample_bytree=0.3561271102144279,\n",
        "                                                  objective= 'binary:logistic', nthread=-1, max_depth = 2,\n",
        "                                                 silent = 1 , min_child_weight = 53), \n",
        "                        param_grid = param_test1, scoring='roc_auc', n_jobs=1, iid=False, cv=3, verbose = 100)\n",
        "\n",
        "gsearch2.fit(trn_x , trn_y)\n",
        "gsearch2.best_params_, gsearch2.best_score_"
      ],
      "execution_count": null,
      "outputs": [
        {
          "output_type": "stream",
          "text": [
            "Fitting 3 folds for each of 9 candidates, totalling 27 fits\n",
            "[Parallel(n_jobs=1)]: Using backend SequentialBackend with 1 concurrent workers.\n",
            "[CV] max_depth=3, min_child_weight=4 .................................\n",
            "[CV] ..... max_depth=3, min_child_weight=4, score=0.682, total=   6.4s\n",
            "[Parallel(n_jobs=1)]: Done   1 out of   1 | elapsed:    6.4s remaining:    0.0s\n",
            "[CV] max_depth=3, min_child_weight=4 .................................\n",
            "[CV] ..... max_depth=3, min_child_weight=4, score=0.683, total=   6.3s\n",
            "[Parallel(n_jobs=1)]: Done   2 out of   2 | elapsed:   12.7s remaining:    0.0s\n",
            "[CV] max_depth=3, min_child_weight=4 .................................\n",
            "[CV] ..... max_depth=3, min_child_weight=4, score=0.684, total=   6.2s\n",
            "[Parallel(n_jobs=1)]: Done   3 out of   3 | elapsed:   18.8s remaining:    0.0s\n",
            "[CV] max_depth=3, min_child_weight=5 .................................\n",
            "[CV] ..... max_depth=3, min_child_weight=5, score=0.682, total=   6.3s\n",
            "[Parallel(n_jobs=1)]: Done   4 out of   4 | elapsed:   25.1s remaining:    0.0s\n",
            "[CV] max_depth=3, min_child_weight=5 .................................\n",
            "[CV] ..... max_depth=3, min_child_weight=5, score=0.683, total=   6.4s\n",
            "[Parallel(n_jobs=1)]: Done   5 out of   5 | elapsed:   31.5s remaining:    0.0s\n",
            "[CV] max_depth=3, min_child_weight=5 .................................\n",
            "[CV] ..... max_depth=3, min_child_weight=5, score=0.684, total=   6.2s\n",
            "[Parallel(n_jobs=1)]: Done   6 out of   6 | elapsed:   37.7s remaining:    0.0s\n",
            "[CV] max_depth=3, min_child_weight=6 .................................\n",
            "[CV] ..... max_depth=3, min_child_weight=6, score=0.682, total=   6.4s\n",
            "[Parallel(n_jobs=1)]: Done   7 out of   7 | elapsed:   44.0s remaining:    0.0s\n",
            "[CV] max_depth=3, min_child_weight=6 .................................\n",
            "[CV] ..... max_depth=3, min_child_weight=6, score=0.683, total=   6.4s\n",
            "[Parallel(n_jobs=1)]: Done   8 out of   8 | elapsed:   50.4s remaining:    0.0s\n",
            "[CV] max_depth=3, min_child_weight=6 .................................\n",
            "[CV] ..... max_depth=3, min_child_weight=6, score=0.684, total=   6.2s\n",
            "[Parallel(n_jobs=1)]: Done   9 out of   9 | elapsed:   56.6s remaining:    0.0s\n",
            "[CV] max_depth=4, min_child_weight=4 .................................\n",
            "[CV] ..... max_depth=4, min_child_weight=4, score=0.689, total=   7.4s\n",
            "[Parallel(n_jobs=1)]: Done  10 out of  10 | elapsed:  1.1min remaining:    0.0s\n",
            "[CV] max_depth=4, min_child_weight=4 .................................\n",
            "[CV] ..... max_depth=4, min_child_weight=4, score=0.691, total=   7.8s\n",
            "[Parallel(n_jobs=1)]: Done  11 out of  11 | elapsed:  1.2min remaining:    0.0s\n",
            "[CV] max_depth=4, min_child_weight=4 .................................\n",
            "[CV] ..... max_depth=4, min_child_weight=4, score=0.691, total=   7.3s\n",
            "[Parallel(n_jobs=1)]: Done  12 out of  12 | elapsed:  1.3min remaining:    0.0s\n",
            "[CV] max_depth=4, min_child_weight=5 .................................\n",
            "[CV] ..... max_depth=4, min_child_weight=5, score=0.689, total=   7.5s\n",
            "[Parallel(n_jobs=1)]: Done  13 out of  13 | elapsed:  1.4min remaining:    0.0s\n",
            "[CV] max_depth=4, min_child_weight=5 .................................\n",
            "[CV] ..... max_depth=4, min_child_weight=5, score=0.691, total=   7.5s\n",
            "[Parallel(n_jobs=1)]: Done  14 out of  14 | elapsed:  1.6min remaining:    0.0s\n",
            "[CV] max_depth=4, min_child_weight=5 .................................\n",
            "[CV] ..... max_depth=4, min_child_weight=5, score=0.691, total=   7.4s\n",
            "[Parallel(n_jobs=1)]: Done  15 out of  15 | elapsed:  1.7min remaining:    0.0s\n",
            "[CV] max_depth=4, min_child_weight=6 .................................\n",
            "[CV] ..... max_depth=4, min_child_weight=6, score=0.689, total=   7.5s\n",
            "[Parallel(n_jobs=1)]: Done  16 out of  16 | elapsed:  1.8min remaining:    0.0s\n",
            "[CV] max_depth=4, min_child_weight=6 .................................\n",
            "[CV] ..... max_depth=4, min_child_weight=6, score=0.691, total=   7.5s\n",
            "[Parallel(n_jobs=1)]: Done  17 out of  17 | elapsed:  1.9min remaining:    0.0s\n",
            "[CV] max_depth=4, min_child_weight=6 .................................\n",
            "[CV] ..... max_depth=4, min_child_weight=6, score=0.691, total=   7.4s\n",
            "[Parallel(n_jobs=1)]: Done  18 out of  18 | elapsed:  2.1min remaining:    0.0s\n",
            "[CV] max_depth=10, min_child_weight=4 ................................\n",
            "[CV] .... max_depth=10, min_child_weight=4, score=0.710, total=  17.1s\n",
            "[Parallel(n_jobs=1)]: Done  19 out of  19 | elapsed:  2.4min remaining:    0.0s\n",
            "[CV] max_depth=10, min_child_weight=4 ................................\n",
            "[CV] .... max_depth=10, min_child_weight=4, score=0.711, total=  18.4s\n",
            "[Parallel(n_jobs=1)]: Done  20 out of  20 | elapsed:  2.7min remaining:    0.0s\n",
            "[CV] max_depth=10, min_child_weight=4 ................................\n",
            "[CV] .... max_depth=10, min_child_weight=4, score=0.711, total=  17.2s\n",
            "[Parallel(n_jobs=1)]: Done  21 out of  21 | elapsed:  2.9min remaining:    0.0s\n",
            "[CV] max_depth=10, min_child_weight=5 ................................\n",
            "[CV] .... max_depth=10, min_child_weight=5, score=0.710, total=  17.5s\n",
            "[Parallel(n_jobs=1)]: Done  22 out of  22 | elapsed:  3.2min remaining:    0.0s\n",
            "[CV] max_depth=10, min_child_weight=5 ................................\n",
            "[CV] .... max_depth=10, min_child_weight=5, score=0.711, total=  17.5s\n",
            "[Parallel(n_jobs=1)]: Done  23 out of  23 | elapsed:  3.5min remaining:    0.0s\n",
            "[CV] max_depth=10, min_child_weight=5 ................................\n",
            "[CV] .... max_depth=10, min_child_weight=5, score=0.711, total=  17.4s\n",
            "[Parallel(n_jobs=1)]: Done  24 out of  24 | elapsed:  3.8min remaining:    0.0s\n",
            "[CV] max_depth=10, min_child_weight=6 ................................\n",
            "[CV] .... max_depth=10, min_child_weight=6, score=0.710, total=  17.5s\n",
            "[Parallel(n_jobs=1)]: Done  25 out of  25 | elapsed:  4.1min remaining:    0.0s\n",
            "[CV] max_depth=10, min_child_weight=6 ................................\n",
            "[CV] .... max_depth=10, min_child_weight=6, score=0.711, total=  17.5s\n",
            "[Parallel(n_jobs=1)]: Done  26 out of  26 | elapsed:  4.4min remaining:    0.0s\n",
            "[CV] max_depth=10, min_child_weight=6 ................................\n",
            "[CV] .... max_depth=10, min_child_weight=6, score=0.711, total=  17.2s\n",
            "[Parallel(n_jobs=1)]: Done  27 out of  27 | elapsed:  4.7min remaining:    0.0s\n",
            "[Parallel(n_jobs=1)]: Done  27 out of  27 | elapsed:  4.7min finished\n"
          ],
          "name": "stdout"
        },
        {
          "output_type": "execute_result",
          "data": {
            "text/plain": [
              "({'max_depth': 10, 'min_child_weight': 4}, 0.710705813463072)"
            ]
          },
          "metadata": {
            "tags": []
          },
          "execution_count": 36
        }
      ]
    },
    {
      "cell_type": "code",
      "metadata": {
        "id": "wEVtV8skBG-i",
        "colab_type": "code",
        "colab": {}
      },
      "source": [
        "\n",
        "params = {'tree_method': 'hist',\n",
        "          #régression logistique pour la classification binaire, probabilité de sortie\n",
        " 'objective': 'binary:logistic',\n",
        " 'eval_metric': 'auc',\n",
        " 'learning_rate': 0.0936165921314771,\n",
        " 'max_depth': 10,\n",
        " 'colsample_bytree': 0.3561271102144279,\n",
        " 'subsample': 0.8246604621518232,\n",
        " 'min_child_weight': 4,\n",
        " 'gamma': 9.943467991283027,\n",
        " 'silent': 1}"
      ],
      "execution_count": null,
      "outputs": []
    },
    {
      "cell_type": "code",
      "metadata": {
        "id": "77V13FBXBesA",
        "colab_type": "code",
        "colab": {
          "base_uri": "https://localhost:8080/",
          "height": 1000
        },
        "outputId": "5d17611f-d5f5-4844-cd75-2915abe3ac44"
      },
      "source": [
        "%%time\n",
        "\n",
        "oof_preds = np.zeros(train_sample.shape[0])\n",
        "sub_preds = np.zeros(test.shape[0])\n",
        "\n",
        "feature_importance_df = pd.DataFrame()\n",
        "\n",
        "for n_fold, (trn_idx, val_idx) in enumerate(folds.split(train_sample, y_train)):\n",
        "    \n",
        "    trn_x, trn_y = train_sample[train_cols].iloc[trn_idx], y_train.iloc[trn_idx]\n",
        "    val_x, val_y = train_sample[train_cols].iloc[val_idx], y_train.iloc[val_idx]\n",
        "    \n",
        "    dtrain = xgb.DMatrix(trn_x, trn_y, feature_names=trn_x.columns)\n",
        "    dval = xgb.DMatrix(val_x, val_y, feature_names=val_x.columns)\n",
        "    \n",
        "    clf = xgb.train(params=params, dtrain=dtrain, num_boost_round=4000, evals=[(dtrain, \"Train\"), (dval, \"Val\")],\n",
        "        verbose_eval= 100, early_stopping_rounds=50) \n",
        "    \n",
        "    oof_preds[val_idx] = clf.predict(xgb.DMatrix(val_x))\n",
        "    sub_preds += clf.predict(xgb.DMatrix(test[train_cols])) / folds.n_splits\n",
        "\n",
        "    fold_importance_df = pd.DataFrame()\n",
        "    fold_importance_df[\"feature\"] = pd.DataFrame.from_dict(data=clf.get_fscore(), orient=\"index\", columns=[\"FScore\"])[\"FScore\"].index\n",
        "    fold_importance_df[\"fscore\"] = pd.DataFrame.from_dict(data=clf.get_fscore(), orient=\"index\", columns=[\"FScore\"])[\"FScore\"].values\n",
        "    fold_importance_df[\"fold\"] = n_fold + 1\n",
        "    feature_importance_df = pd.concat([feature_importance_df, fold_importance_df], axis=0)\n",
        "\n",
        "    print('\\nFold %1d AUC %.6f & std %.6f' %(n_fold + 1, roc_auc_score(val_y, oof_preds[val_idx]), np.std([oof_preds[val_idx]])))\n",
        "    print('Fold %1d Precision %.6f' %(n_fold + 1, precision_score(val_y, np.round(oof_preds[val_idx])) ))\n",
        "    print('Fold %1d Recall %.6f' %(n_fold + 1, recall_score(val_y, np.round(oof_preds[val_idx]) )))\n",
        "    print('Fold %1d F1 score %.6f' % (n_fold + 1,f1_score(val_y, np.round(oof_preds[val_idx]))))\n",
        "    #print('Fold %1d Kappa score %.6f\\n' % (n_fold + 1,cohen_kappa_score(val_y, np.round(oof_preds[val_idx]))))\n",
        "    gc.collect()\n",
        "\n",
        "print('\\nCV AUC score %.6f & std %.6f' % (roc_auc_score(y_train, oof_preds), np.std((oof_preds))))\n",
        "print('CV Precision score %.6f' % (precision_score(y_train, np.round(oof_preds))))\n",
        "print('CV Recall score %.6f' % (recall_score(y_train, np.round(oof_preds))))\n",
        "print('CV F1 score %.6f' % (f1_score(y_train, np.round(oof_preds))))\n"
      ],
      "execution_count": null,
      "outputs": [
        {
          "output_type": "stream",
          "text": [
            "[0]\tTrain-auc:0.640734\tVal-auc:0.637005\n",
            "Multiple eval metrics have been passed: 'Val-auc' will be used for early stopping.\n",
            "\n",
            "Will train until Val-auc hasn't improved in 50 rounds.\n",
            "[100]\tTrain-auc:0.730863\tVal-auc:0.720154\n",
            "[200]\tTrain-auc:0.738579\tVal-auc:0.724393\n",
            "[300]\tTrain-auc:0.742608\tVal-auc:0.726223\n",
            "[400]\tTrain-auc:0.745384\tVal-auc:0.727065\n",
            "[500]\tTrain-auc:0.747809\tVal-auc:0.727679\n",
            "[600]\tTrain-auc:0.749833\tVal-auc:0.728077\n",
            "[700]\tTrain-auc:0.751553\tVal-auc:0.72837\n",
            "[800]\tTrain-auc:0.753066\tVal-auc:0.728576\n",
            "[900]\tTrain-auc:0.754581\tVal-auc:0.72883\n",
            "[1000]\tTrain-auc:0.755988\tVal-auc:0.729008\n",
            "[1100]\tTrain-auc:0.757257\tVal-auc:0.729132\n",
            "[1200]\tTrain-auc:0.758396\tVal-auc:0.729251\n",
            "[1300]\tTrain-auc:0.759561\tVal-auc:0.729391\n",
            "[1400]\tTrain-auc:0.760679\tVal-auc:0.729504\n",
            "[1500]\tTrain-auc:0.761639\tVal-auc:0.729598\n",
            "[1600]\tTrain-auc:0.762689\tVal-auc:0.729648\n",
            "[1700]\tTrain-auc:0.763665\tVal-auc:0.729721\n",
            "Stopping. Best iteration:\n",
            "[1679]\tTrain-auc:0.763474\tVal-auc:0.729725\n",
            "\n",
            "\n",
            "Fold 1 AUC 0.729720 & std 0.199398\n",
            "Fold 1 Precision 0.665585\n",
            "Fold 1 Recall 0.658049\n",
            "Fold 1 F1 score 0.661796\n",
            "[0]\tTrain-auc:0.641179\tVal-auc:0.638928\n",
            "Multiple eval metrics have been passed: 'Val-auc' will be used for early stopping.\n",
            "\n",
            "Will train until Val-auc hasn't improved in 50 rounds.\n",
            "[100]\tTrain-auc:0.731105\tVal-auc:0.721666\n",
            "[200]\tTrain-auc:0.738572\tVal-auc:0.725387\n",
            "[300]\tTrain-auc:0.742319\tVal-auc:0.726738\n",
            "[400]\tTrain-auc:0.745138\tVal-auc:0.727476\n",
            "[500]\tTrain-auc:0.747655\tVal-auc:0.728118\n",
            "[600]\tTrain-auc:0.749903\tVal-auc:0.728531\n",
            "[700]\tTrain-auc:0.751594\tVal-auc:0.728785\n",
            "[800]\tTrain-auc:0.753184\tVal-auc:0.728947\n",
            "[900]\tTrain-auc:0.754651\tVal-auc:0.729015\n",
            "[1000]\tTrain-auc:0.756179\tVal-auc:0.729225\n",
            "[1100]\tTrain-auc:0.757409\tVal-auc:0.729286\n",
            "[1200]\tTrain-auc:0.758582\tVal-auc:0.72937\n",
            "[1300]\tTrain-auc:0.759682\tVal-auc:0.729447\n",
            "Stopping. Best iteration:\n",
            "[1339]\tTrain-auc:0.76004\tVal-auc:0.729462\n",
            "\n",
            "\n",
            "Fold 2 AUC 0.729450 & std 0.197303\n",
            "Fold 2 Precision 0.665538\n",
            "Fold 2 Recall 0.656376\n",
            "Fold 2 F1 score 0.660925\n",
            "[0]\tTrain-auc:0.641088\tVal-auc:0.63708\n",
            "Multiple eval metrics have been passed: 'Val-auc' will be used for early stopping.\n",
            "\n",
            "Will train until Val-auc hasn't improved in 50 rounds.\n",
            "[100]\tTrain-auc:0.731751\tVal-auc:0.721206\n",
            "[200]\tTrain-auc:0.738893\tVal-auc:0.724742\n",
            "[300]\tTrain-auc:0.742776\tVal-auc:0.726337\n",
            "[400]\tTrain-auc:0.745666\tVal-auc:0.727106\n",
            "[500]\tTrain-auc:0.748069\tVal-auc:0.727627\n",
            "[600]\tTrain-auc:0.750169\tVal-auc:0.72803\n",
            "[700]\tTrain-auc:0.751865\tVal-auc:0.728332\n",
            "[800]\tTrain-auc:0.753301\tVal-auc:0.728584\n",
            "[900]\tTrain-auc:0.754611\tVal-auc:0.728699\n",
            "[1000]\tTrain-auc:0.756076\tVal-auc:0.72884\n",
            "[1100]\tTrain-auc:0.757233\tVal-auc:0.728974\n",
            "[1200]\tTrain-auc:0.758436\tVal-auc:0.729075\n",
            "[1300]\tTrain-auc:0.759629\tVal-auc:0.729171\n",
            "[1400]\tTrain-auc:0.760649\tVal-auc:0.729221\n",
            "[1500]\tTrain-auc:0.761621\tVal-auc:0.729293\n",
            "[1600]\tTrain-auc:0.762517\tVal-auc:0.729344\n",
            "[1700]\tTrain-auc:0.763573\tVal-auc:0.729389\n",
            "[1800]\tTrain-auc:0.764486\tVal-auc:0.729411\n",
            "Stopping. Best iteration:\n",
            "[1750]\tTrain-auc:0.76403\tVal-auc:0.729423\n",
            "\n",
            "\n",
            "Fold 3 AUC 0.729411 & std 0.199536\n",
            "Fold 3 Precision 0.664932\n",
            "Fold 3 Recall 0.656437\n",
            "Fold 3 F1 score 0.660657\n",
            "[0]\tTrain-auc:0.641723\tVal-auc:0.637245\n",
            "Multiple eval metrics have been passed: 'Val-auc' will be used for early stopping.\n",
            "\n",
            "Will train until Val-auc hasn't improved in 50 rounds.\n",
            "[100]\tTrain-auc:0.731556\tVal-auc:0.72094\n",
            "[200]\tTrain-auc:0.738917\tVal-auc:0.724711\n",
            "[300]\tTrain-auc:0.742836\tVal-auc:0.726153\n",
            "[400]\tTrain-auc:0.74576\tVal-auc:0.726866\n",
            "[500]\tTrain-auc:0.748292\tVal-auc:0.727512\n",
            "[600]\tTrain-auc:0.750191\tVal-auc:0.727934\n",
            "[700]\tTrain-auc:0.752015\tVal-auc:0.728242\n",
            "[800]\tTrain-auc:0.753526\tVal-auc:0.728445\n",
            "[900]\tTrain-auc:0.754934\tVal-auc:0.728698\n",
            "[1000]\tTrain-auc:0.756368\tVal-auc:0.728873\n",
            "[1100]\tTrain-auc:0.757577\tVal-auc:0.728957\n",
            "[1200]\tTrain-auc:0.758688\tVal-auc:0.729041\n",
            "[1300]\tTrain-auc:0.75978\tVal-auc:0.729127\n",
            "[1400]\tTrain-auc:0.760913\tVal-auc:0.729219\n",
            "[1500]\tTrain-auc:0.76183\tVal-auc:0.729276\n",
            "Stopping. Best iteration:\n",
            "[1502]\tTrain-auc:0.76186\tVal-auc:0.72929\n",
            "\n",
            "\n",
            "Fold 4 AUC 0.729276 & std 0.198417\n",
            "Fold 4 Precision 0.665642\n",
            "Fold 4 Recall 0.654738\n",
            "Fold 4 F1 score 0.660145\n",
            "[0]\tTrain-auc:0.641122\tVal-auc:0.638572\n",
            "Multiple eval metrics have been passed: 'Val-auc' will be used for early stopping.\n",
            "\n",
            "Will train until Val-auc hasn't improved in 50 rounds.\n",
            "[100]\tTrain-auc:0.730929\tVal-auc:0.721684\n",
            "[200]\tTrain-auc:0.738305\tVal-auc:0.725662\n",
            "[300]\tTrain-auc:0.742629\tVal-auc:0.727316\n",
            "[400]\tTrain-auc:0.745362\tVal-auc:0.728046\n",
            "[500]\tTrain-auc:0.747668\tVal-auc:0.728519\n",
            "[600]\tTrain-auc:0.74977\tVal-auc:0.728984\n",
            "[700]\tTrain-auc:0.751431\tVal-auc:0.729232\n",
            "[800]\tTrain-auc:0.753068\tVal-auc:0.729563\n",
            "[900]\tTrain-auc:0.754416\tVal-auc:0.729762\n",
            "[1000]\tTrain-auc:0.755847\tVal-auc:0.729913\n",
            "[1100]\tTrain-auc:0.757104\tVal-auc:0.730081\n",
            "[1200]\tTrain-auc:0.758289\tVal-auc:0.730158\n",
            "[1300]\tTrain-auc:0.759376\tVal-auc:0.730289\n",
            "[1400]\tTrain-auc:0.760389\tVal-auc:0.730379\n",
            "[1500]\tTrain-auc:0.761305\tVal-auc:0.730503\n",
            "[1600]\tTrain-auc:0.762285\tVal-auc:0.730529\n",
            "[1700]\tTrain-auc:0.763341\tVal-auc:0.730547\n",
            "Stopping. Best iteration:\n",
            "[1659]\tTrain-auc:0.762917\tVal-auc:0.730566\n",
            "\n",
            "\n",
            "Fold 5 AUC 0.730548 & std 0.199191\n",
            "Fold 5 Precision 0.666650\n",
            "Fold 5 Recall 0.655231\n",
            "Fold 5 F1 score 0.660891\n",
            "\n",
            "CV AUC score 0.729678 & std 0.198771\n",
            "CV Precision score 0.665668\n",
            "CV Recall score 0.656166\n",
            "CV F1 score 0.660883\n",
            "CPU times: user 2d 3h 10min 55s, sys: 25min 59s, total: 2d 3h 36min 55s\n",
            "Wall time: 1h 36min 52s\n"
          ],
          "name": "stdout"
        }
      ]
    }
  ]
}